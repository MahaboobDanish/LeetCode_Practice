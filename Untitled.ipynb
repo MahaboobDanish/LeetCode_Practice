{
 "cells": [
  {
   "cell_type": "code",
   "execution_count": 23,
   "id": "2ad30a4d",
   "metadata": {},
   "outputs": [
    {
     "name": "stdout",
     "output_type": "stream",
     "text": [
      "39\n",
      "39\n",
      "103\n",
      "39\n"
     ]
    }
   ],
   "source": [
    "decimal_value = 0\n",
    "power = 0\n",
    "binary_str = '100111'\n",
    "print(int(binary_str, 2))\n",
    "for bit in reversed(binary_str):\n",
    "        if bit == '1':\n",
    "            decimal_value += 2 ** power\n",
    "        power += 1\n",
    "    \n",
    "print(decimal_value)\n",
    "\n",
    "ans = ''\n",
    "while decimal_value>0:\n",
    "    ans+=str(decimal_value%6)\n",
    "    decimal_value//=6\n",
    "# print(ans)\n",
    "print(ans[::-1])\n",
    "print(int('103',6))"
   ]
  },
  {
   "cell_type": "code",
   "execution_count": 25,
   "id": "b07729b3",
   "metadata": {},
   "outputs": [
    {
     "name": "stdout",
     "output_type": "stream",
     "text": [
      "4294967296\n",
      "4294967295\n"
     ]
    }
   ],
   "source": [
    "bit_width = 32\n",
    "number = -1\n",
    "print((1 << bit_width))\n",
    "two_complement = (1 << bit_width) + number\n",
    "print(two_complement)"
   ]
  },
  {
   "cell_type": "code",
   "execution_count": 28,
   "id": "ac461973",
   "metadata": {},
   "outputs": [
    {
     "name": "stdout",
     "output_type": "stream",
     "text": [
      "21\n"
     ]
    }
   ],
   "source": [
    "def oct_to_dec(num):\n",
    "    power = 0\n",
    "    dec = 0\n",
    "    for i in reversed(num):\n",
    "        dec+=(8**power)*int(i)\n",
    "        power+=1\n",
    "    print(dec)\n",
    "oct_to_dec('25')"
   ]
  },
  {
   "cell_type": "code",
   "execution_count": 32,
   "id": "7b76a5d1",
   "metadata": {},
   "outputs": [
    {
     "name": "stdout",
     "output_type": "stream",
     "text": [
      ">>>>>>>>>>>>>> A\n",
      "freq[s[right]]1\n",
      "max count 1\n",
      "{'A': 1}\n",
      ">>>>>>>>>>>>>> B\n",
      "freq[s[right]]1\n",
      "max count 1\n",
      "{'A': 1, 'B': 1}\n",
      ">>>>>>>>>>>>>> A\n",
      "freq[s[right]]2\n",
      "max count 2\n",
      "{'A': 2, 'B': 1}\n",
      ">>>>>>>>>>>>>> B\n",
      "freq[s[right]]2\n",
      "max count 2\n",
      "{'A': 2, 'B': 2}\n",
      "4\n",
      "-=---------------------------------------------\n",
      ">>>>>>>>>>>>>> A\n",
      "freq[s[right]]1\n",
      "max count 1\n",
      "{'A': 1}\n",
      ">>>>>>>>>>>>>> A\n",
      "freq[s[right]]2\n",
      "max count 2\n",
      "{'A': 2}\n",
      ">>>>>>>>>>>>>> B\n",
      "freq[s[right]]1\n",
      "max count 2\n",
      "{'A': 2, 'B': 1}\n",
      ">>>>>>>>>>>>>> A\n",
      "freq[s[right]]3\n",
      "max count 3\n",
      "{'A': 3, 'B': 1}\n",
      ">>>>>>>>>>>>>> B\n",
      "freq[s[right]]2\n",
      "max count 3\n",
      "<<<<<<<<<<<<<<< A\n",
      "freq[s[left]]2\n",
      "left 1\n",
      "{'A': 2, 'B': 2}\n",
      ">>>>>>>>>>>>>> B\n",
      "freq[s[right]]3\n",
      "max count 3\n",
      "<<<<<<<<<<<<<<< A\n",
      "freq[s[left]]1\n",
      "left 2\n",
      "{'A': 1, 'B': 3}\n",
      ">>>>>>>>>>>>>> A\n",
      "freq[s[right]]2\n",
      "max count 3\n",
      "<<<<<<<<<<<<<<< B\n",
      "freq[s[left]]2\n",
      "left 3\n",
      "{'A': 2, 'B': 2}\n",
      "4\n"
     ]
    }
   ],
   "source": [
    "def characterReplacement(s: str, k: int) -> int:\n",
    "    left = 0\n",
    "    max_count = 0\n",
    "    freq = {}\n",
    "\n",
    "    for right in range(len(s)):\n",
    "        # Increment the count of the current character\n",
    "        print(\">>>>>>>>>>>>>>\", s[right])\n",
    "        freq[s[right]] = freq.get(s[right], 0) + 1\n",
    "        print(f'freq[s[right]]{freq[s[right]]}')\n",
    "        # Find the count of the most frequent character in the current window\n",
    "        max_count = max(max_count, freq[s[right]])\n",
    "        print(f'max count {max_count}')\n",
    "        # Check if we need to shrink the window\n",
    "        if (right - left + 1) - max_count > k:\n",
    "            freq[s[left]] -= 1\n",
    "            print(\"<<<<<<<<<<<<<<<\", s[left])\n",
    "            print(f'freq[s[left]]{freq[s[left]]}')\n",
    "            left += 1\n",
    "            print(f'left {left}')\n",
    "        print(freq)\n",
    "    return len(s) - left\n",
    "\n",
    "# Example usage:\n",
    "s1 = \"ABAB\"\n",
    "k1 = 2\n",
    "print(characterReplacement(s1, k1))  # Output: 4\n",
    "print(\"-=---------------------------------------------\")\n",
    "s2 = \"AABABBA\"\n",
    "k2 = 1\n",
    "print(characterReplacement(s2, k2))  # Output: 4\n"
   ]
  },
  {
   "cell_type": "code",
   "execution_count": 36,
   "id": "a28e843c",
   "metadata": {},
   "outputs": [
    {
     "ename": "IndexError",
     "evalue": "list index out of range",
     "output_type": "error",
     "traceback": [
      "\u001b[0;31m---------------------------------------------------------------------------\u001b[0m",
      "\u001b[0;31mIndexError\u001b[0m                                Traceback (most recent call last)",
      "Cell \u001b[0;32mIn[36], line 16\u001b[0m\n\u001b[1;32m     14\u001b[0m     \u001b[38;5;28mprint\u001b[39m(sum_d)\n\u001b[1;32m     15\u001b[0m don \u001b[38;5;241m=\u001b[39m [[\u001b[38;5;241m-\u001b[39m\u001b[38;5;241m2\u001b[39m,\u001b[38;5;241m-\u001b[39m\u001b[38;5;241m3\u001b[39m,\u001b[38;5;241m3\u001b[39m],[\u001b[38;5;241m-\u001b[39m\u001b[38;5;241m5\u001b[39m,\u001b[38;5;241m-\u001b[39m\u001b[38;5;241m10\u001b[39m,\u001b[38;5;241m1\u001b[39m],[\u001b[38;5;241m10\u001b[39m,\u001b[38;5;241m30\u001b[39m,\u001b[38;5;241m-\u001b[39m\u001b[38;5;241m5\u001b[39m]]\n\u001b[0;32m---> 16\u001b[0m \u001b[43mdungeon\u001b[49m\u001b[43m(\u001b[49m\u001b[43mdon\u001b[49m\u001b[43m)\u001b[49m\n",
      "Cell \u001b[0;32mIn[36], line 7\u001b[0m, in \u001b[0;36mdungeon\u001b[0;34m(don)\u001b[0m\n\u001b[1;32m      5\u001b[0m \u001b[38;5;28;01mwhile\u001b[39;00m i\u001b[38;5;241m!=\u001b[39m\u001b[38;5;28mlen\u001b[39m(don):\n\u001b[1;32m      6\u001b[0m     \u001b[38;5;28;01mwhile\u001b[39;00m j\u001b[38;5;241m!=\u001b[39m\u001b[38;5;28mlen\u001b[39m(don[\u001b[38;5;241m0\u001b[39m]):\n\u001b[0;32m----> 7\u001b[0m         \u001b[38;5;28;01mif\u001b[39;00m sum_d\u001b[38;5;241m+\u001b[39m\u001b[43mdon\u001b[49m\u001b[43m[\u001b[49m\u001b[43mi\u001b[49m\u001b[43m]\u001b[49m\u001b[43m[\u001b[49m\u001b[43mj\u001b[49m\u001b[38;5;241;43m+\u001b[39;49m\u001b[38;5;241;43m1\u001b[39;49m\u001b[43m]\u001b[49m\u001b[38;5;241m>\u001b[39msum_d\u001b[38;5;241m+\u001b[39mdon[i\u001b[38;5;241m+\u001b[39m\u001b[38;5;241m1\u001b[39m][j]:\n\u001b[1;32m      8\u001b[0m             sum_d\u001b[38;5;241m+\u001b[39m\u001b[38;5;241m=\u001b[39mdon[i][j\u001b[38;5;241m+\u001b[39m\u001b[38;5;241m1\u001b[39m]\n\u001b[1;32m      9\u001b[0m             j\u001b[38;5;241m+\u001b[39m\u001b[38;5;241m=\u001b[39m\u001b[38;5;241m1\u001b[39m\n",
      "\u001b[0;31mIndexError\u001b[0m: list index out of range"
     ]
    }
   ],
   "source": [
    "def dungeon(don):\n",
    "    i = 0\n",
    "    j = 0\n",
    "    sum_d = don[i][j]\n",
    "    while i!=len(don):\n",
    "        while j!=len(don[0]):\n",
    "            if sum_d+don[i][j+1]>sum_d+don[i+1][j]:\n",
    "                sum_d+=don[i][j+1]\n",
    "                j+=1\n",
    "            else:\n",
    "                sum_d+=don[i+1][j]\n",
    "                i+=1\n",
    "        print(sum_d)\n",
    "    print(sum_d)\n",
    "don = [[-2,-3,3],[-5,-10,1],[10,30,-5]]\n",
    "dungeon(don)"
   ]
  },
  {
   "cell_type": "code",
   "execution_count": null,
   "id": "bb5b80af",
   "metadata": {},
   "outputs": [],
   "source": [
    "# # Error\n",
    "# def dungeon(don):\n",
    "#     i = 1\n",
    "#     j = 1\n",
    "#     sum_d = don[i][j]\n",
    "#     while i!=len(don):\n",
    "#         while j!=len(don[0]):\n",
    "#             if sum_d+don[i-1][j]>sum_d+don[i][j-1]:\n",
    "#                 sum_d+=don[i-1][j]\n",
    "#                 j+=1\n",
    "#             else:\n",
    "#                 sum_d+=don[i][j-1]\n",
    "#                 i+=1\n",
    "#         print(sum_d)\n",
    "#     print(sum_d)\n",
    "# don = [[-2,-3,3],[-5,-10,1],[10,30,-5]]\n",
    "# dungeon(don)"
   ]
  },
  {
   "cell_type": "code",
   "execution_count": 10,
   "id": "54710b36",
   "metadata": {},
   "outputs": [
    {
     "name": "stdout",
     "output_type": "stream",
     "text": [
      "6\n",
      "After 1st for loop [[0, 0, 0], [0, 0, 0], [1, 1, 6]]\n",
      "After 2nd for loop [[0, 0, 2], [0, 0, 5], [1, 1, 6]]\n",
      ">>>>>>>> i: 1\n",
      "<<<<<<< j: 1\n",
      "min is compared b/w: 1 and 5\n",
      "new updated d[i][j] is min - : -10\n",
      "<<<<<<< j: 0\n",
      "min is compared b/w: 1 and 11\n",
      "new updated d[i][j] is min - : -5\n",
      ">>>>>>>> i: 0\n",
      "<<<<<<< j: 1\n",
      "min is compared b/w: 11 and 2\n",
      "new updated d[i][j] is min - : -3\n",
      "<<<<<<< j: 0\n",
      "min is compared b/w: 6 and 5\n",
      "new updated d[i][j] is min - : -2\n",
      "[[7, 5, 2], [6, 11, 5], [1, 1, 6]]\n",
      "7\n",
      "1\n",
      "After 1st for loop [[0, 0], [6, 1]]\n",
      "After 2nd for loop [[0, 4], [6, 1]]\n",
      ">>>>>>>> i: 0\n",
      "<<<<<<< j: 0\n",
      "min is compared b/w: 6 and 4\n",
      "new updated d[i][j] is min - : 0\n",
      "[[4, 4], [6, 1]]\n",
      "4\n",
      "-5\n"
     ]
    }
   ],
   "source": [
    "def calculateMinimumHP(dungeon):\n",
    "    m, n = len(dungeon), len(dungeon[0])\n",
    "    dp = [[0] * n for _ in range(m)]\n",
    "    \n",
    "    # Initialize the bottom-right corner (princess's room)\n",
    "    dp[-1][-1] = max(1, 1 - dungeon[-1][-1])\n",
    "    print(dp[-1][-1])\n",
    "    \n",
    "    # Fill the last row (moving only to the right)\n",
    "    for i in range(n - 2, -1, -1):\n",
    "        dp[-1][i] = max(1, dp[-1][i + 1] - dungeon[-1][i])\n",
    "    print(f'After 1st for loop {dp}')\n",
    "    # Fill the last column (moving only downwards)\n",
    "    for i in range(m - 2, -1, -1):\n",
    "        dp[i][-1] = max(1, dp[i + 1][-1] - dungeon[i][-1])\n",
    "    print(f'After 2nd for loop {dp}')\n",
    "    # Fill the rest of the dp array\n",
    "    for i in range(m - 2, -1, -1):\n",
    "        print(f'>>>>>>>> i: {i}')\n",
    "        for j in range(n - 2, -1, -1):\n",
    "            print(f'<<<<<<< j: {j}')\n",
    "            min_health_on_exit = min(dp[i + 1][j], dp[i][j + 1])\n",
    "            print(f'min is compared b/w: {dp[i + 1][j]} and {dp[i][j+1]}')\n",
    "            dp[i][j] = max(1, min_health_on_exit - dungeon[i][j])\n",
    "            print(f'new updated d[i][j] is min - : {dungeon[i][j]} and {dp[i][j+1]}')\n",
    "    \n",
    "    # The minimum initial health required to rescue the princess\n",
    "    print(dp)\n",
    "    return dp[0][0]\n",
    "\n",
    "# Example usage:\n",
    "dungeon1 = [\n",
    "    [-2, -3, 3],\n",
    "    [-5, -10, 1],\n",
    "    [10, 30, -5]\n",
    "]\n",
    "print(calculateMinimumHP(dungeon1))  # Output: 7\n",
    "\n",
    "dungeon2 = [\n",
    "    [0, -3],\n",
    "    [-5, 0]\n",
    "]\n",
    "print(calculateMinimumHP(dungeon2))  # Output: 6\n",
    "print(dungeon1[-1][2])"
   ]
  },
  {
   "cell_type": "markdown",
   "id": "fe7ae341",
   "metadata": {},
   "source": [
    "Given an undirected graph graph that is represented by its adjacency matrix, return whether or not is it possible to add no more than two edges to this graph in order to make all the degrees of nodes even. Keep in mind that in the resulting graph there should be at most one edge between any pair of nodes."
   ]
  },
  {
   "cell_type": "code",
   "execution_count": 33,
   "id": "aebae10d",
   "metadata": {},
   "outputs": [
    {
     "name": "stdout",
     "output_type": "stream",
     "text": [
      "[3, 2, 3, 2, 0]\n",
      "[0, 2]\n",
      "2\n",
      "0 2\n",
      "False\n"
     ]
    }
   ],
   "source": [
    "def can_make_degrees_even(graph):\n",
    "    n = len(graph)\n",
    "    \n",
    "    # Calculate degrees of all nodes\n",
    "    degrees = [sum(row) for row in graph]\n",
    "    print(degrees)\n",
    "    \n",
    "    # Find nodes with odd degrees\n",
    "    odd_degree_nodes = [i for i in range(n) if degrees[i] % 2 != 0]\n",
    "    print(odd_degree_nodes)\n",
    "    odd_count = len(odd_degree_nodes)\n",
    "    print(odd_count)\n",
    "    \n",
    "    # Check the conditions mentioned\n",
    "    if odd_count == 0:\n",
    "        return True\n",
    "    elif odd_count == 2:\n",
    "        # Check if there's no edge already between the two odd-degree nodes\n",
    "        u, v = odd_degree_nodes\n",
    "        print(u,v)\n",
    "#         print(graph[4][7])\n",
    "        if not graph[u][v]:\n",
    "            print(\"inside the kv\")\n",
    "            return True\n",
    "    elif odd_count == 4:\n",
    "        u, v, w, x = odd_degree_nodes\n",
    "        \n",
    "        # Check if we can add two edges between these nodes\n",
    "        if not graph[u][v] and not graph[w][x]:\n",
    "            return True\n",
    "        if not graph[u][w] and not graph[v][x]:\n",
    "            return True\n",
    "        if not graph[u][x] and not graph[v][w]:\n",
    "            return True\n",
    "    \n",
    "    return False\n",
    "\n",
    "# Example usage\n",
    "\n",
    "# graph = [[False, True, True, True],\n",
    "#          [True, False, True, False],\n",
    "#          [True, True, False, True],\n",
    "#          [True, False, True, False]]\n",
    "\n",
    "# graph = [\n",
    "#     [False, True, False, False],\n",
    "#     [True, False, True, False],\n",
    "#     [False, True, False, True],\n",
    "#     [False, False, True, False]]\n",
    "\n",
    "# graph = [\n",
    "#     [False, True, False, True, False, False, False, False], \n",
    "#     [True, False, True, False, False, False, False, False], \n",
    "#     [False, True, False, True, False, False, False, False], \n",
    "#     [True, False, True, False, False, False, False, False], \n",
    "#     [False, False, False, False, False, True, True, True], \n",
    "#     [False, False, False, False, True, False, False, True], \n",
    "#     [False, False, False, False, True, False, False, True], \n",
    "#     [False, False, False, False, True, True, True, False]\n",
    "# ]\n",
    "\n",
    "# Example for Case > 4: More than four nodes with odd degrees\n",
    "graph = [\n",
    "    [0, 1, 1, 1, 0],\n",
    "    [1, 0, 1, 0, 0],  # Five nodes with odd degrees\n",
    "    [1, 1, 0, 1, 0],\n",
    "    [1, 0, 1, 0, 0],\n",
    "    [0, 0, 0, 0, 0]\n",
    "]\n",
    "\n",
    "\n",
    "print(can_make_degrees_even(graph))  # Output: True\n"
   ]
  },
  {
   "cell_type": "code",
   "execution_count": 4,
   "id": "6227e6bd",
   "metadata": {},
   "outputs": [
    {
     "name": "stdout",
     "output_type": "stream",
     "text": [
      "[2, 2, 2, 2, 3, 2, 2, 3]\n",
      "[4, 7]\n",
      "2\n",
      "4 7\n",
      "False\n"
     ]
    }
   ],
   "source": [
    "def can_make_degrees_even(graph):\n",
    "    n = len(graph)\n",
    "    \n",
    "    # Calculate degrees of all nodes\n",
    "    degrees = [sum(row) for row in graph]\n",
    "    print(degrees)\n",
    "    \n",
    "    # Find nodes with odd degrees\n",
    "    odd_degree_nodes = [i for i in range(n) if degrees[i] % 2 != 0]\n",
    "    print(odd_degree_nodes)\n",
    "    odd_count = len(odd_degree_nodes)\n",
    "    print(odd_count)\n",
    "    \n",
    "    # Check the conditions mentioned\n",
    "    if odd_count == 0:\n",
    "        return True\n",
    "    elif odd_count == 2:\n",
    "        # Check if there's no edge already between the two odd-degree nodes\n",
    "        u, v = odd_degree_nodes\n",
    "        print(u,v)\n",
    "        if not graph[u][v] and not graph[v][u]:\n",
    "            print(\"inside the kv\")\n",
    "            return True\n",
    "    elif odd_count == 4:\n",
    "        u, v, w, x = odd_degree_nodes\n",
    "        \n",
    "        # Check if we can add two edges between these nodes\n",
    "        if not graph[u][v] and not graph[v][u] and not graph[w][x] and not graph[x][w]:\n",
    "            return True\n",
    "        if not graph[u][w] and not graph[w][u] and not graph[v][x] and not graph[x][v]:\n",
    "            return True\n",
    "        if not graph[u][x] and not graph[x][u] and not graph[v][w] and not graph[w][v]:\n",
    "            return True\n",
    "    \n",
    "    return False\n",
    "\n",
    "# Example usage\n",
    "graph = [\n",
    "    [False, True, False, True, False, False, False, False], \n",
    "    [True, False, True, False, False, False, False, False], \n",
    "    [False, True, False, True, False, False, False, False], \n",
    "    [True, False, True, False, False, False, False, False], \n",
    "    [False, False, False, False, False, True, True, True], \n",
    "    [False, False, False, False, True, False, False, True], \n",
    "    [False, False, False, False, True, False, False, True], \n",
    "    [False, False, False, False, True, True, True, False]\n",
    "]\n",
    "\n",
    "print(can_make_degrees_even(graph))  "
   ]
  },
  {
   "cell_type": "code",
   "execution_count": 73,
   "id": "81bc6212",
   "metadata": {},
   "outputs": [
    {
     "name": "stdout",
     "output_type": "stream",
     "text": [
      "0\n",
      "1\n",
      "1\n",
      "4\n",
      "5\n",
      "4\n",
      "2\n"
     ]
    }
   ],
   "source": [
    "# def min_operations_to_make_continuous(nums):\n",
    "    \n",
    "#     n = len(nums)\n",
    "    \n",
    "# #     nums = list(set(nums))\n",
    "# #     print(sorted(nums))\n",
    "#     req_max = n-1+min(nums)\n",
    "#     print(f'req max is :{req_max}')\n",
    "#     print(sorted(nums))\n",
    "#     #new_nums = [i for i in range(min(nums),req_max+1)]\n",
    "#     count=0\n",
    "\n",
    "#     for i in range(len(nums)):\n",
    "#         if req_max<nums[i]:\n",
    "#             count+=1\n",
    "# #     print(count)\n",
    "#     return count\n",
    "        \n",
    "# #     print(new_nums)\n",
    "# #     return(len(set(new_nums)-set(nums)))\n",
    "\n",
    "def min_operations_to_make_continuous(nums):\n",
    "    n = len(nums)\n",
    "    nums_set = set(nums)\n",
    "    min_ops = n  # Initialize min_ops with maximum possible value\n",
    "\n",
    "    for num in nums:\n",
    "        if num + n - 1 in nums_set:\n",
    "            # Calculate the number of elements missing in the range [num, num + n - 1]\n",
    "            missing = sum(1 for i in range(num, num + n) if i not in nums_set)\n",
    "            min_ops = min(min_ops, missing)\n",
    "\n",
    "    return min_ops\n",
    "nums1 = [4, 2, 5, 3]\n",
    "print(min_operations_to_make_continuous(nums1))  # Output: 0 (nums is already continuous)\n",
    "\n",
    "nums2 = [1, 2, 3, 5, 6]\n",
    "print(min_operations_to_make_continuous(nums2))  # Output: 1 (replace 6 with 4 or replace 1 with 4)\n",
    "\n",
    "nums3 = [1, 5, 2, 3]\n",
    "print(min_operations_to_make_continuous(nums3))  # Output: 1 (replace 5 with 4)\n",
    "\n",
    "nums4 = [1, 3, 5, 7]\n",
    "print(min_operations_to_make_continuous(nums4))  # Output: 2 (replace 7 with 4 and 5 with 6)\n",
    "\n",
    "nums5 = [41,33,29,33,35,26,47,24,18,28]\n",
    "print(min_operations_to_make_continuous(nums5)) ## Output: 5\n",
    "\n",
    "nums6 = [1,10,100,1000]\n",
    "print(min_operations_to_make_continuous(nums6))\n",
    "\n",
    "nums7 =[8,5,9,9,8,4]\n",
    "print(min_operations_to_make_continuous(nums7))"
   ]
  },
  {
   "cell_type": "markdown",
   "id": "665e209d",
   "metadata": {},
   "source": [
    "# Dijkstra Algorithm\n"
   ]
  },
  {
   "cell_type": "code",
   "execution_count": 12,
   "id": "74ad794f",
   "metadata": {},
   "outputs": [
    {
     "name": "stdout",
     "output_type": "stream",
     "text": [
      "{'a': 0, 'b': inf, 'c': inf, 'd': inf}\n",
      "{'a': 0, 'b': 1, 'c': 3, 'd': 4}\n"
     ]
    }
   ],
   "source": [
    "import heapq\n",
    "def dijkstra(graph,start):\n",
    "    # initialize the dp with infinty\n",
    "    dp = {vertex:float('infinity') for vertex in graph}\n",
    "    \n",
    "    # as we start then the starting distance is 0\n",
    "    dp[start] = 0\n",
    "    \n",
    "    print(dp)\n",
    "    # initalize a Queue to main the vertices and their distances\n",
    "    pri_que = [(0,start)]\n",
    "    \n",
    "    #iterate till Que is empty\n",
    "    while pri_que:\n",
    "        curr_dis, curr_vertex = heapq.heappop(pri_que)\n",
    "        if dp[curr_vertex]<curr_dis:\n",
    "            continue\n",
    "        # iterate through all the neighbours of this curr element and update the distances\n",
    "        # THIS IS RELAXING\n",
    "        for neigh, weight in graph[curr_vertex].items():\n",
    "            # calculate the distance\n",
    "            distance = curr_dis+weight\n",
    "            # check with distance in dp and update dp\n",
    "            if distance<dp[neigh]:\n",
    "                dp[neigh] = distance\n",
    "            \n",
    "            # add the following neighbours if any into the que\n",
    "            heapq.heappush(pri_que,(distance,neigh))\n",
    "    return dp\n",
    "# Example usage:\n",
    "graph = {\n",
    "    'a': {'b': 1, 'c': 4},\n",
    "    'b': {'a': 1, 'c': 2, 'd': 5},\n",
    "    'c': {'a': 4, 'b': 2, 'd': 1},\n",
    "    'd': {'b': 5, 'c': 1},\n",
    "}\n",
    "\n",
    "start_vertex = 'a'\n",
    "shortest_paths = dijkstra(graph, start_vertex)\n",
    "print(shortest_paths)"
   ]
  },
  {
   "cell_type": "markdown",
   "id": "665d93b6",
   "metadata": {},
   "source": [
    "# Krushkals Algorithm"
   ]
  },
  {
   "cell_type": "code",
   "execution_count": 48,
   "id": "261b38d5",
   "metadata": {},
   "outputs": [
    {
     "name": "stdout",
     "output_type": "stream",
     "text": [
      "Edges in the Minimum Spanning Tree: [(2, 3, 4), (0, 3, 5), (0, 1, 10)]\n",
      "Total weight of the Minimum Spanning Tree: 19\n"
     ]
    }
   ],
   "source": [
    "class DisjointSet:\n",
    "    def __init__(self, n):\n",
    "        self.parent = list(range(n))\n",
    "        self.rank = [0] * n\n",
    "\n",
    "    def find(self, u):\n",
    "        if self.parent[u] != u:\n",
    "            self.parent[u] = self.find(self.parent[u])\n",
    "        return self.parent[u]\n",
    "\n",
    "    def union(self, u, v):\n",
    "        root_u = self.find(u)\n",
    "        root_v = self.find(v)\n",
    "        if root_u != root_v:\n",
    "            if self.rank[root_u] > self.rank[root_v]:\n",
    "                self.parent[root_v] = root_u\n",
    "            elif self.rank[root_u] < self.rank[root_v]:\n",
    "                self.parent[root_u] = root_v\n",
    "            else:\n",
    "                self.parent[root_v] = root_u\n",
    "                self.rank[root_u] += 1\n",
    "\n",
    "def kruskal(n, edges):\n",
    "    # Sort edges in non-decreasing order of weight\n",
    "    edges.sort(key=lambda x: x[2])\n",
    "    \n",
    "    ds = DisjointSet(n)\n",
    "    mst = []\n",
    "    mst_weight = 0\n",
    "\n",
    "    for u, v, weight in edges:\n",
    "        if ds.find(u) != ds.find(v):\n",
    "            ds.union(u, v)\n",
    "            mst.append((u, v, weight))\n",
    "            mst_weight += weight\n",
    "\n",
    "    return mst, mst_weight\n",
    "\n",
    "# Example usage\n",
    "n = 4\n",
    "edges = [\n",
    "    (0, 1, 10),\n",
    "    (0, 2, 6),\n",
    "    (0, 3, 5),\n",
    "    (1, 3, 15),\n",
    "    (2, 3, 4)\n",
    "]\n",
    "\n",
    "mst, mst_weight = kruskal(n, edges)\n",
    "print(\"Edges in the Minimum Spanning Tree:\", mst)\n",
    "print(\"Total weight of the Minimum Spanning Tree:\", mst_weight)\n"
   ]
  },
  {
   "cell_type": "markdown",
   "id": "9e83a4c0",
   "metadata": {},
   "source": [
    "# Prims Algorithm"
   ]
  },
  {
   "cell_type": "code",
   "execution_count": 47,
   "id": "007a7e0a",
   "metadata": {},
   "outputs": [
    {
     "name": "stdout",
     "output_type": "stream",
     "text": [
      "cost is 0, u is 0\n",
      "min heap is,  [(5, 3), (10, 1), (6, 2)]\n",
      "0\n",
      "cost is 5, u is 3\n",
      "min heap is,  [(4, 2), (6, 2), (15, 1), (10, 1)]\n",
      "5\n",
      "cost is 4, u is 2\n",
      "min heap is,  [(6, 2), (10, 1), (15, 1)]\n",
      "9\n",
      "cost is 6, u is 2\n",
      "2 in visited\n",
      "cost is 10, u is 1\n",
      "min heap is,  [(15, 1)]\n",
      "19\n",
      "cost is 15, u is 1\n",
      "1 in visited\n",
      "Edges in the Minimum Spanning Tree: [0, 3, 2, 1]\n",
      "Total weight of the Minimum Spanning Tree: 19\n"
     ]
    }
   ],
   "source": [
    "import heapq\n",
    "def prim(graph,start=0):\n",
    "    visited = [False]*len(graph)\n",
    "    mst_edges = []\n",
    "    mst_weight = 0\n",
    "    min_heap = [(0,start)]\n",
    "    \n",
    "    while min_heap:\n",
    "        cost,u = heapq.heappop(min_heap)\n",
    "        print(f'cost is {cost}, u is {u}')\n",
    "        if visited[u]:\n",
    "            print(f'{u} in visited')\n",
    "            continue\n",
    "        visited[u] = True\n",
    "        mst_weight+=cost\n",
    "        mst_edges.append(u)\n",
    "        \n",
    "        # check the neighbours\n",
    "        for v,weight in graph[u]:\n",
    "            if not visited[v]:\n",
    "                heapq.heappush(min_heap,(weight,v))\n",
    "        print(\"min heap is, \",min_heap)\n",
    "        print(mst_weight)\n",
    "    return mst_edges, mst_weight\n",
    "                \n",
    "    \n",
    "# Example usage:\n",
    "# Graph represented as an adjacency list\n",
    "# Each list contains tuples of (neighbor, weight)\n",
    "    \n",
    "\n",
    "graph = [\n",
    "    [(1, 10), (2, 6), (3, 5)],\n",
    "    [(0, 10), (3, 15)],\n",
    "    [(0, 6), (3, 4)],\n",
    "    [(0, 5), (1, 15), (2, 4)]\n",
    "]\n",
    "\n",
    "mst_edges, mst_weight = prim(graph)\n",
    "print(\"Edges in the Minimum Spanning Tree:\", mst_edges)\n",
    "print(\"Total weight of the Minimum Spanning Tree:\", mst_weight)"
   ]
  },
  {
   "cell_type": "markdown",
   "id": "76fd937e",
   "metadata": {},
   "source": [
    "# for a sorted array count Occurences in O(log(n))"
   ]
  },
  {
   "cell_type": "code",
   "execution_count": 20,
   "id": "548564b3",
   "metadata": {},
   "outputs": [
    {
     "name": "stdout",
     "output_type": "stream",
     "text": [
      "2\n"
     ]
    }
   ],
   "source": [
    "def count_occur(nums,x):\n",
    "    count = 0\n",
    "    l, r = 0,len(nums)\n",
    "    while l<r:\n",
    "        mid = (l+r)//2\n",
    "        if nums[mid]==x:\n",
    "            count+=1\n",
    "        if nums[mid-1]<=x:\n",
    "            l=mid+1\n",
    "        else:\n",
    "            r = mid-1\n",
    "    return count\n",
    "        \n",
    "#     count = {}\n",
    "#     for i in nums:\n",
    "#         if i in count:\n",
    "#             count[i]+=1\n",
    "#         else:\n",
    "#             count[i] = 1\n",
    "#     return count\n",
    "nums = [2,5,7,9,9,12,14,16,16,16,24,27,29,29]\n",
    "print(count_occur(nums,16))"
   ]
  },
  {
   "cell_type": "code",
   "execution_count": 23,
   "id": "a1d7ed9f",
   "metadata": {},
   "outputs": [
    {
     "name": "stdout",
     "output_type": "stream",
     "text": [
      "0\n"
     ]
    }
   ],
   "source": [
    "def count_occur_sorted(nums,x):\n",
    "    def first_occurence(nums,x,left,right):\n",
    "        if left<=right:\n",
    "            mid = (left+right)//2\n",
    "            if mid==x and (mid==0 or x>nums[mid-1]):\n",
    "                return mid\n",
    "            elif x>nums[mid]:\n",
    "                return first_occurence(nums,x,mid+1,right)\n",
    "            else:\n",
    "                return first_occurence(nums,x,left,mid-1)\n",
    "        return -1\n",
    "    \n",
    "    def last_occurence(nums,x,left,right):\n",
    "        if left<=right:\n",
    "            mid = (left+right)//2\n",
    "            if mid==x and (mid==len(nums) or x<nums[mid-1]):\n",
    "                return mid\n",
    "            elif x<nums[mid]:\n",
    "                return last_occurence(nums,x,left,mid-1)\n",
    "            else:\n",
    "                return last_occurence(nums,x,mid+1,right)\n",
    "        return -1\n",
    "    l = 0\n",
    "    r = len(nums)-1\n",
    "    first = first_occurence(nums,x,l,r)\n",
    "    if first ==-1:\n",
    "        first = 0\n",
    "        \n",
    "    last = last_occurence(nums,x,l,r)\n",
    "    return last-first+1\n",
    "\n",
    "nums = [2, 5, 7, 9, 9, 12, 14, 16, 16, 16, 24, 27, 29, 29]\n",
    "x = 16\n",
    "print(count_occur_sorted(nums,x))\n",
    "\n"
   ]
  },
  {
   "cell_type": "code",
   "execution_count": 26,
   "id": "d9176bc0",
   "metadata": {},
   "outputs": [
    {
     "name": "stdout",
     "output_type": "stream",
     "text": [
      "14\n",
      "24\n",
      "16\n",
      "16\n",
      "3\n"
     ]
    }
   ],
   "source": [
    "def count_occurrences(arr, x):\n",
    "    def binary_search_first(arr, x, low, high):\n",
    "        if high >= low:\n",
    "            mid = low + (high - low) // 2\n",
    "            print(nums[mid])\n",
    "            if (mid == 0 or x > arr[mid - 1]) and arr[mid] == x:\n",
    "                return mid\n",
    "            elif x > arr[mid]:\n",
    "                return binary_search_first(arr, x, mid + 1, high)\n",
    "            else:\n",
    "                return binary_search_first(arr, x, low, mid - 1)\n",
    "        return -1\n",
    "\n",
    "    def binary_search_last(arr, x, low, high):\n",
    "        if high >= low:\n",
    "            mid = low + (high - low) // 2\n",
    "            if (mid == len(arr) - 1 or x < arr[mid + 1]) and arr[mid] == x:\n",
    "                return mid\n",
    "            elif x < arr[mid]:\n",
    "                return binary_search_last(arr, x, low, mid - 1)\n",
    "            else:\n",
    "                return binary_search_last(arr, x, mid + 1, high)\n",
    "        return -1\n",
    "\n",
    "    first = binary_search_first(arr, x, 0, len(arr) - 1)\n",
    "    \n",
    "    if first == -1:\n",
    "        return 0\n",
    "    \n",
    "    last = binary_search_last(arr, x, 0, len(arr) - 1)\n",
    "    \n",
    "    return last - first + 1\n",
    "nums = [2, 5, 7, 9, 9, 12, 14, 16, 16, 16, 24, 27, 29, 29]\n",
    "x = 16\n",
    "print(count_occurrences(nums,x))"
   ]
  },
  {
   "cell_type": "markdown",
   "id": "3213bc55",
   "metadata": {},
   "source": [
    "# Matrix Spiral Traversal\n"
   ]
  },
  {
   "cell_type": "code",
   "execution_count": 30,
   "id": "8c5b1f97",
   "metadata": {},
   "outputs": [
    {
     "name": "stdout",
     "output_type": "stream",
     "text": [
      "[1, 2, 3, 6, 9, 8, 7, 4, 5]\n"
     ]
    }
   ],
   "source": [
    "def spiralOrder(matrix):\n",
    "    rows,cols = len(matrix),len(matrix[0])\n",
    "    result = []\n",
    "    left,right,top,bottom = 0,cols-1,0,rows-1\n",
    "    \n",
    "    while left<=right and top<=bottom:\n",
    "        # traverse from left to right\n",
    "        for col in range(left,right+1):\n",
    "            result.append(matrix[top][col])\n",
    "        top+=1 \n",
    "        \n",
    "        # traverse from top to bottom\n",
    "        for row in range(top,bottom+1):\n",
    "            result.append(matrix[row][right])\n",
    "        right-=1\n",
    "        \n",
    "        # traverse from right to left\n",
    "        if top<=bottom:\n",
    "            for col in range(right,left-1,-1):\n",
    "                result.append(matrix[bottom][col])\n",
    "        bottom-=1\n",
    "        # traverse from bottom to top\n",
    "        if left<=right:\n",
    "            for row in range(bottom,top-1,-1):\n",
    "                result.append(matrix[row][left])\n",
    "        left+=1\n",
    "    return result\n",
    "# Example usage:\n",
    "matrix = [\n",
    "    [1, 2, 3],\n",
    "    [4, 5, 6],\n",
    "    [7, 8, 9]\n",
    "]\n",
    "print(spiralOrder(matrix)) "
   ]
  },
  {
   "cell_type": "markdown",
   "id": "9abbcde3",
   "metadata": {},
   "source": [
    "# count of all anagrams\n"
   ]
  },
  {
   "cell_type": "markdown",
   "id": "b60a04e1",
   "metadata": {},
   "source": [
    "Given an array of words, print the count of all anagrams together in sorted order (increasing order of counts). For example, if the given array is {“cat”, “dog”, “tac”, “god”, “act”}, then grouped anagrams are “(dog, god) (cat, tac, act)”. So the output will be 2 3."
   ]
  },
  {
   "cell_type": "code",
   "execution_count": 52,
   "id": "6e8d34c1",
   "metadata": {},
   "outputs": [
    {
     "name": "stdout",
     "output_type": "stream",
     "text": [
      "defaultdict(<class 'list'>, {})\n",
      "defaultdict(<class 'list'>, {312: ['cat', 'tac', 'act'], 314: ['dog', 'god']})\n",
      "None\n"
     ]
    }
   ],
   "source": [
    "# sum0 = sum((ord(i)) for i in 'a')\n",
    "from collections import defaultdict\n",
    "def anagram(s):\n",
    "    return sum((ord(i)) for i in s)\n",
    "\n",
    "def count_anagrams(l):\n",
    "    count = defaultdict(list)\n",
    "    print(count)\n",
    "    for i in l:\n",
    "        anag = anagram(i)\n",
    "        count[anag].append(i)\n",
    "    print(count)\n",
    "l = ['cat', 'dog', 'tac', 'god', 'act']\n",
    "print(count_anagrams(l))"
   ]
  },
  {
   "cell_type": "code",
   "execution_count": 62,
   "id": "059d1bf5",
   "metadata": {},
   "outputs": [
    {
     "name": "stdout",
     "output_type": "stream",
     "text": [
      "total: 5\n",
      "total: 4\n",
      "total: 5\n",
      "5\n"
     ]
    }
   ],
   "source": [
    "def romanToInt(s):\n",
    "    roman_numerals = {\n",
    "    'I': 1,\n",
    "    'V': 5,\n",
    "    'X': 10,\n",
    "    'L': 50,\n",
    "    'C': 100,\n",
    "    'D': 500,\n",
    "    'M': 1000\n",
    "    }\n",
    "    total = 0\n",
    "    prev_val = 0\n",
    "\n",
    "    for i in (reversed(s)):\n",
    "        curr_val = roman_numerals[i]\n",
    "\n",
    "        if curr_val<prev_val:\n",
    "            total-=curr_val\n",
    "        else:\n",
    "            total+=curr_val\n",
    "        prev_val = curr_val\n",
    "        print(f'total: {total}')\n",
    "        # total = prev_value\n",
    "    return total\n",
    "s = 'IIV'\n",
    "print(romanToInt(s))"
   ]
  },
  {
   "cell_type": "markdown",
   "id": "665a230d",
   "metadata": {},
   "source": [
    "# MIRROR The BINARY TREE"
   ]
  },
  {
   "cell_type": "code",
   "execution_count": 68,
   "id": "fa95125c",
   "metadata": {},
   "outputs": [
    {
     "name": "stdout",
     "output_type": "stream",
     "text": [
      "1->2->4->5->3->6->Tree is  None\n",
      "1->3->6->2->5->4->Mirrored Tree is  None\n"
     ]
    }
   ],
   "source": [
    "# Recursive DFS\n",
    "import collections\n",
    "class TreeNode:\n",
    "    def __init__(self,value):\n",
    "        self.value = value\n",
    "        self.left = None\n",
    "        self.right = None\n",
    "def mirrorTree(node):\n",
    "    if not node:\n",
    "        return None\n",
    "    left_mirror = mirrorTree(node.left)\n",
    "    right_mirror = mirrorTree(node.right)\n",
    "    \n",
    "    # swap the left and right\n",
    "    node.left = right_mirror\n",
    "    node.right = left_mirror\n",
    "    return node\n",
    "\n",
    "# ------------------> OR <------------------\n",
    "\n",
    "def invertTree(node):\n",
    "    if not node:\n",
    "        return None\n",
    "    # swap chidren\n",
    "    temp = node.left\n",
    "    node.left = node.right\n",
    "    node.right = temp\n",
    "    invertTree(node.left)\n",
    "    invertTree(node.right)\n",
    "    return node\n",
    "\n",
    "def in_order(root):\n",
    "    if not root:\n",
    "        return None\n",
    "    \n",
    "    in_order(root.left)\n",
    "    print(root.value, end=\"->\")\n",
    "    in_order(root.right)\n",
    "    \n",
    "\n",
    "def pre_order(root):\n",
    "    if not root:\n",
    "        return None\n",
    "    print(root.value, end=\"->\")\n",
    "    pre_order(root.left)\n",
    "    pre_order(root.right)\n",
    "\n",
    "# Example usage:\n",
    "# Construct a balanced binary tree\n",
    "root_balanced = TreeNode(1)\n",
    "root_balanced.left = TreeNode(2)\n",
    "root_balanced.right = TreeNode(3)\n",
    "root_balanced.left.left = TreeNode(4)\n",
    "root_balanced.left.right = TreeNode(5)\n",
    "root_balanced.right.right = TreeNode(6)\n",
    "\n",
    "print(\"Tree is \",pre_order(root_balanced))\n",
    "\n",
    "inverted_root = mirrorTree(root_balanced)\n",
    "\n",
    "print(\"Mirrored Tree is \",pre_order(inverted_root))\n"
   ]
  },
  {
   "cell_type": "markdown",
   "id": "243ab339",
   "metadata": {},
   "source": [
    "# Vector Product\n"
   ]
  },
  {
   "cell_type": "code",
   "execution_count": 69,
   "id": "a8b5bd43",
   "metadata": {},
   "outputs": [
    {
     "name": "stdout",
     "output_type": "stream",
     "text": [
      "Dot product of vec1 and vec2: 28.0\n"
     ]
    }
   ],
   "source": [
    "def sparse_vector_dot_product(vec1, vec2):\n",
    "    \"\"\"\n",
    "    Calculates the dot product of two sparse vectors.\n",
    "    Arguments:\n",
    "    - vec1: Dictionary representing the first sparse vector.\n",
    "    - vec2: Dictionary representing the second sparse vector.\n",
    "    Returns:\n",
    "    - The dot product of the two sparse vectors.\n",
    "    \"\"\"\n",
    "    product = 0\n",
    "    # Iterate over non-zero elements in the first vector\n",
    "    for key, value in vec1.items():\n",
    "        # Multiply only if the same index exists in the second vector\n",
    "        if key in vec2:\n",
    "            product += value * vec2[key]\n",
    "    return product\n",
    "\n",
    "# Example usage\n",
    "vec1 = {0: 1.0, 3: 2.0, 5: 3.0}  # Sparse vector 1\n",
    "vec2 = {1: 4.0, 3: 5.0, 5: 6.0}  # Sparse vector 2\n",
    "\n",
    "result = sparse_vector_dot_product(vec1, vec2)\n",
    "print(f\"Dot product of vec1 and vec2: {result}\")\n"
   ]
  },
  {
   "cell_type": "markdown",
   "id": "432a9ad3",
   "metadata": {},
   "source": [
    "# Implement LRU Cahche\n",
    "\n",
    "LRU (Least Recently Used) Cache in Python. This implementation uses a combination of a dictionary and a doubly linked list to achieve O(1) time complexity for both get and put operations.\n",
    "\n",
    "Explanation:\n",
    "Node Class: This class represents a node in the doubly linked list, storing the key and value along with pointers to the previous and next nodes.\n",
    "LRUCache Class:\n",
    "\n",
    "Initialization (__init__): Initializes the cache with a given capacity, creates a dictionary to store key-node pairs, and sets up dummy head and tail nodes to simplify edge cases when adding/removing nodes.\n",
    "\n",
    "Remove (_remove): Helper function to remove a node from the linked list.\n",
    "Add to Head (_add_to_head): Helper function to add a node right after the dummy head node, marking it as recently used.\n",
    "\n",
    "Get (get): Retrieves the value for a given key, updates the node as recently used, and returns the value. Returns -1 if the key is not found.\n",
    "\n",
    "Put (put): Adds or updates a key-value pair in the cache. If the cache exceeds its capacity, it removes the least recently used item (the node just before the dummy tail node).\n"
   ]
  },
  {
   "cell_type": "code",
   "execution_count": 3,
   "id": "8de29c62",
   "metadata": {},
   "outputs": [
    {
     "name": "stdout",
     "output_type": "stream",
     "text": [
      "1\n",
      "-1\n",
      "-1\n",
      "3\n",
      "4\n"
     ]
    }
   ],
   "source": [
    "class Node:\n",
    "    def __init__(self,key,value):\n",
    "        self.key = key\n",
    "        self.val = value\n",
    "        self.prev = None\n",
    "        self.next = None\n",
    "class LRUCache:\n",
    "    def __init__(self,capacity):\n",
    "        self.capacity = capacity\n",
    "        self.cache = {}\n",
    "        self.head = Node(0,0)\n",
    "        self.tail = Node(0,0)\n",
    "        self.head.next = self.tail\n",
    "        self.tail.prev = self.head\n",
    "    def remove(self,node):\n",
    "        prev_node = node.prev\n",
    "        next_node = node.next\n",
    "        prev_node.next = next_node\n",
    "        next_node.prev = prev_node\n",
    "    def add_to_head(self,node):\n",
    "        node.next = self.head.next\n",
    "        node.prev = self.head\n",
    "        self.head.next.prev = node\n",
    "        self.head.next = node\n",
    "    \n",
    "        \n",
    "    def put(self,key,value):\n",
    "        if key in self.cache:\n",
    "            self.remove(cache[key])\n",
    "        new_node = Node(key,value)\n",
    "        self.add_to_head(new_node)\n",
    "        self.cache[key] = new_node\n",
    "        if len(self.cache)>self.capacity:\n",
    "            tail_prev = self.tail.prev\n",
    "            self.remove(tail_prev)\n",
    "            del self.cache[tail_prev.key]\n",
    "    def get(self,key):\n",
    "        if key in self.cache:\n",
    "            node = self.cache[key]\n",
    "            self.remove(node)\n",
    "            self.add_to_head(node)\n",
    "            return node.val\n",
    "        return -1\n",
    "# Example usage\n",
    "cache = LRUCache(2)\n",
    "    \n",
    "cache.put(1, 1)\n",
    "cache.put(2, 2)\n",
    "print(cache.get(1))    # returns 1\n",
    "cache.put(3, 3)        # evicts key 2\n",
    "print(cache.get(2))    # returns -1 (not found)\n",
    "cache.put(4, 4)        # evicts key 1\n",
    "print(cache.get(1))    # returns -1 (not found)\n",
    "print(cache.get(3))    # returns 3\n",
    "print(cache.get(4))    # returns 4"
   ]
  },
  {
   "cell_type": "markdown",
   "id": "8fe2a17b",
   "metadata": {},
   "source": [
    "Initial State (empty cache):\n",
    "mathematica\n",
    "Copy code\n",
    "Head <-> Tail\n",
    "Adding Key-Value Pairs:\n",
    "put(1, 1):\n",
    "\n",
    "rust\n",
    "Copy code\n",
    "Head <-> (1, 1) <-> Tail\n",
    "cache: {1: Node(1, 1)}\n",
    "put(2, 2):\n",
    "\n",
    "Head <-> (2, 2) <-> (1, 1) <-> Tail\n",
    "cache: {1: Node(1, 1), 2: Node(2, 2)}\n",
    "\n",
    "Accessing Elements (get):\n",
    "\n",
    "get(1):\n",
    "Moves Node(1, 1) to the front (most recently used).\n",
    "\n",
    "Head <-> (1, 1) <-> (2, 2) <-> Tail\n",
    "Returns: 1\n",
    "\n",
    "Adding More Elements (Eviction):\n",
    "put(3, 3):\n",
    "Capacity exceeded. Evicts the least recently used element (Node(2, 2)).\n",
    "\n",
    "\n",
    "Head <-> (3, 3) <-> (1, 1) <-> Tail\n",
    "\n",
    "cache: {1: Node(1, 1), 3: Node(3, 3)}\n",
    "\n",
    "Final State:\n",
    "put(4, 4):\n",
    "Capacity exceeded. Evicts the least recently used element (Node(1, 1)).\n",
    "\n",
    "\n",
    "Head <-> (4, 4) <-> (3, 3) <-> Tail\n",
    "cache: {3: Node(3, 3), 4: Node(4, 4)}\n",
    "\n",
    "Summary:\n",
    "Head and Tail: Dummy nodes for easier addition/removal of nodes.\n",
    "\n",
    "Adding a Node: Always add the new node right after the head (most recently used).\n",
    "\n",
    "Removing a Node: Remove nodes from the end if capacity is exceeded (least recently used).\n",
    "\n",
    "Get Operation: Moves accessed nodes to the front to mark them as recently used.\n",
    "\n",
    "Visual Example:\n",
    "Initial:\n",
    "\n",
    "\n",
    "Head <-> Tail\n",
    "After put(1, 1):\n",
    "\n",
    "Head <-> (1, 1) <-> Tail\n",
    "After put(2, 2):\n",
    "\n",
    "Head <-> (2, 2) <-> (1, 1) <-> Tail\n",
    "After get(1) (moves 1 to the front):\n",
    "\n",
    "Head <-> (1, 1) <-> (2, 2) <-> Tail\n",
    "After put(3, 3) (evicts least recently used 2):\n",
    "\n",
    "Head <-> (3, 3) <-> (1, 1) <-> Tail\n",
    "After put(4, 4) (evicts least recently used 1):\n",
    "\n",
    "Head <-> (4, 4) <-> (3, 3) <-> Tail\n",
    "This structure ensures the LRU Cache can efficiently track the most and least recently used elements, maintaining O(1) time complexity for both get and put operations.\n",
    "\n",
    "\n",
    "\n",
    "\n",
    "\n",
    "\n"
   ]
  },
  {
   "cell_type": "code",
   "execution_count": 15,
   "id": "7d49433d",
   "metadata": {},
   "outputs": [
    {
     "name": "stdout",
     "output_type": "stream",
     "text": [
      "['[', '1', ',', ' ', '2', ']']\n"
     ]
    }
   ],
   "source": [
    "str_list =str([1,2])\n",
    "print(list(str_list))"
   ]
  },
  {
   "cell_type": "markdown",
   "id": "04a62c25",
   "metadata": {},
   "source": [
    "# Design a data structure that supports insert, delete, search and getRandom in constant time."
   ]
  },
  {
   "cell_type": "code",
   "execution_count": 16,
   "id": "2c2398b5",
   "metadata": {},
   "outputs": [
    {
     "name": "stdout",
     "output_type": "stream",
     "text": [
      "inserted\n",
      "{1: 0}\n",
      "[1]\n",
      "True\n",
      "False\n",
      "inserted\n",
      "{1: 0, 2: 1}\n",
      "[1, 2]\n",
      "True\n",
      "1\n",
      "True\n",
      "False\n",
      "2\n"
     ]
    }
   ],
   "source": [
    "import random\n",
    "\n",
    "class RandomizedSet:\n",
    "    def __init__(self):\n",
    "        self.hashmap = {}  # hashmap to store element -> index mapping\n",
    "        self.array = []    # array to store elements\n",
    "       \n",
    "    def insert(self, val: int) -> bool:\n",
    "        if val in self.hashmap:\n",
    "            return False\n",
    "        \n",
    "        self.hashmap[val] = len(self.array)\n",
    "        self.array.append(val)\n",
    "        print('inserted')\n",
    "        print(self.hashmap)\n",
    "        print(self.array)\n",
    "        return True\n",
    "\n",
    "    def remove(self, val: int) -> bool:\n",
    "        if val not in self.hashmap:\n",
    "            return False\n",
    "        \n",
    "        idx = self.hashmap[val]\n",
    "        last_element = self.array[-1]\n",
    "        \n",
    "        # Move the last element to the position of the element to be removed\n",
    "        self.array[idx] = last_element\n",
    "        self.hashmap[last_element] = idx\n",
    "        \n",
    "        # Delete the element from hashmap and array\n",
    "        del self.hashmap[val]\n",
    "        self.array.pop()\n",
    "        \n",
    "        return True\n",
    "\n",
    "    def getRandom(self) -> int:\n",
    "        return random.choice(self.array)\n",
    "    \n",
    "    def search(self, val: int) -> bool:\n",
    "        return val in self.hashmap\n",
    "\n",
    "# Example usage:\n",
    "obj = RandomizedSet()\n",
    "print(obj.insert(1))  # Output: True\n",
    "print(obj.remove(2))  # Output: False\n",
    "print(obj.insert(2))  # Output: True\n",
    "print(obj.getRandom())  # Output: Random element from the set\n",
    "print(obj.remove(1))  # Output: True\n",
    "print(obj.insert(2))  # Output: False\n",
    "print(obj.getRandom())  # Output: Random element from the set\n"
   ]
  },
  {
   "cell_type": "code",
   "execution_count": 20,
   "id": "25dfad3b",
   "metadata": {},
   "outputs": [
    {
     "name": "stdout",
     "output_type": "stream",
     "text": [
      "1\n",
      "2\n",
      "2\n",
      "None\n"
     ]
    }
   ],
   "source": [
    "from collections import deque\n",
    "\n",
    "class IdManager:\n",
    "    def __init__(self):\n",
    "        self.nextID = 1\n",
    "        self.acknowledge = set()\n",
    "        self.pending = deque()\n",
    "    def GetNextId(self):\n",
    "        next_id = self.nextID\n",
    "        self.nextID+=1\n",
    "        self.pending.append(next_id)\n",
    "        return next_id\n",
    "    \n",
    "    def Acknowledge(self,i):\n",
    "        if i not in self.acknowledge:\n",
    "            self.acknowledge.add(i)\n",
    "        while self.pending and self.pending[0] in self.acknowledge:\n",
    "            self.pending.popleft()\n",
    "    def GetIdLevel(self):\n",
    "        if self.pending:\n",
    "            return self.pending[0]\n",
    "        else:\n",
    "            return None\n",
    "# Example usage:\n",
    "id_manager = IdManager()\n",
    "\n",
    "print(id_manager.GetNextId())  # Output: 1\n",
    "print(id_manager.GetNextId())  # Output: 2\n",
    "\n",
    "id_manager.Acknowledge(1)\n",
    "\n",
    "print(id_manager.GetIdLevel())  # Output: 2\n",
    "\n",
    "id_manager.Acknowledge(2)\n",
    "\n",
    "print(id_manager.GetIdLevel()) "
   ]
  },
  {
   "cell_type": "code",
   "execution_count": 24,
   "id": "3fa4cd5a",
   "metadata": {},
   "outputs": [
    {
     "name": "stdout",
     "output_type": "stream",
     "text": [
      "The total cost of the string is: 32\n"
     ]
    }
   ],
   "source": [
    "def calculate(s):\n",
    "    # Sort the string\n",
    "    sorted_s = sorted(s)\n",
    "    \n",
    "    # Calculate total cost\n",
    "    total_cost = 0\n",
    "    n = len(sorted_s)\n",
    "    \n",
    "    # Calculate the prefix sums of ASCII values\n",
    "    prefix_sums = [0] * (n + 1)\n",
    "    for i in range(1, n + 1):\n",
    "        prefix_sums[i] = prefix_sums[i - 1] + ord(sorted_s[i - 1])\n",
    "    \n",
    "    # Calculate the total cost using the sorted string and prefix sums\n",
    "    for i in range(n):\n",
    "        total_cost += (prefix_sums[n] - prefix_sums[i + 1]) - (ord(sorted_s[i]) * (n - i - 1))\n",
    "        total_cost += (ord(sorted_s[i]) * i) - prefix_sums[i]\n",
    "    \n",
    "    return total_cost\n",
    "\n",
    "# Example usage\n",
    "s = \"aabbcc\"\n",
    "print(\"The total cost of the string is:\", calculate(s))\n"
   ]
  },
  {
   "cell_type": "code",
   "execution_count": 27,
   "id": "ff1feee7",
   "metadata": {},
   "outputs": [
    {
     "name": "stdout",
     "output_type": "stream",
     "text": [
      "The total cost of the string is: 0\n"
     ]
    }
   ],
   "source": [
    "def total_cost(s):\n",
    "    # Sort the string\n",
    "    sorted_s = sorted(s)\n",
    "    \n",
    "    # Initialize total cost\n",
    "    total_cost = 0\n",
    "    n = len(sorted_s)\n",
    "    \n",
    "    # Calculate total cost using the sorted string\n",
    "    for i in range(n):\n",
    "        for j in range(i + 1, n):\n",
    "            total_cost += abs(ord(sorted_s[i]) - ord(sorted_s[j]))\n",
    "    \n",
    "    return total_cost\n",
    "\n",
    "# Example usage\n",
    "s = \"aaaaa\"\n",
    "print(\"The total cost of the string is:\", total_cost(s))\n"
   ]
  },
  {
   "cell_type": "code",
   "execution_count": 28,
   "id": "e5d416a5",
   "metadata": {},
   "outputs": [
    {
     "name": "stdout",
     "output_type": "stream",
     "text": [
      "The total cost of the string is: 16\n"
     ]
    }
   ],
   "source": [
    "def total_cost(s):\n",
    "    # Sort the string\n",
    "    sorted_s = sorted(s)\n",
    "    \n",
    "    # Calculate the total cost\n",
    "    total_cost = 0\n",
    "    n = len(sorted_s)\n",
    "    \n",
    "    # Prefix sums to store the cumulative ASCII values\n",
    "    prefix_sums = [0] * (n + 1)\n",
    "    for i in range(1, n + 1):\n",
    "        prefix_sums[i] = prefix_sums[i - 1] + ord(sorted_s[i - 1])\n",
    "    \n",
    "    for i in range(n):\n",
    "        total_cost += (prefix_sums[n] - prefix_sums[i + 1]) - (ord(sorted_s[i]) * (n - i - 1))\n",
    "    \n",
    "    return total_cost\n",
    "\n",
    "# Example usage\n",
    "s = \"aabbcc\"\n",
    "print(\"The total cost of the string is:\", total_cost(s))\n"
   ]
  },
  {
   "cell_type": "code",
   "execution_count": 30,
   "id": "81e9ec11",
   "metadata": {},
   "outputs": [
    {
     "name": "stdout",
     "output_type": "stream",
     "text": [
      "The minimum sum of tax is: 15\n"
     ]
    }
   ],
   "source": [
    "def minimize_tax(N, D, salaries):\n",
    "    # Initialize dp array with a large value (INF)\n",
    "    dp = [float('inf')] * (N + 1)\n",
    "    dp[0] = 0  # Base case: no employees, no tax\n",
    "\n",
    "    for i in range(1, N + 1):\n",
    "        current_sum = 0\n",
    "        for j in range(i, 0, -1):\n",
    "            current_sum += salaries[j - 1]\n",
    "            employees = i - j + 1\n",
    "            exclusion = employees // D\n",
    "            dp[i] = min(dp[i], dp[j - 1] + current_sum - exclusion)\n",
    "\n",
    "    return dp[N]\n",
    "\n",
    "# Example usage\n",
    "# N = 5\n",
    "# D = 2\n",
    "# salaries = [100, 200, 300, 400, 500]\n",
    "N = 4\n",
    "D = 2\n",
    "salaries = [4, 4, 5, 4]\n",
    "\n",
    "result = minimize_tax(N, D, salaries)\n",
    "print(\"The minimum sum of tax is:\", result)\n"
   ]
  },
  {
   "cell_type": "code",
   "execution_count": 33,
   "id": "1d42da99",
   "metadata": {},
   "outputs": [
    {
     "name": "stdout",
     "output_type": "stream",
     "text": [
      "The minimum sum of tax that you will need: 0\n"
     ]
    }
   ],
   "source": [
    "def min_tax(N, D, salaries):\n",
    "    # Initialize DP array with a large value\n",
    "    dp = [float('inf')] * (N + 1)\n",
    "    dp[0] = 0  # Base case: No employees, no tax\n",
    "\n",
    "    # Fill the DP array\n",
    "    for i in range(1, N + 1):\n",
    "        max_salary = 0\n",
    "        for j in range(i - 1, -1, -1):\n",
    "            max_salary = max(max_salary, salaries[j])\n",
    "            dp[i] = min(dp[i], dp[j] + ((i - j) // D) * max_salary)\n",
    "\n",
    "    return dp[N]\n",
    "\n",
    "# Example usage\n",
    "N = 4\n",
    "D = 2\n",
    "salaries = [4, 4, 5, 4]\n",
    "\n",
    "result = min_tax(N, D, salaries)\n",
    "print(\"The minimum sum of tax that you will need:\", result)\n"
   ]
  },
  {
   "cell_type": "code",
   "execution_count": 35,
   "id": "340dd329",
   "metadata": {},
   "outputs": [
    {
     "name": "stdout",
     "output_type": "stream",
     "text": [
      "15\n"
     ]
    }
   ],
   "source": [
    "def min_tax(A, N, D):\n",
    "    total_salary = sum(A)\n",
    "    dp = [0] * (N + 1)\n",
    "    for i in range(1, N + 1):\n",
    "        for j in range(i):\n",
    "            dp[i] = max(dp[i], dp[j] + (i - j) // D)\n",
    "    return total_salary - dp[N]\n",
    "\n",
    "\n",
    "\n",
    "\n",
    "\n",
    "\n",
    "\n",
    "\n",
    "\n",
    "# Example usage:\n",
    "A = [4, 4, 5, 4]  # salaries of employees\n",
    "N = len(A)\n",
    "D = 2  # value of D from the tax law\n",
    "print(min_tax(A, N, D))  # output: minimum sum of tax"
   ]
  },
  {
   "cell_type": "code",
   "execution_count": 37,
   "id": "cde35530",
   "metadata": {},
   "outputs": [
    {
     "name": "stdout",
     "output_type": "stream",
     "text": [
      "15\n"
     ]
    }
   ],
   "source": [
    "def min_tax(A, N, D):\n",
    "    prefix_sum = [0] * (N + 1)\n",
    "    for i in range(N):\n",
    "        prefix_sum[i + 1] = prefix_sum[i] + A[i]\n",
    "    dp = [float('inf')] * (N + 1)\n",
    "    dp[0] = 0\n",
    "    for i in range(1, N + 1):\n",
    "        for j in range(i):\n",
    "            dp[i] = min(dp[i], dp[j] + prefix_sum[i] - prefix_sum[j] - (i - j) // D)\n",
    "    return dp[N]\n",
    "\n",
    "\n",
    "# Example usage:\n",
    "A = [4, 4, 5, 4]  # salaries of employees\n",
    "N = len(A)\n",
    "D = 2\n",
    "print(min_tax(A, N, D))  # output: 9"
   ]
  },
  {
   "cell_type": "code",
   "execution_count": null,
   "id": "a5e9ad58",
   "metadata": {},
   "outputs": [],
   "source": [
    "\n",
    "\n"
   ]
  },
  {
   "cell_type": "code",
   "execution_count": null,
   "id": "3f24af26",
   "metadata": {},
   "outputs": [],
   "source": []
  },
  {
   "cell_type": "code",
   "execution_count": null,
   "id": "b54f612f",
   "metadata": {},
   "outputs": [],
   "source": []
  },
  {
   "cell_type": "code",
   "execution_count": 38,
   "id": "48569e6a",
   "metadata": {},
   "outputs": [
    {
     "name": "stdout",
     "output_type": "stream",
     "text": [
      "Bitwise XOR of all P: 1\n"
     ]
    }
   ],
   "source": [
    "def subset_sum_count(A, L, R, K):\n",
    "    MOD = 10**9 + 7\n",
    "    n = len(A)\n",
    "    dp = [[0] * (K + 1) for _ in range(n + 1)]\n",
    "    dp[0][0] = 1  # Base case: One way to achieve sum 0 (by choosing the empty subset)\n",
    "    \n",
    "    for i in range(1, n + 1):\n",
    "        for sum_val in range(K + 1):\n",
    "            dp[i][sum_val] = dp[i - 1][sum_val]\n",
    "            if sum_val >= A[i - 1]:\n",
    "                dp[i][sum_val] = (dp[i][sum_val] + dp[i - 1][sum_val - A[i - 1]]) % MOD\n",
    "    \n",
    "    return dp[n][K]\n",
    "\n",
    "def bitwise_xor_of_P(A, B):\n",
    "    MOD = 10**9 + 7\n",
    "    result_xor = 0\n",
    "    \n",
    "    for L, R, K in B:\n",
    "        subset_count = subset_sum_count(A[L-1:R], L, R, K)\n",
    "        result_xor ^= subset_count\n",
    "    \n",
    "    return result_xor\n",
    "\n",
    "# Example usage\n",
    "A = [1, 2, 3, 4, 5]\n",
    "B = [\n",
    "    [1, 3, 5],\n",
    "    [2, 4, 8]\n",
    "]\n",
    "\n",
    "print(\"Bitwise XOR of all P:\", bitwise_xor_of_P(A, B))\n"
   ]
  },
  {
   "cell_type": "code",
   "execution_count": 40,
   "id": "2772f761",
   "metadata": {},
   "outputs": [
    {
     "name": "stdout",
     "output_type": "stream",
     "text": [
      "Result: 1\n"
     ]
    }
   ],
   "source": [
    "MOD = 10**9 + 7\n",
    "\n",
    "def subset_count_with_sum(arr, target):\n",
    "    n = len(arr)\n",
    "    dp = [0] * (target + 1)\n",
    "    dp[0] = 1  \n",
    "\n",
    "    for num in arr:\n",
    "        for j in range(target, num - 1, -1):\n",
    "            dp[j] = (dp[j] + dp[j - num]) % MOD\n",
    "\n",
    "    return dp[target]\n",
    "\n",
    "def findXOR(N, Q, A, B):\n",
    "    result = 0\n",
    "    \n",
    "    for L, R, K in B:\n",
    "        subarray = A[L-1:R]\n",
    "        possible_sums_count = subset_count_with_sum(subarray, K)\n",
    "        result ^= possible_sums_count\n",
    "    \n",
    "    return result\n",
    "\n",
    "# Example usage\n",
    "N = 5\n",
    "Q = 3\n",
    "A = [2,2,2,2,2]\n",
    "B = [\n",
    "    [1,1,2],\n",
    "    [1, 5,5],\n",
    "    [1, 5, 1]\n",
    "]\n",
    "\n",
    "print(\"Result:\", findXOR(N, Q, A, B))\n"
   ]
  },
  {
   "cell_type": "code",
   "execution_count": 1,
   "id": "a91a5f70",
   "metadata": {},
   "outputs": [
    {
     "name": "stdout",
     "output_type": "stream",
     "text": [
      "1\n",
      "3\n"
     ]
    }
   ],
   "source": [
    "def largest_subset_free_of_outliers(f1, f2):\n",
    "    n = len(f1)\n",
    "    dp = [1] * n  # Initialize DP array with 1s, as each element alone is a valid subset\n",
    "    \n",
    "    for i in range(n):\n",
    "        for j in range(i + 1, n):\n",
    "            if (f1[i] > f1[j] and f2[i] > f2[j]) or (f1[i] < f1[j] and f2[i] < f2[j]):\n",
    "                dp[j] = max(dp[j], dp[i] + 1)\n",
    "    \n",
    "    return max(dp)\n",
    "\n",
    "# Test cases\n",
    "f1 = [1, 2, 3, 4, 5]\n",
    "f2 = [5, 4, 3, 2, 1]\n",
    "print(largest_subset_free_of_outliers(f1, f2))  # Output: 1\n",
    "\n",
    "f1 = [3, 2, 1]\n",
    "f2 = [6, 5, 4]\n",
    "print(largest_subset_free_of_outliers(f1, f2))  # Output: 3\n"
   ]
  },
  {
   "cell_type": "code",
   "execution_count": 2,
   "id": "81e228bf",
   "metadata": {},
   "outputs": [
    {
     "name": "stdout",
     "output_type": "stream",
     "text": [
      "1\n",
      "3\n"
     ]
    }
   ],
   "source": [
    "def is_valid(f1, f2):\n",
    "    for i in range(len(f1)):\n",
    "        for j in range(i + 1, len(f1)):\n",
    "            if (f1[i] < f1[j] and f2[i] > f2[j]) or (f1[i] > f1[j] and f2[i] < f2[j]):\n",
    "                return False\n",
    "    return True\n",
    "\n",
    "def largest_subset_free_of_outliers(f1, f2):\n",
    "    n = len(f1)\n",
    "    \n",
    "    # Early exit for strictly increasing f1 and strictly decreasing f2 or vice versa\n",
    "    if is_valid(f1, f2):\n",
    "        return n\n",
    "    \n",
    "    dp = [1] * n  # Initialize DP array with 1s, as each element alone is a valid subset\n",
    "    \n",
    "    for i in range(n):\n",
    "        for j in range(i + 1, n):\n",
    "            if (f1[i] > f1[j] and f2[i] > f2[j]) or (f1[i] < f1[j] and f2[i] < f2[j]):\n",
    "                dp[j] = max(dp[j], dp[i] + 1)\n",
    "    \n",
    "    return max(dp)\n",
    "\n",
    "# Test cases\n",
    "f1 = [1, 2, 3, 4, 5]\n",
    "f2 = [5, 4, 3, 2, 1]\n",
    "print(largest_subset_free_of_outliers(f1, f2))  # Output: 1\n",
    "\n",
    "f1 = [3, 2, 1]\n",
    "f2 = [6, 5, 4]\n",
    "print(largest_subset_free_of_outliers(f1, f2))  # Output: 3\n"
   ]
  },
  {
   "cell_type": "code",
   "execution_count": 4,
   "id": "60f99e26",
   "metadata": {},
   "outputs": [
    {
     "name": "stdout",
     "output_type": "stream",
     "text": [
      "[1, 1, 1, 1, 1]\n",
      "1\n"
     ]
    }
   ],
   "source": [
    "def longestOutlierFreeSubarray(f1, f2):\n",
    "    n = len(f1)\n",
    "    dp = [1] * n\n",
    "    \n",
    "    for i in range(n):\n",
    "        for j in range(i + 1, n):\n",
    "            if (f1[i] < f1[j] and f2[i] < f2[j]) or (f1[i] > f1[j] and f2[i] > f2[j]):\n",
    "                dp[j] = max(dp[j], dp[i] + 1)\n",
    "    print(dp)\n",
    "    return max(dp)\n",
    "\n",
    "# Test cases\n",
    "# f1 = [4, 5, 3, 1, 2]\n",
    "# f2 = [2, 1, 3, 4, 5]\n",
    "# print(longestOutlierFreeSubarray(f1, f2))  # Output: 2\n",
    "\n",
    "f1 = [1, 2, 3, 4, 5]\n",
    "f2 = [5, 4, 3, 2, 1]\n",
    "print(longestOutlierFreeSubarray(f1, f2))  # Output: 1\n",
    "\n",
    "# f1 = [3, 2, 1]\n",
    "# f2 = [6, 5, 4]\n",
    "# print(longestOutlierFreeSubarray(f1, f2))  # Output: 3\n"
   ]
  },
  {
   "cell_type": "code",
   "execution_count": null,
   "id": "fa945b1f",
   "metadata": {},
   "outputs": [],
   "source": []
  }
 ],
 "metadata": {
  "kernelspec": {
   "display_name": "Python 3 (ipykernel)",
   "language": "python",
   "name": "python3"
  },
  "language_info": {
   "codemirror_mode": {
    "name": "ipython",
    "version": 3
   },
   "file_extension": ".py",
   "mimetype": "text/x-python",
   "name": "python",
   "nbconvert_exporter": "python",
   "pygments_lexer": "ipython3",
   "version": "3.9.12"
  }
 },
 "nbformat": 4,
 "nbformat_minor": 5
}
