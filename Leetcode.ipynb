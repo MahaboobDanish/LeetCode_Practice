{
 "cells": [
  {
   "cell_type": "markdown",
   "id": "d51b5c19",
   "metadata": {},
   "source": [
    "# 1. TWO SUM : Unordered List\n",
    "Given an array of integers nums and an integer target, return indices of the two numbers such that they add up to target.\n",
    "\n",
    "You may assume that each input would have exactly one solution, and you may not use the same element twice.\n",
    "\n",
    "You can return the answer in any order.\n",
    "\n"
   ]
  },
  {
   "cell_type": "code",
   "execution_count": 8,
   "id": "ace65971",
   "metadata": {},
   "outputs": [
    {
     "name": "stdout",
     "output_type": "stream",
     "text": [
      "indeces of two sum are 5 and 2\n"
     ]
    }
   ],
   "source": [
    "# Use HASHING : Find Target-element in ecah iteration and if present return the indeces or else\n",
    "# add the element to dict with index\n",
    "\n",
    "# Time and Spcae Complexity: O(n) and O(1)\n",
    "\n",
    "def two_sum(num_list,target):\n",
    "    ts_dict = {}\n",
    "    for i in range(len(num_list)):\n",
    "        if target-num_list[i] in ts_dict:\n",
    "            return i, ts_dict[target-num_list[i]]\n",
    "        ts_dict[num_list[i]]=i\n",
    "    return -1\n",
    "\n",
    "l = [1,2,4,5,14,7,12]\n",
    "res = two_sum(l,11)\n",
    "if res==-1:\n",
    "    print(\"No two sum found\")\n",
    "else:\n",
    "    print(f\"indeces of two sum are {res[0]} and {res[1]}\")\n",
    "    "
   ]
  },
  {
   "cell_type": "markdown",
   "id": "feeb55c6",
   "metadata": {},
   "source": [
    "# 2. TWO SUM : Ordered List\n",
    "\n",
    "Given an array of integers nums and an integer target, return indices of the two numbers such that they add up to target.\n",
    "\n",
    "You may assume that each input would have exactly one solution, and you may not use the same element twice.\n",
    "\n",
    "You can return the answer in any order"
   ]
  },
  {
   "cell_type": "code",
   "execution_count": 10,
   "id": "9a2106ca",
   "metadata": {},
   "outputs": [
    {
     "name": "stdout",
     "output_type": "stream",
     "text": [
      "indeces of two sum are 1 and 6\n"
     ]
    }
   ],
   "source": [
    "# With Two Pointer approcah As the list is ordered there are only three categories the target fall into\n",
    "# a. Ei+Ej<target: here incresing the i gets closer to the target\n",
    "# b. Ei+Ej>target: here reducing the j gets closer to the target\n",
    "# c. Ei+Ej=target: here the target is found\n",
    "\n",
    "# Time and Spcae Complexity: O(n) and O(n)\n",
    "\n",
    "def two_pointer_two_sum(nums,target):\n",
    "    start, end = 0, len(nums)-1\n",
    "    while start<end:\n",
    "        two_sum = nums[start]+nums[end]\n",
    "        if two_sum<target:\n",
    "            start+=1\n",
    "        elif two_sum>target:\n",
    "            end-=1\n",
    "        elif two_sum==target:\n",
    "            return start,end\n",
    "    return -1\n",
    "\n",
    "l = [1,2,4,5,14,7,12]\n",
    "res = two_pointer_two_sum(l,14)\n",
    "if res==-1:\n",
    "    print(\"No two sum found\")\n",
    "else:\n",
    "    print(f\"indeces of two sum are {res[0]} and {res[1]}\")             \n",
    "            "
   ]
  },
  {
   "cell_type": "code",
   "execution_count": 27,
   "id": "deba3103",
   "metadata": {},
   "outputs": [
    {
     "name": "stdout",
     "output_type": "stream",
     "text": [
      "indeces of two sum are 3 and 5\n"
     ]
    }
   ],
   "source": [
    "# Using Binary Search Method for 2\n",
    "# for every iteration finds the target-ele present in list using binary serach method\n",
    "\n",
    "# Time and Spcae Complexity: O(n logn) and O(n)\n",
    "\n",
    "def two_sum_bin_search(nums,target):\n",
    "    for i in range(len(nums)):\n",
    "        bs_res = bin_search(nums, target-nums[i],i+1) # list,target-element and start element\n",
    "        if bs_res!=-1:\n",
    "            return i, bs_res\n",
    "    return -1\n",
    "\n",
    "def bin_search(nums, k,start):\n",
    "    i,j = start,len(nums)-1\n",
    "    while i<=j:\n",
    "        mid =(i+j)//2\n",
    "        if nums[mid]==k:\n",
    "            return mid\n",
    "        elif nums[mid]<k:\n",
    "            i = mid+1\n",
    "        else:\n",
    "            j = mid - 1\n",
    "    \n",
    "    return -1\n",
    "            \n",
    "l = [1,2,4,5,14,7,12]\n",
    "res = two_sum_bin_search(l,12)\n",
    "if res==-1:\n",
    "    print(\"No two sum found\")\n",
    "else:\n",
    "    print(f\"indeces of two sum are {res[0]} and {res[1]}\")             \n",
    "            "
   ]
  },
  {
   "cell_type": "markdown",
   "id": "5f16ceae",
   "metadata": {},
   "source": [
    "# 3. Valid Palindrom:\n",
    "\n",
    "A phrase is a palindrome if, after converting all uppercase letters into lowercase letters and removing all non-alphanumeric characters, it reads the same forward and backward. Alphanumeric characters include letters and numbers.\n",
    "\n",
    "Given a string s, return true if it is a palindrome, or false otherwise.\n",
    "\n"
   ]
  },
  {
   "cell_type": "code",
   "execution_count": 48,
   "id": "30afb922",
   "metadata": {},
   "outputs": [
    {
     "name": "stdout",
     "output_type": "stream",
     "text": [
      "String is palindrom\n"
     ]
    }
   ],
   "source": [
    "# Two Pointer approach\n",
    "# if start and end not true return false\n",
    "# if spaces found just increment and drecement with resepct to start and end\n",
    "\n",
    "# Time and Space Complexity: O(n) and O(1)\n",
    "\n",
    "def valid_pal(s):\n",
    "    i, j = 0, len(s) - 1\n",
    "    while i < j:\n",
    "        while i < j and not (s[i].isalnum()):\n",
    "            i += 1\n",
    "        while i < j and not (s[j].isalnum()):\n",
    "            j -= 1\n",
    "        if s[i].lower() != s[j].lower():\n",
    "            return False\n",
    "        i += 1\n",
    "        j -= 1\n",
    "    return True\n",
    "\n",
    "# s = \"race a car\"\n",
    "s = \"A man, a plan, a canal: Panama\"\n",
    "res = valid_pal(s)\n",
    "if res:\n",
    "    print(\"String is palindrom\")\n",
    "else:\n",
    "    print(\"String is not Palindeom\")"
   ]
  },
  {
   "cell_type": "markdown",
   "id": "017394af",
   "metadata": {},
   "source": [
    "# 4. Find the Index of the First Occurrence in a String\n",
    "\n",
    "Given two strings needle and haystack, return the index of the first occurrence of needle in haystack, or -1 if needle is not part of haystack."
   ]
  },
  {
   "cell_type": "code",
   "execution_count": 54,
   "id": "e74f88ab",
   "metadata": {},
   "outputs": [
    {
     "name": "stdout",
     "output_type": "stream",
     "text": [
      "0\n",
      "0\n"
     ]
    }
   ],
   "source": [
    "# just go by brute force and \n",
    "\n",
    "# Time Complexity\n",
    "# Best Case: \n",
    "# O(1) (if needle is empty or if needle is found at the very beginning of haystack)\n",
    "# Worst Case: \n",
    "# O(m⋅n) (if needle is not found or is found near the end of haystack)\n",
    "\n",
    "# The space complexity of the strstr function is \n",
    "# O(1) in terms of additional storage used by the function itself.\n",
    "\n",
    "def strstr(haystack,needle):\n",
    "    print(haystack.index(needle))\n",
    "    if needle in haystack:\n",
    "        return haystack.index(needle)\n",
    "    return -1\n",
    "h = \"sadbutsad\"\n",
    "n = 'sad'\n",
    "print(strstr(h,n))"
   ]
  },
  {
   "cell_type": "markdown",
   "id": "b6b976df",
   "metadata": {},
   "source": [
    "# 5. Reverse Words in Strings II\n",
    "Given an input string s, reverse the order of the words.\n",
    "\n",
    "A word is defined as a sequence of non-space characters. The words in s will be separated by at least one space.\n",
    "\n",
    "Return a string of the words in reverse order concatenated by a single space.\n",
    "\n",
    "Note that s may contain leading or trailing spaces or multiple spaces between two words. The returned string should only have a single space separating the words. Do not include any extra spaces."
   ]
  },
  {
   "cell_type": "code",
   "execution_count": 36,
   "id": "eb1c2e17",
   "metadata": {},
   "outputs": [
    {
     "name": "stdout",
     "output_type": "stream",
     "text": [
      "['', 'world', 'hello', '', '']\n",
      "['world', 'hello']\n",
      "world hello\n"
     ]
    }
   ],
   "source": [
    "def reverse_words(s):\n",
    "    l = s.split(\" \")[::-1]\n",
    "    l.remove(\"\")\n",
    "    print(l)\n",
    "    new_l = []\n",
    "    for i in l:\n",
    "        if i!='':\n",
    "            new_l.append(i)\n",
    "    print(new_l)\n",
    "       \n",
    "    return \" \".join(new_l)\n",
    "\n",
    "s= \"  hello world  \"\n",
    "# s= 'just go by brute force and'\n",
    "print(reverse_words(s))"
   ]
  },
  {
   "cell_type": "markdown",
   "id": "4b3210f7",
   "metadata": {},
   "source": [
    "# 5. Reverse Words in String III\n",
    "Given a string s, reverse the order of characters in each word within a sentence while still preserving whitespace and initial word order.\n",
    "\n",
    " \n",
    "\n",
    "Example 1:\n",
    "\n",
    "Input: s = \"Let's take LeetCode contest\"\n",
    "Output: \"s'teL ekat edoCteeL tsetnoc\"\n",
    "Example 2:\n",
    "\n",
    "Input: s = \"Mr Ding\"\n",
    "Output: \"rM gniD\""
   ]
  },
  {
   "cell_type": "code",
   "execution_count": 12,
   "id": "cebea63a",
   "metadata": {},
   "outputs": [
    {
     "name": "stdout",
     "output_type": "stream",
     "text": [
      "s'teL ekat edoCteeL tsetnoc\n"
     ]
    }
   ],
   "source": [
    "def reverse_words_III(s):\n",
    "    l = s.split(\" \")\n",
    "    new_l = []\n",
    "    new_s = ''\n",
    "    for i in l:\n",
    "        new_l.append(i[::-1])\n",
    "    return \" \".join(new_l)\n",
    "s = \"Let's take LeetCode contest\"\n",
    "res = reverse_words_III(s)\n",
    "print(res)  "
   ]
  },
  {
   "cell_type": "markdown",
   "id": "f94b4435",
   "metadata": {},
   "source": [
    "# 6. String to Integer\n",
    "Implement the myAtoi(string s) function, which converts a string to a 32-bit signed integer.\n",
    "\n",
    "The algorithm for myAtoi(string s) is as follows:\n",
    "\n",
    "Whitespace: Ignore any leading whitespace (\" \").\n",
    "Signedness: Determine the sign by checking if the next character is '-' or '+', assuming positivity is neither present.\n",
    "Conversion: Read the integer by skipping leading zeros until a non-digit character is encountered or the end of the string is reached. If no digits were read, then the result is 0.\n",
    "Rounding: If the integer is out of the 32-bit signed integer range [-231, 231 - 1], then round the integer to remain in the range. Specifically, integers less than -231 should be rounded to -231, and integers greater than 231 - 1 should be rounded to 231 - 1.\n",
    "\n",
    "Input: s = \"42\"\n",
    "\n",
    "Output: 42\n",
    "\n",
    "Example 2:\n",
    "\n",
    "Input: s = \" -042\"\n",
    "\n",
    "Output: -42\n"
   ]
  },
  {
   "cell_type": "code",
   "execution_count": 15,
   "id": "8bb150ea",
   "metadata": {},
   "outputs": [
    {
     "name": "stdout",
     "output_type": "stream",
     "text": [
      "-42\n"
     ]
    }
   ],
   "source": [
    "\n",
    "def string_to_int(s):\n",
    "    s = s.lstrip()\n",
    "#     print(s)\n",
    "\n",
    "    if s and (s[0]=='-' or s[0]=='+'):\n",
    "        sign = -1 if s[0]=='-' else 1\n",
    "        s = s[1:]\n",
    "    else:\n",
    "        sign = 1\n",
    "\n",
    "    num = 0\n",
    "    for char in s:\n",
    "        if char.isdigit():\n",
    "            num = num*10 + int(char)\n",
    "        else:\n",
    "            break\n",
    "\n",
    "    num = sign * num\n",
    "    num = max(min(num,2**31 - 1),-2**31)\n",
    "    return num\n",
    "s = \" -042\"\n",
    "print(string_to_int(s))"
   ]
  },
  {
   "cell_type": "markdown",
   "id": "8f3e38ce",
   "metadata": {},
   "source": [
    "# 7. Valid Number\n",
    "Given a string s, return whether s is a valid number.\n",
    "\n",
    "For example, all the following are valid numbers: \"2\", \"0089\", \"-0.1\", \"+3.14\", \"4.\", \"-.9\", \"2e10\", \"-90E3\", \"3e+7\", \"+6e-1\", \"53.5e93\", \"-123.456e789\", while the following are not valid numbers: \"abc\", \"1a\", \"1e\", \"e3\", \"99e2.5\", \"--6\", \"-+3\", \"95a54e53\".\n",
    "\n",
    "Formally, a valid number is defined using one of the following definitions:\n",
    "\n",
    "An integer number followed by an optional exponent.\n",
    "A decimal number followed by an optional exponent.\n",
    "An integer number is defined with an optional sign '-' or '+' followed by digits.\n",
    "\n",
    "A decimal number is defined with an optional sign '-' or '+' followed by one of the following definitions:\n",
    "\n",
    "Digits followed by a dot '.'.\n",
    "Digits followed by a dot '.' followed by digits.\n",
    "A dot '.' followed by digits.\n",
    "An exponent is defined with an exponent notation 'e' or 'E' followed by an integer number.\n",
    "\n",
    "The digits are defined as one or more digits.\n",
    "\n",
    " \n",
    "\n",
    "Example 1:\n",
    "\n",
    "Input: s = \"0\"\n",
    "\n",
    "Output: true\n",
    "\n",
    "Example 2:\n",
    "\n",
    "Input: s = \"e\"\n",
    "\n",
    "Output: false\n",
    "\n",
    "Example 3:\n",
    "\n",
    "Input: s = \".\"\n",
    "\n",
    "Output: false\n",
    "\n"
   ]
  },
  {
   "cell_type": "code",
   "execution_count": 17,
   "id": "53bbb36f",
   "metadata": {},
   "outputs": [
    {
     "name": "stdout",
     "output_type": "stream",
     "text": [
      "True\n"
     ]
    }
   ],
   "source": [
    "import re\n",
    "def valid_number(s):\n",
    "    pattern = r'^\\s*[-+]?(?:\\d+\\.\\d+|\\.\\d+|\\d+\\.|\\d+)(?:[eE][-+]?\\d+)?\\s*$'\n",
    "    return re.match(pattern, s) is not None\n",
    "s = \"0\"\n",
    "print(valid_number(s))"
   ]
  },
  {
   "cell_type": "markdown",
   "id": "e8e4c83b",
   "metadata": {},
   "source": [
    "# 8. Longest Substring without repeteating charecter\n",
    "Given a string s, find the length of the longest \n",
    "substring\n",
    " without repeating characters.\n",
    "\n",
    " \n",
    "\n",
    "Example 1:\n",
    "\n",
    "Input: s = \"abcabcbb\"\n",
    "Output: 3\n",
    "Explanation: The answer is \"abc\", with the length of 3.\n",
    "Example 2:\n",
    "\n",
    "Input: s = \"bbbbb\"\n",
    "Output: 1\n",
    "Explanation: The answer is \"b\", with the length of 1.\n",
    "Example 3:\n",
    "\n",
    "Input: s = \"pwwkew\"\n",
    "Output: 3\n",
    "Explanation: The answer is \"wke\", with the length of 3.\n",
    "Notice that the answer must be a substring, \"pwke\" is a subsequence and not a substring.\n"
   ]
  },
  {
   "cell_type": "code",
   "execution_count": 23,
   "id": "72a9f676",
   "metadata": {},
   "outputs": [
    {
     "name": "stdout",
     "output_type": "stream",
     "text": [
      "[(0, 'p'), (1, 'w'), (2, 'w'), (3, 'k'), (4, 'e'), (5, 'w')]\n",
      "{'p': 0} End is  0 start is 0 max length is 1\n",
      "{'p': 0, 'w': 1} End is  1 start is 0 max length is 2\n",
      "{'p': 0, 'w': 2} End is  2 start is 2 max length is 2\n",
      "{'p': 0, 'w': 2, 'k': 3} End is  3 start is 2 max length is 2\n",
      "{'p': 0, 'w': 2, 'k': 3, 'e': 4} End is  4 start is 2 max length is 3\n",
      "{'p': 0, 'w': 5, 'k': 3, 'e': 4} End is  5 start is 3 max length is 3\n",
      "3\n"
     ]
    }
   ],
   "source": [
    "def long_sub_str_without_repe(s):\n",
    "    char_index = {}  # Dictionary to store the index of each character in the current window\n",
    "    start = 0  # Start of the current window\n",
    "    max_length = 0  # Maximum length of a substring without repeating characters\n",
    "    print(list(enumerate(s)))\n",
    "\n",
    "    for end, char in enumerate(s):\n",
    "        # If the character is already in the current window, update the start index\n",
    "        if char in char_index and char_index[char] >= start:\n",
    "            start = char_index[char] + 1\n",
    "\n",
    "        # Update the index of the current character\n",
    "        char_index[char] = end\n",
    "\n",
    "        # Update the maximum length\n",
    "        max_length = max(max_length, end - start + 1)\n",
    "        print(char_index,\"End is \",end,\"start is\",start ,\"max length is\",max_length)\n",
    "\n",
    "    return max_length\n",
    "# s = \"abcabcbb\"\n",
    "s = \"pwwkew\"\n",
    "print(long_sub_str_without_repe(s))"
   ]
  },
  {
   "cell_type": "markdown",
   "id": "5ee32269",
   "metadata": {},
   "source": [
    "# 12. Missing Ranges\n"
   ]
  },
  {
   "cell_type": "code",
   "execution_count": 14,
   "id": "601f77db",
   "metadata": {},
   "outputs": [
    {
     "name": "stdout",
     "output_type": "stream",
     "text": [
      "['0->21', '23->44', '46->65', '67->98']\n"
     ]
    }
   ],
   "source": [
    "# Time Complexity: O(n), where n is the length of the list l.\n",
    "# Space Complexity: O(n), where n is the length of the list l.\n",
    "\n",
    "def missing_ranges(l):\n",
    "    if not l:\n",
    "        return [\"0->99\"]\n",
    "    nranges = []\n",
    "    ranges = []\n",
    "    if l[0]!=0:\n",
    "        ranges.append(str(0)+\"->\"+str(l[0]-1))\n",
    "    for i in range(1, len(l)):\n",
    "        j = l[i-1]\n",
    "        k = l[i]  \n",
    "        if k-j==2 and j!=0 and k!=1:\n",
    "            ranges.append(str(k-j))\n",
    "        elif k-j>1 and j!=0 and k!=1:# k-j>1:\n",
    "            low = j+1\n",
    "            high = k-1\n",
    "            ranges.append(str(low)+\"->\"+str(high))\n",
    "    if l[i]!=99:\n",
    "        low = l[i]+1\n",
    "        high = 99\n",
    "        ranges.append(str(low)+\"->\"+str(high))\n",
    "    return ranges\n",
    "l = [22,45,66,99]\n",
    "print(missing_ranges(l))\n",
    "        "
   ]
  },
  {
   "cell_type": "code",
   "execution_count": 58,
   "id": "0aa34560",
   "metadata": {},
   "outputs": [
    {
     "name": "stdout",
     "output_type": "stream",
     "text": [
      "297\n"
     ]
    }
   ],
   "source": [
    "print(sum([29,30,31,32,33,34,35,36,37]))"
   ]
  },
  {
   "cell_type": "code",
   "execution_count": 55,
   "id": "4f6bb3bd",
   "metadata": {},
   "outputs": [
    {
     "ename": "SyntaxError",
     "evalue": "invalid syntax (2188257957.py, line 6)",
     "output_type": "error",
     "traceback": [
      "\u001b[0;36m  Cell \u001b[0;32mIn[55], line 6\u001b[0;36m\u001b[0m\n\u001b[0;31m    series+=nums[i-1]\u001b[0m\n\u001b[0m          ^\u001b[0m\n\u001b[0;31mSyntaxError\u001b[0m\u001b[0;31m:\u001b[0m invalid syntax\n"
     ]
    }
   ],
   "source": [
    "def smallest_miss(nums):\n",
    "    series = 0\n",
    "    for i in range(0,len(nums)):\n",
    "        print(nums[i-1])\n",
    "        if nums[i-1<nums[i]:\n",
    "            series+=nums[i-1]\n",
    "        else:\n",
    "            if series not in nums:\n",
    "                return series\n",
    "            else:\n",
    "                series = 0\n",
    "    return series\n",
    "nums = [3,4,5,1,12,14,13]#[29,30,31,32,33,34,35,36,37]\n",
    "print(smallest_miss(nums))\n",
    "        "
   ]
  },
  {
   "cell_type": "code",
   "execution_count": 43,
   "id": "1acdde13",
   "metadata": {},
   "outputs": [
    {
     "name": "stdout",
     "output_type": "stream",
     "text": [
      "29\n",
      "30\n",
      "31\n",
      "32\n",
      "33\n",
      "34\n",
      "35\n",
      "36\n",
      "37\n"
     ]
    }
   ],
   "source": [
    "nums = [29,30,31,32,33,34,35,36,37]\n",
    "for i in range(1,len(nums)+1):\n",
    "        print(nums[i-1])"
   ]
  },
  {
   "cell_type": "code",
   "execution_count": 60,
   "id": "fd9e19d0",
   "metadata": {},
   "outputs": [
    {
     "ename": "NameError",
     "evalue": "name 'sqe_sum' is not defined",
     "output_type": "error",
     "traceback": [
      "\u001b[0;31m---------------------------------------------------------------------------\u001b[0m",
      "\u001b[0;31mNameError\u001b[0m                                 Traceback (most recent call last)",
      "Cell \u001b[0;32mIn[60], line 26\u001b[0m\n\u001b[1;32m     24\u001b[0m \u001b[38;5;66;03m# Example usage:\u001b[39;00m\n\u001b[1;32m     25\u001b[0m nums \u001b[38;5;241m=\u001b[39m [\u001b[38;5;241m3\u001b[39m,\u001b[38;5;241m4\u001b[39m,\u001b[38;5;241m5\u001b[39m,\u001b[38;5;241m1\u001b[39m,\u001b[38;5;241m12\u001b[39m,\u001b[38;5;241m14\u001b[39m,\u001b[38;5;241m13\u001b[39m]\u001b[38;5;66;03m#[29,30,31,32,33,34,35,36,37]\u001b[39;00m\n\u001b[0;32m---> 26\u001b[0m \u001b[38;5;28mprint\u001b[39m(\u001b[43mfind_smallest_missing\u001b[49m\u001b[43m(\u001b[49m\u001b[43mnums\u001b[49m\u001b[43m)\u001b[49m)\n",
      "Cell \u001b[0;32mIn[60], line 14\u001b[0m, in \u001b[0;36mfind_smallest_missing\u001b[0;34m(nums)\u001b[0m\n\u001b[1;32m     12\u001b[0m \u001b[38;5;66;03m# Step 2: Calculate the sum of the longest sequential prefix\u001b[39;00m\n\u001b[1;32m     13\u001b[0m seq_sum \u001b[38;5;241m=\u001b[39m \u001b[38;5;28msum\u001b[39m(nums[:longest_seq_length])\n\u001b[0;32m---> 14\u001b[0m \u001b[38;5;28mprint\u001b[39m(\u001b[43msqe_sum\u001b[49m)\n\u001b[1;32m     16\u001b[0m \u001b[38;5;66;03m# Step 3: Find the smallest missing integer >= seq_sum\u001b[39;00m\n\u001b[1;32m     17\u001b[0m missing \u001b[38;5;241m=\u001b[39m seq_sum\n",
      "\u001b[0;31mNameError\u001b[0m: name 'sqe_sum' is not defined"
     ]
    }
   ],
   "source": [
    "def find_smallest_missing(nums):\n",
    "    n = len(nums)\n",
    "    \n",
    "    # Step 1: Find the longest sequential prefix\n",
    "    longest_seq_length = 1\n",
    "    for i in range(1, n):\n",
    "        if nums[i] == nums[i - 1] + 1:\n",
    "            longest_seq_length += 1\n",
    "        else:\n",
    "            break\n",
    "\n",
    "    # Step 2: Calculate the sum of the longest sequential prefix\n",
    "    seq_sum = sum(nums[:longest_seq_length])\n",
    "    print(seq_sum)\n",
    "\n",
    "    # Step 3: Find the smallest missing integer >= seq_sum\n",
    "    missing = seq_sum\n",
    "    num_set = set(nums)\n",
    "    while missing in num_set:\n",
    "        missing += 1\n",
    "\n",
    "    return missing\n",
    "\n",
    "# Example usage:\n",
    "nums = [3,4,5,1,12,14,13]#[29,30,31,32,33,34,35,36,37]\n",
    "print(find_smallest_missing(nums))  # Output: 6\n"
   ]
  },
  {
   "cell_type": "markdown",
   "id": "42116bf8",
   "metadata": {},
   "source": [
    "# Combination Sum\n",
    "Given an array of distinct integers candidates and a target integer target, return a list of all unique combinations of candidates where the chosen numbers sum to target. You may return the combinations in any order.\n",
    "\n",
    "The same number may be chosen from candidates an unlimited number of times. Two combinations are unique if the \n",
    "frequency\n",
    " of at least one of the chosen numbers is different.\n",
    "\n",
    "The test cases are generated such that the number of unique combinations that sum up to target is less than 150 combinations for the given input.\n",
    "\n",
    "Example 1:\n",
    "\n",
    "Input: candidates = [2,3,6,7], target = 7\n",
    "Output: [[2,2,3],[7]]\n",
    "Explanation:\n",
    "2 and 3 are candidates, and 2 + 2 + 3 = 7. Note that 2 can be used multiple times.\n",
    "7 is a candidate, and 7 = 7.\n",
    "These are the only two combinations.\n"
   ]
  },
  {
   "cell_type": "code",
   "execution_count": null,
   "id": "9d9e79f3",
   "metadata": {},
   "outputs": [],
   "source": [
    "Solution:\n",
    "\n"
   ]
  },
  {
   "cell_type": "code",
   "execution_count": 7,
   "id": "550fb441",
   "metadata": {},
   "outputs": [
    {
     "name": "stdout",
     "output_type": "stream",
     "text": [
      "i is 0, path+[candidate[i]] is [2] and target-candidate[i] is 5\n",
      "i is 0, path+[candidate[i]] is [2, 2] and target-candidate[i] is 3\n",
      "i is 0, path+[candidate[i]] is [2, 2, 2] and target-candidate[i] is 1\n",
      "i is 0, path+[candidate[i]] is [2, 2, 2, 2] and target-candidate[i] is -1\n",
      "i is 1, path+[candidate[i]] is [2, 2, 2, 3] and target-candidate[i] is -2\n",
      "i is 2, path+[candidate[i]] is [2, 2, 2, 6] and target-candidate[i] is -5\n",
      "i is 3, path+[candidate[i]] is [2, 2, 2, 7] and target-candidate[i] is -6\n",
      "i is 1, path+[candidate[i]] is [2, 2, 3] and target-candidate[i] is 0\n",
      "[[2, 2, 3]]\n",
      "i is 2, path+[candidate[i]] is [2, 2, 6] and target-candidate[i] is -3\n",
      "i is 3, path+[candidate[i]] is [2, 2, 7] and target-candidate[i] is -4\n",
      "i is 1, path+[candidate[i]] is [2, 3] and target-candidate[i] is 2\n",
      "i is 1, path+[candidate[i]] is [2, 3, 3] and target-candidate[i] is -1\n",
      "i is 2, path+[candidate[i]] is [2, 3, 6] and target-candidate[i] is -4\n",
      "i is 3, path+[candidate[i]] is [2, 3, 7] and target-candidate[i] is -5\n",
      "i is 2, path+[candidate[i]] is [2, 6] and target-candidate[i] is -1\n",
      "i is 3, path+[candidate[i]] is [2, 7] and target-candidate[i] is -2\n",
      "i is 1, path+[candidate[i]] is [3] and target-candidate[i] is 4\n",
      "i is 1, path+[candidate[i]] is [3, 3] and target-candidate[i] is 1\n",
      "i is 1, path+[candidate[i]] is [3, 3, 3] and target-candidate[i] is -2\n",
      "i is 2, path+[candidate[i]] is [3, 3, 6] and target-candidate[i] is -5\n",
      "i is 3, path+[candidate[i]] is [3, 3, 7] and target-candidate[i] is -6\n",
      "i is 2, path+[candidate[i]] is [3, 6] and target-candidate[i] is -2\n",
      "i is 3, path+[candidate[i]] is [3, 7] and target-candidate[i] is -3\n",
      "i is 2, path+[candidate[i]] is [6] and target-candidate[i] is 1\n",
      "i is 2, path+[candidate[i]] is [6, 6] and target-candidate[i] is -5\n",
      "i is 3, path+[candidate[i]] is [6, 7] and target-candidate[i] is -6\n",
      "i is 3, path+[candidate[i]] is [7] and target-candidate[i] is 0\n",
      "[[2, 2, 3], [7]]\n",
      "[[2, 2, 3], [7]]\n"
     ]
    }
   ],
   "source": [
    "def combinationSum(candidates, target):\n",
    "    def backtrack(start, path, target):\n",
    "        if target == 0:\n",
    "            result.append(path)\n",
    "            print(result)\n",
    "            return\n",
    "        if target < 0:\n",
    "            return\n",
    "        \n",
    "        for i in range(start, len(candidates)):\n",
    "            # Include the candidate[i] in the path\n",
    "            print(f'i is {i}, path+[candidate[i]] is {path + [candidates[i]]} and target-candidate[i] is {target - candidates[i]}')\n",
    "            backtrack(i, path + [candidates[i]], target - candidates[i])\n",
    "    \n",
    "    result = []\n",
    "    candidates.sort()\n",
    "    backtrack(0, [], target)\n",
    "    return result\n",
    "\n",
    "# Example usage\n",
    "candidates = [2, 3, 6, 7]\n",
    "target = 7\n",
    "print(combinationSum(candidates, target))\n"
   ]
  },
  {
   "cell_type": "code",
   "execution_count": 9,
   "id": "76347f7c",
   "metadata": {},
   "outputs": [
    {
     "name": "stdout",
     "output_type": "stream",
     "text": [
      "***********\n",
      "i is 0\n",
      "L is -1, R is 1\n",
      "len1 is 1\n",
      "L is 0, R is 1\n",
      "len2 is 0\n",
      "start is 0\n",
      "end is 0\n",
      "***********\n",
      "i is 1\n",
      "L is -1, R is 3\n",
      "len1 is 3\n",
      "L is 1, R is 2\n",
      "len2 is 0\n",
      "start is 0\n",
      "end is 2\n",
      "***********\n",
      "i is 2\n",
      "L is 0, R is 4\n",
      "len1 is 3\n",
      "L is 2, R is 3\n",
      "len2 is 0\n",
      "start is 1\n",
      "end is 3\n",
      "***********\n",
      "i is 3\n",
      "L is 2, R is 4\n",
      "len1 is 1\n",
      "L is 3, R is 4\n",
      "len2 is 0\n",
      "***********\n",
      "i is 4\n",
      "L is 3, R is 5\n",
      "len1 is 1\n",
      "L is 4, R is 5\n",
      "len2 is 0\n",
      "aba\n"
     ]
    }
   ],
   "source": [
    "def longestPalindrome(s: str) -> str:\n",
    "    start, end = 0, 0\n",
    "    \n",
    "    for i in range(len(s)):\n",
    "        print(f'***********\\ni is {i}')\n",
    "        len1 = expandAroundCenter(s, i, i)\n",
    "        print(f'len1 is {len1}')\n",
    "        len2 = expandAroundCenter(s, i, i + 1)\n",
    "        print(f'len2 is {len2}')\n",
    "        length = max(len1, len2)\n",
    "        \n",
    "        if length > end - start:\n",
    "            start = i - (length - 1) // 2\n",
    "            print(f'start is {start}')\n",
    "            end = i + length // 2\n",
    "            print(f'end is {end}')\n",
    "    \n",
    "    return s[start:end + 1]\n",
    "\n",
    "def expandAroundCenter(s: str, left: int, right: int) -> int:\n",
    "    L, R = left, right\n",
    "    \n",
    "    while L >= 0 and R < len(s) and s[L] == s[R]:\n",
    "        L -= 1\n",
    "        R += 1\n",
    "    print(f'L is {L}, R is {R}')\n",
    "    return R - L - 1\n",
    "\n",
    "# Example usage:\n",
    "s = \"babad\"\n",
    "print(longestPalindrome(s))  # Output: \"bab\" or \"aba\"\n"
   ]
  },
  {
   "cell_type": "markdown",
   "id": "2404ec65",
   "metadata": {},
   "source": [
    "# Is Graph Bipartite\n",
    "\n",
    "There is an undirected graph with n nodes, where each node is numbered between 0 and n - 1. You are given a 2D array graph, where graph[u] is an array of nodes that node u is adjacent to. More formally, for each v in graph[u], there is an undirected edge between node u and node v. The graph has the following properties:\n",
    "\n",
    "There are no self-edges (graph[u] does not contain u).\n",
    "There are no parallel edges (graph[u] does not contain duplicate values).\n",
    "If v is in graph[u], then u is in graph[v] (the graph is undirected).\n",
    "The graph may not be connected, meaning there may be two nodes u and v such that there is no path between them.\n",
    "A graph is bipartite if the nodes can be partitioned into two independent sets A and B such that every edge in the graph connects a node in set A and a node in set B.\n",
    "\n",
    "Return true if and only if it is bipartite.\n",
    "\n",
    "Input: graph = [[1,2,3],[0,2],[0,1,3],[0,2]]\n",
    "Output: false\n",
    "Explanation: There is no way to partition the nodes into two independent sets such that every edge connects a node in one and a node in the other."
   ]
  },
  {
   "cell_type": "code",
   "execution_count": 196,
   "id": "1b32a1a6",
   "metadata": {},
   "outputs": [
    {
     "name": "stdout",
     "output_type": "stream",
     "text": [
      "color is [-1, -1, -1, -1]\n",
      "for node 0 color is [0, 1, -1, 1]\n",
      "for node 1 color is [0, 1, 0, 1]\n",
      "for node 3 color is [0, 1, 0, 1]\n",
      "for node 2 color is [0, 1, 0, 1]\n",
      "True\n",
      "color is [-1, -1, -1, -1]\n",
      "for node 0 color is [0, 1, 1, 1]\n",
      "False\n",
      "color is [-1, -1, -1, -1]\n",
      "for node 0 color is [0, 1, -1, -1]\n",
      "for node 1 color is [0, 1, -1, 0]\n",
      "for node 3 color is [0, 1, 1, 0]\n",
      "for node 2 color is [0, 1, 1, 0]\n",
      "True\n"
     ]
    }
   ],
   "source": [
    "from collections import deque\n",
    "\n",
    "def is_bipartite(graph):\n",
    "    n = len(graph)\n",
    "    color = [-1] * n  # Color array to store colors assigned to vertices: -1 (unvisited), 0 and 1 (two different colors)\n",
    "    print(f'color is {color}')\n",
    "    def bfs(start):\n",
    "        queue = deque([start])\n",
    "        color[start] = 0  # Start coloring the initial node with color 0\n",
    "        \n",
    "        while queue:\n",
    "            node = queue.popleft()\n",
    "            current_color = color[node]\n",
    "            next_color = 1 - current_color  # Switch color\n",
    "#             print(f'node is {node}')\n",
    "\n",
    "            for neighbor in graph[node]:\n",
    "                if color[neighbor] == -1:  # If neighbor is not colored\n",
    "                    color[neighbor] = next_color\n",
    "                    queue.append(neighbor)\n",
    "                elif color[neighbor] == current_color:  # If neighbor has the same color as current node\n",
    "                    return False\n",
    "            print(f'for node {node} color is {color}')\n",
    "        return True\n",
    "    \n",
    "    # Check each component of the graph\n",
    "    for i in range(n):\n",
    "        if color[i] == -1:  # If node i is not visited\n",
    "            if not bfs(i):\n",
    "                return False\n",
    "    return True\n",
    "\n",
    "# Example usage:\n",
    "graph1 = [[1, 3], [0, 2], [1, 3], [0, 2]]  # Bipartite graph\n",
    "graph2 = [[1, 2, 3], [0, 2], [0, 1, 3], [0, 2]]  # Non-bipartite graph\n",
    "graph3 = [[1],[0,3],[3],[1,2]]\n",
    "\n",
    "print(is_bipartite(graph1))  # Output: True\n",
    "print(is_bipartite(graph2))  # Output: False\n",
    "print(is_bipartite(graph3))\n"
   ]
  },
  {
   "cell_type": "markdown",
   "id": "ee6fae39",
   "metadata": {},
   "source": [
    "# 207 Cousrse Schedule\n",
    "There are a total of numCourses courses you have to take, labeled from 0 to numCourses - 1. You are given an array prerequisites where prerequisites[i] = [ai, bi] indicates that you must take course bi first if you want to take course ai.\n",
    "\n",
    "For example, the pair [0, 1], indicates that to take course 0 you have to first take course 1.\n",
    "Return true if you can finish all courses. Otherwise, return false.\n",
    "\n",
    " \n",
    "\n",
    "Example 1:\n",
    "\n",
    "Input: numCourses = 2, prerequisites = [[1,0]]\n",
    "Output: true\n",
    "Explanation: There are a total of 2 courses to take. \n",
    "To take course 1 you should have finished course 0. So it is possible.\n",
    "\n",
    "Example 2:\n",
    "\n",
    "Input: numCourses = 2, prerequisites = [[1,0],[0,1]]\n",
    "Output: false\n",
    "Explanation: There are a total of 2 courses to take. \n",
    "To take course 1 you should have finished course 0, and to take course 0 you should also have finished course 1. So it is impossible.\n"
   ]
  },
  {
   "cell_type": "code",
   "execution_count": 3,
   "id": "5d2d0dd0",
   "metadata": {},
   "outputs": [
    {
     "name": "stdout",
     "output_type": "stream",
     "text": [
      "False\n"
     ]
    }
   ],
   "source": [
    "# Consider the list [0,1] as two nodes and they are connected as \n",
    "# 0->1 in order to take course 0 the prerequisite 1 has to be completed first\n",
    "\n",
    "# We do this by DFS as to find the connectivity of nodes.\n",
    "\n",
    "# Main this is to detect the loop as from above Example 2 there is a loop 0->1->0 this is impossible case\n",
    "# for this we take a set to maintian the 'visited' if node already visited then simply return False as there is a LOOP\n",
    "\n",
    "def canFinish(numCourses, prerequisites):\n",
    "    if numCourses==0:\n",
    "        return True\n",
    "    # declare a hashmap to maintain the courses and respective prerequisites,[[0,1],[0,2],[0,3],[1,2],[3,4]] eg 0->1,2,3 1->2, 3->4\n",
    "    #adjacency list\n",
    "    preMap = {i:[] for i in range(numCourses)}\n",
    "    # iterate through all the courses\n",
    "    for crs, pre in prerequisites:\n",
    "        preMap[crs].append(pre)\n",
    "    \n",
    "    # Declare visit set for detecting loop\n",
    "    visitSet = set()\n",
    "    \n",
    "    # start a DFS function, it is recursive\n",
    "    def dfs(crs):\n",
    "        # base cases\n",
    "        if crs in visitSet:\n",
    "            return False\n",
    "        if preMap[crs]==[]:\n",
    "            return True\n",
    "        # add course to visit set\n",
    "        visitSet.add(crs)\n",
    "        for pre in preMap[crs]:\n",
    "            if not dfs(pre):\n",
    "                return False\n",
    "        # as visited remove fomr visit set\n",
    "        visitSet.remove(crs)\n",
    "        # make preMap empty as it iterated\n",
    "        preMap[crs] = []\n",
    "        return True\n",
    "    \n",
    "    # call dfs\n",
    "    for crs in range(numCourses):\n",
    "        if not dfs(crs):\n",
    "            return False\n",
    "    return True\n",
    "\n",
    "numCourses = 2\n",
    "prerequisites = [[1,0],[0,1]]\n",
    "print(canFinish(numCourses, prerequisites))\n"
   ]
  },
  {
   "cell_type": "markdown",
   "id": "1a1bab87",
   "metadata": {},
   "source": [
    "# 210 Course Schedule II\n",
    "There are a total of numCourses courses you have to take, labeled from 0 to numCourses - 1. You are given an array prerequisites where prerequisites[i] = [ai, bi] indicates that you must take course bi first if you want to take course ai.\n",
    "\n",
    "For example, the pair [0, 1], indicates that to take course 0 you have to first take course 1.\n",
    "Return the ordering of courses you should take to finish all courses. If there are many valid answers, return any of them. If it is impossible to finish all courses, return an empty array.\n",
    "\n",
    " \n",
    "\n",
    "Example 1:\n",
    "\n",
    "Input: numCourses = 2, prerequisites = [[1,0]]\n",
    "Output: [0,1]\n",
    "Explanation: There are a total of 2 courses to take. To take course 1 you should have finished course 0. So the correct course order is [0,1].\n",
    "Example 2:\n",
    "\n",
    "Input: numCourses = 4, prerequisites = [[1,0],[2,0],[3,1],[3,2]]\n",
    "Output: [0,2,1,3]\n",
    "Explanation: There are a total of 4 courses to take. To take course 3 you should have finished both courses 1 and 2. Both courses 1 and 2 should be taken after you finished course 0.\n",
    "So one correct course order is [0,1,2,3]. Another correct ordering is [0,2,1,3]."
   ]
  },
  {
   "cell_type": "markdown",
   "id": "55da7dcd",
   "metadata": {},
   "source": [
    "eg: [[0,1],[0,2],[1,3],[3,2],[4,0],[5,0]]0->1,2 1->3, 3->2, 4->0, 5->0\n",
    "Out put is [2,3,1,0,4,5]\n",
    "\n",
    "Time Complexity: O(E+V)\n",
    "\n",
    "We Use Topological Sort here as it is developed on DFS as here we need order so this algorithm is preferred"
   ]
  },
  {
   "cell_type": "code",
   "execution_count": 19,
   "id": "3eb80f07",
   "metadata": {},
   "outputs": [
    {
     "name": "stdout",
     "output_type": "stream",
     "text": [
      "[[1, 0], [2, 0], [3, 1], [3, 2]]\n",
      "Hi Im in 1 0\n",
      "Hi Im in 2 0\n"
     ]
    },
    {
     "ename": "KeyError",
     "evalue": "2",
     "output_type": "error",
     "traceback": [
      "\u001b[0;31m---------------------------------------------------------------------------\u001b[0m",
      "\u001b[0;31mKeyError\u001b[0m                                  Traceback (most recent call last)",
      "Cell \u001b[0;32mIn[19], line 45\u001b[0m\n\u001b[1;32m     43\u001b[0m numCourses \u001b[38;5;241m=\u001b[39m \u001b[38;5;241m2\u001b[39m\n\u001b[1;32m     44\u001b[0m prerequisites \u001b[38;5;241m=\u001b[39m [[\u001b[38;5;241m1\u001b[39m,\u001b[38;5;241m0\u001b[39m],[\u001b[38;5;241m2\u001b[39m,\u001b[38;5;241m0\u001b[39m],[\u001b[38;5;241m3\u001b[39m,\u001b[38;5;241m1\u001b[39m],[\u001b[38;5;241m3\u001b[39m,\u001b[38;5;241m2\u001b[39m]]\n\u001b[0;32m---> 45\u001b[0m \u001b[38;5;28mprint\u001b[39m(\u001b[43mcanFinish2\u001b[49m\u001b[43m(\u001b[49m\u001b[43mnumCourses\u001b[49m\u001b[43m,\u001b[49m\u001b[43m \u001b[49m\u001b[43mprerequisites\u001b[49m\u001b[43m)\u001b[49m)\n",
      "Cell \u001b[0;32mIn[19], line 9\u001b[0m, in \u001b[0;36mcanFinish2\u001b[0;34m(numCourses, prerequisites)\u001b[0m\n\u001b[1;32m      7\u001b[0m \u001b[38;5;28;01mfor\u001b[39;00m crs, pre \u001b[38;5;129;01min\u001b[39;00m prerequisites:\n\u001b[1;32m      8\u001b[0m     \u001b[38;5;28mprint\u001b[39m(\u001b[38;5;124m\"\u001b[39m\u001b[38;5;124mHi Im in\u001b[39m\u001b[38;5;124m\"\u001b[39m, crs, pre)\n\u001b[0;32m----> 9\u001b[0m     \u001b[43mpreMap2\u001b[49m\u001b[43m[\u001b[49m\u001b[43mcrs\u001b[49m\u001b[43m]\u001b[49m\u001b[38;5;241m.\u001b[39mappend(pre)\n\u001b[1;32m     11\u001b[0m \u001b[38;5;28mprint\u001b[39m(preMap2)\n\u001b[1;32m     12\u001b[0m \u001b[38;5;66;03m# declare a output list for order\u001b[39;00m\n",
      "\u001b[0;31mKeyError\u001b[0m: 2"
     ]
    }
   ],
   "source": [
    "def canFinish2(numCourses, prerequisites):\n",
    "    print(prerequisites)\n",
    "    # maintain a adjacency list of prerequisites of each course\n",
    "    preMap2 = {c:[] for c in range(numCourses)}\n",
    "\n",
    "    # Iterate athrough all and add\n",
    "    for crs, pre in prerequisites:\n",
    "        print(\"Hi Im in\", crs, pre)\n",
    "        preMap2[crs].append(pre)\n",
    "\n",
    "    print(preMap2)\n",
    "    # declare a output list for order\n",
    "    output = []\n",
    "    # decalre a visit set for visit as to maintin the visit list as we need these courses order\n",
    "    visit = set()\n",
    "    # declare a cycle to detect cycle\n",
    "    cycle = set()\n",
    "\n",
    "    # add the DFS(Topologicalsort) algo\n",
    "    def dfs(crs):\n",
    "        #base cases\n",
    "        if crs in visit:\n",
    "            return True\n",
    "        if crs in cycle:\n",
    "            return False\n",
    "        cycle.add(crs)\n",
    "        for pre in preMap2[crs]:\n",
    "            if not dfs(pre):\n",
    "                return False\n",
    "        cycle.remove(crs)\n",
    "        # maintain the visit as we need order of the courses\n",
    "        visit.add(crs)\n",
    "        # add into the list as we need order of the courses\n",
    "        output.append(crs)\n",
    "        return True\n",
    "\n",
    "    # call dfs\n",
    "    for c in range(numCourses):\n",
    "        if not dfs(c):\n",
    "            return []\n",
    "    return output\n",
    "            \n",
    "numCourses = 2\n",
    "prerequisites = [[1,0],[2,0],[3,1],[3,2]]\n",
    "print(canFinish2(numCourses, prerequisites))"
   ]
  },
  {
   "cell_type": "markdown",
   "id": "67f34fb6",
   "metadata": {},
   "source": [
    "# 200 Number of Islands\n",
    "Companies\n",
    "Given an m x n 2D binary grid grid which represents a map of '1's (land) and '0's (water), return the number of islands.\n",
    "\n",
    "An island is surrounded by water and is formed by connecting adjacent lands horizontally or vertically. You may assume all four edges of the grid are all surrounded by water.\n",
    "\n",
    " \n",
    "\n",
    "Example 1:\n",
    "\n",
    "Input: grid = [\n",
    "  [\"1\",\"1\",\"1\",\"1\",\"0\"],\n",
    "  [\"1\",\"1\",\"0\",\"1\",\"0\"],\n",
    "  [\"1\",\"1\",\"0\",\"0\",\"0\"],\n",
    "  [\"0\",\"0\",\"0\",\"0\",\"0\"]\n",
    "]\n",
    "Output: 1\n",
    "Example 2:\n",
    "\n",
    "Input: grid = [\n",
    "  [\"1\",\"1\",\"0\",\"0\",\"0\"],\n",
    "  [\"1\",\"1\",\"0\",\"0\",\"0\"],\n",
    "  [\"0\",\"0\",\"1\",\"0\",\"0\"],\n",
    "  [\"0\",\"0\",\"0\",\"1\",\"1\"]\n",
    "]\n",
    "Output: 3\n",
    " \n",
    "\n",
    "Constraints:\n",
    "\n",
    "m == grid.length\n",
    "n == grid[i].length\n",
    "1 <= m, n <= 300\n",
    "grid[i][j] is '0' or '1'."
   ]
  },
  {
   "cell_type": "code",
   "execution_count": 23,
   "id": "642ad2e1",
   "metadata": {},
   "outputs": [
    {
     "name": "stdout",
     "output_type": "stream",
     "text": [
      "3\n"
     ]
    }
   ],
   "source": [
    "import collections\n",
    "# We can use BFS here\n",
    "def numIslandsBFS(grid):\n",
    "    if not grid:\n",
    "        return 0\n",
    "    rows, cols = len(grid),len(grid[0])\n",
    "    # declare visit in order to not visit multiple times\n",
    "    visit = set()\n",
    "    #declare islands for count\n",
    "    no_islands = 0\n",
    "    \n",
    "    # Write BFS here\n",
    "    def bfs(r,c):\n",
    "        # as bfs is not iterative\n",
    "        #declare Queue\n",
    "        q = collections.deque()\n",
    "        q.append((r,c))\n",
    "        #start the bfs\n",
    "        while q:\n",
    "            row, col = q.popleft()\n",
    "            # check the neighbour elements\n",
    "            directions = [[1,0],[-1,0],[0,1],[0,-1]]\n",
    "            # iterate through directions\n",
    "            for dr, dc in directions:\n",
    "                r, c = row+dr, col+dc\n",
    "                if(r in range(rows) and\n",
    "                   c in range(cols) and\n",
    "                   grid[r][c] == '1' and\n",
    "                   (r,c) not in visit):\n",
    "                    q.append((r,c))\n",
    "                    visit.add((r,c))\n",
    "                \n",
    "    \n",
    "    # Now iterate through each element of the grid\n",
    "    for r in range(rows):\n",
    "        for c in range(cols):\n",
    "            if grid[r][c] == '1' and (r,c) not in visit:\n",
    "                bfs(r,c)\n",
    "                no_islands+=1\n",
    "    return no_islands\n",
    "grid = [\n",
    "  [\"1\",\"1\",\"0\",\"0\",\"0\"],\n",
    "  [\"1\",\"1\",\"0\",\"0\",\"0\"],\n",
    "  [\"0\",\"0\",\"1\",\"0\",\"0\"],\n",
    "  [\"0\",\"0\",\"0\",\"1\",\"1\"]\n",
    "]\n",
    "print(numIslandsBFS(grid)) # output 3"
   ]
  },
  {
   "cell_type": "code",
   "execution_count": 31,
   "id": "dbfc1df9",
   "metadata": {},
   "outputs": [
    {
     "name": "stdout",
     "output_type": "stream",
     "text": [
      "3\n"
     ]
    }
   ],
   "source": [
    "# Using DFS\n",
    "\n",
    "def numIslandsDFS(grid):\n",
    "#     if not grid:\n",
    "#         return 0\n",
    "#     rows, cols = len(grid), len(grid[0])\n",
    "    if not grid:\n",
    "            return \n",
    "    def dfs(i,j):\n",
    "        if i<0 or i>=len(grid) or j<0 or j>= len(grid[0]) or grid[i][j]!='1':\n",
    "            return\n",
    "        grid[i][j] = 'O'\n",
    "        dfs(i-1,j)\n",
    "        dfs(i,j-1)\n",
    "        dfs(i+1,j)\n",
    "        dfs(i,j+1)\n",
    "    no_of_islands = 0\n",
    "    for i in range(len(grid)):\n",
    "        for j in range(len(grid[0])):\n",
    "            if grid[i][j]=='1':\n",
    "                no_of_islands+=1\n",
    "                dfs(i,j)\n",
    "    return no_of_islands\n",
    "#     no_of_islands = 0\n",
    "    \n",
    "#     # write DFS it is iterative\n",
    "    \n",
    "#     def dfs(r,c):\n",
    "#         # declare base cases\n",
    "#         if r<0 or c<0 or r>=rows or c<=cols or grid[r][c]!='1':\n",
    "#             return\n",
    "#         # As maintaining visited make this visited grid as 0\n",
    "#         grid[r][c] = '0'\n",
    "        \n",
    "#         dfs(r-1,c)\n",
    "#         dfs(r,c-1)\n",
    "#         dfs(r+1,c)\n",
    "#         dfs(r,c+1)\n",
    "        \n",
    "    \n",
    "#     for row in range(rows):\n",
    "#         for col in range(cols):\n",
    "#             if grid[row][col]=='1':\n",
    "#                 no_of_islands+=1\n",
    "#                 dfs(row,col)\n",
    "                \n",
    "#     return no_of_islands\n",
    "grid = [\n",
    "  [\"1\",\"1\",\"0\",\"0\",\"0\"],\n",
    "  [\"1\",\"1\",\"0\",\"0\",\"0\"],\n",
    "  [\"0\",\"0\",\"1\",\"0\",\"0\"],\n",
    "  [\"0\",\"0\",\"0\",\"1\",\"1\"]\n",
    "]\n",
    "print(numIslandsDFS(grid)) # output 3"
   ]
  },
  {
   "cell_type": "code",
   "execution_count": 32,
   "id": "0a513b73",
   "metadata": {},
   "outputs": [],
   "source": [
    "# 133 Clone Graph (undirected graph) NOT FOUND IN LEET CODE\n",
    "# Make the copy/duplicates of nodes and create the similar graph with these\n",
    "\n",
    "# We use DFS here\n",
    "# USe hash map maintain old(orgignal) as key and it's clone as value\n",
    "# def cloneGraph():\n",
    "    "
   ]
  },
  {
   "cell_type": "markdown",
   "id": "98fded53",
   "metadata": {},
   "source": [
    "# 127 Word Ladder\n",
    "\n",
    "A transformation sequence from word beginWord to word endWord using a dictionary wordList is a sequence of words beginWord -> s1 -> s2 -> ... -> sk such that:\n",
    "\n",
    "Every adjacent pair of words differs by a single letter.\n",
    "Every si for 1 <= i <= k is in wordList. Note that beginWord does not need to be in wordList.\n",
    "sk == endWord\n",
    "Given two words, beginWord and endWord, and a dictionary wordList, return the number of words in the shortest transformation sequence from beginWord to endWord, or 0 if no such sequence exists.\n",
    "\n",
    " \n",
    "\n",
    "Example 1:\n",
    "\n",
    "Input: beginWord = \"hit\", endWord = \"cog\", wordList = [\"hot\",\"dot\",\"dog\",\"lot\",\"log\",\"cog\"]\n",
    "Output: 5\n",
    "Explanation: One shortest transformation sequence is \"hit\" -> \"hot\" -> \"dot\" -> \"dog\" -> cog\", which is 5 words long."
   ]
  },
  {
   "cell_type": "markdown",
   "id": "8d13922d",
   "metadata": {},
   "source": [
    "# Soultion\n",
    "Adjacency list creation takes place O(n^2 m) in Naive approapch as m is constant(m character word)\n",
    "\n",
    "the solution proceeds like \n",
    "hot -> *ot,h*t,ho*\n",
    "dot -> *ot, d*t, do*\n",
    "etc\n",
    "now mainitaing adjacency list like {*ot:[hot,dotlot], etc} \n",
    "it is like finding the shortest path for each node startng for the start node\n",
    "\n",
    "hit -> hot -> dot -> dog\n",
    "        |             |\n",
    "       lot---------> log -> cog\n",
    "       \n",
    "sortest path is hit-> hot->lot->log->cog : 5 words\n",
    "\n",
    "so for this BFS is used"
   ]
  },
  {
   "cell_type": "code",
   "execution_count": 8,
   "id": "b4df6289",
   "metadata": {},
   "outputs": [
    {
     "name": "stdout",
     "output_type": "stream",
     "text": [
      "defaultdict(<class 'list'>, {'*ot': ['hot', 'dot', 'lot'], 'h*t': ['hot', 'hit'], 'ho*': ['hot'], 'd*t': ['dot'], 'do*': ['dot', 'dog'], '*og': ['dog', 'log', 'cog'], 'd*g': ['dog'], 'l*t': ['lot'], 'lo*': ['lot', 'log'], 'l*g': ['log'], 'c*g': ['cog'], 'co*': ['cog'], '*it': ['hit'], 'hi*': ['hit']})\n",
      "5\n"
     ]
    }
   ],
   "source": [
    "import collections\n",
    "def ladderLength(beginWord, endWord, wordList):\n",
    "    if endWord not in wordList:\n",
    "        return 0\n",
    "    \n",
    "    # declare a defaultdict (an adjacecny list)\n",
    "    neigh = collections.defaultdict(list)\n",
    "    # add the first word \n",
    "    wordList.append(beginWord)\n",
    "    # Iterate through each wprd and define the pattern\n",
    "    for word in wordList:\n",
    "        for j in range(len(word)):\n",
    "            pattern = word[:j]+\"*\"+word[j+1:]\n",
    "            neigh[pattern].append(word)\n",
    "    print(neigh)\n",
    "    # declare a visit set for not to reiterate it again \n",
    "    # add the begin word\n",
    "    visit = set([beginWord])\n",
    "    # declare a queue for findig the neighbor words and add the initial beginWord\n",
    "    q = collections.deque([beginWord])\n",
    "    res = 1 # mainitaining the count\n",
    "    while q:\n",
    "        for i in range(len(q)):\n",
    "            word = q.popleft()\n",
    "            if word ==endWord:\n",
    "                return res\n",
    "            for j in range(len(word)): # finding the pattern words\n",
    "                pattern = word[:j]+\"*\"+word[j+1:]\n",
    "                for neighWord in neigh[pattern]:\n",
    "                    if neighWord not in visit:\n",
    "                        visit.add(neighWord)\n",
    "                        q.append(neighWord)\n",
    "        res+=1\n",
    "    return 0\n",
    "\n",
    "beginWord = \"hit\"\n",
    "endWord = \"cog\"\n",
    "wordList = [\"hot\",\"dot\",\"dog\",\"lot\",\"log\",\"cog\"]\n",
    "print(ladderLength(beginWord, endWord, wordList))"
   ]
  },
  {
   "cell_type": "markdown",
   "id": "13decf58",
   "metadata": {},
   "source": [
    "# 417 Pasific Atlantic Ocean\n",
    "\n",
    "There is an m x n rectangular island that borders both the Pacific Ocean and Atlantic Ocean. The Pacific Ocean touches the island's left and top edges, and the Atlantic Ocean touches the island's right and bottom edges.\n",
    "\n",
    "The island is partitioned into a grid of square cells. You are given an m x n integer matrix heights where heights[r][c] represents the height above sea level of the cell at coordinate (r, c).\n",
    "\n",
    "The island receives a lot of rain, and the rain water can flow to neighboring cells directly north, south, east, and west if the neighboring cell's height is less than or equal to the current cell's height. Water can flow from any cell adjacent to an ocean into the ocean.\n",
    "\n",
    "Return a 2D list of grid coordinates result where result[i] = [ri, ci] denotes that rain water can flow from cell (ri, ci) to both the Pacific and Atlantic oceans.\n",
    "\n",
    "Input: heights = [[1,2,2,3,5],[3,2,3,4,4],[2,4,5,3,1],[6,7,1,4,5],[5,1,1,2,4]]\n",
    "Output: [[0,4],[1,3],[1,4],[2,2],[3,0],[3,1],[4,0]]\n",
    "Explanation: The following cells can flow to the Pacific and Atlantic oceans, as shown below:\n",
    "[0,4]: [0,4] -> Pacific Ocean \n",
    "       [0,4] -> Atlantic Ocean\n",
    "[1,3]: [1,3] -> [0,3] -> Pacific Ocean \n",
    "       [1,3] -> [1,4] -> Atlantic Ocean\n",
    "[1,4]: [1,4] -> [1,3] -> [0,3] -> Pacific Ocean \n",
    "       [1,4] -> Atlantic Ocean\n",
    "[2,2]: [2,2] -> [1,2] -> [0,2] -> Pacific Ocean \n",
    "       [2,2] -> [2,3] -> [2,4] -> Atlantic Ocean\n",
    "[3,0]: [3,0] -> Pacific Ocean \n",
    "       [3,0] -> [4,0] -> Atlantic Ocean\n",
    "[3,1]: [3,1] -> [3,0] -> Pacific Ocean \n",
    "       [3,1] -> [4,1] -> Atlantic Ocean\n",
    "[4,0]: [4,0] -> Pacific Ocean \n",
    "       [4,0] -> Atlantic Ocean\n",
    "Note that there are other possible paths for these cells to flow to the Pacific and Atlantic oceans."
   ]
  },
  {
   "cell_type": "markdown",
   "id": "35a6c586",
   "metadata": {},
   "source": [
    "# Solution\n",
    "A: Iterate throguh nodes whicch can be reached to Pasific Ocean (DFS), \n",
    "B: Similar way iterate through nodes which can be reached to Atlantic Ocean (DFS),\n",
    "Now find the nodes which are common in A and B this says that cell in which water flows form noth pasific and Atlantic oceans.\n",
    "\n",
    "Time Complexity : O(n*m)"
   ]
  },
  {
   "cell_type": "code",
   "execution_count": 17,
   "id": "95e7c775",
   "metadata": {},
   "outputs": [
    {
     "name": "stdout",
     "output_type": "stream",
     "text": [
      "[[0, 4], [1, 3], [1, 4], [2, 2], [3, 0], [3, 1], [4, 0]]\n"
     ]
    }
   ],
   "source": [
    "def pacificAtlantic(heights):\n",
    "    rows, cols = len(heights), len(heights[0])\n",
    "    pacific, atlantic = set(), set()\n",
    "    \n",
    "    \n",
    "    def dfs(r,c,visit,prevHeight):\n",
    "        if (r<0 or c<0 or r==rows or c==cols or \n",
    "            (r,c) in visit or\n",
    "            heights[r][c]<prevHeight):\n",
    "            return\n",
    "        visit.add((r,c))\n",
    "        # check the neighbours\n",
    "        dfs(r+1,c,visit,heights[r][c])\n",
    "        dfs(r-1,c,visit,heights[r][c])\n",
    "        dfs(r,c+1,visit,heights[r][c])\n",
    "        dfs(r,c-1,visit,heights[r][c])\n",
    "    # iterate through 1st row and last row as they are touched to Pacific\n",
    "    for c in range(cols):\n",
    "        # first row for pacific\n",
    "        dfs(0,c,pacific,heights[0][c])\n",
    "        # last row for atlantic\n",
    "        dfs(rows-1,c,atlantic,heights[rows-1][c])\n",
    "    \n",
    "    # iterate through first col and lasr col\n",
    "    for r in range(rows):\n",
    "        #first col for pacific\n",
    "        dfs(r,0,pacific,heights[r][0])\n",
    "        # last row for Atlantic\n",
    "        dfs(r,cols-1,atlantic,heights[r][cols-1])\n",
    "        \n",
    "    res = []\n",
    "    \n",
    "    # iterate throgh each cell and find the common in both pacific and atlantic\n",
    "    for row in range(rows):\n",
    "        for col in range(cols):\n",
    "#             print(\"hi\")\n",
    "            if (row,col) in pacific and (row,col) in atlantic:\n",
    "                res.append([row,col])\n",
    "    return res\n",
    "\n",
    "heights = [[1,2,2,3,5],[3,2,3,4,4],[2,4,5,3,1],[6,7,1,4,5],[5,1,1,2,4]]\n",
    "print(pacificAtlantic(heights)) #Output: [[0,4],[1,3],[1,4],[2,2],[3,0],[3,1],[4,0]]"
   ]
  },
  {
   "cell_type": "markdown",
   "id": "d53bff22",
   "metadata": {},
   "source": [
    "# 743 Network Delay Time\n",
    "You are given a network of n nodes, labeled from 1 to n. You are also given times, a list of travel times as directed edges times[i] = (ui, vi, wi), where ui is the source node, vi is the target node, and wi is the time it takes for a signal to travel from source to target.\n",
    "\n",
    "We will send a signal from a given node k. Return the minimum time it takes for all the n nodes to receive the signal. If it is impossible for all the n nodes to receive the signal, return -1."
   ]
  },
  {
   "cell_type": "markdown",
   "id": "44f31a7a",
   "metadata": {},
   "source": [
    "# Solution\n",
    "Shortest path: Djikstra Algorithm\n",
    "This is similar to BFs but here we use MinHeap a Priority Queue Data Structure\n",
    "\n",
    "MinHeap: \n",
    "[path(length),node]\n",
    "   0, 1\n",
    "   1, 3\n",
    "   4, 2\n",
    "   2, 4\n",
    "   3, 2\n",
    " pop shorther path and then carry BFS with respective popped Node\n",
    " last minimum popped is the shortest path\n",
    " \n",
    " Time Complexity: max size of heap is V^2 -> O(E * logV^2)"
   ]
  },
  {
   "cell_type": "code",
   "execution_count": 25,
   "id": "f5b3ed3e",
   "metadata": {},
   "outputs": [
    {
     "name": "stdout",
     "output_type": "stream",
     "text": [
      "2\n"
     ]
    }
   ],
   "source": [
    "import collections, heapq\n",
    "def networkDelayTIme(time):\n",
    "    # declare a adjacecny list ofr ease\n",
    "    edges = collections.defaultdict(list)\n",
    "    # note the edges connected to each node\n",
    "    for u,v,w in times:\n",
    "        edges[u].append((v,w))\n",
    "    \n",
    "    # delare minHeap\n",
    "    # add the first element k and time is 0 as it is initial\n",
    "    minHeap = [(0,k)]\n",
    "    \n",
    "    # declare visit\n",
    "    visit = set()\n",
    "    # this is result time make it as 0 by defaulr\n",
    "    t = 0\n",
    "    \n",
    "    # perform the BFS\n",
    "    while minHeap:\n",
    "        # weight and node\n",
    "        w1,n1 = heapq.heappop(minHeap)\n",
    "        if n1 in visit:\n",
    "            continue\n",
    "        visit.add(n1)\n",
    "        t = max(t,w1)\n",
    "        # pass through the neighbours\n",
    "        for n2,w2 in edges[n1]:\n",
    "            if n2 not in visit:\n",
    "                heapq.heappush(minHeap,(w1+w2,n2)) # as the neighbour is attended the previous wieght is added\n",
    "    return t if len(visit)==n else -1\n",
    "\n",
    "times = [[2,1,1],[2,3,1],[3,4,1]]\n",
    "n = 4\n",
    "k = 2\n",
    "print(networkDelayTIme(times))\n",
    "#Output: 2\n"
   ]
  },
  {
   "cell_type": "markdown",
   "id": "31216c92",
   "metadata": {},
   "source": [
    "# BINARY SEARCH"
   ]
  },
  {
   "cell_type": "markdown",
   "id": "27cd3d5b",
   "metadata": {},
   "source": [
    "# 410 Split Array Largest Sum\n",
    "\n",
    "Given an integer array nums and an integer k, split nums into k non-empty subarrays such that the largest sum of any subarray is minimized.\n",
    "\n",
    "Return the minimized largest sum of the split.\n",
    "\n",
    "A subarray is a contiguous part of the array.\n",
    "\n",
    " \n",
    "\n",
    "Example 1:\n",
    "\n",
    "Input: nums = [7,2,5,10,8], k = 2\n",
    "Output: 18\n",
    "Explanation: There are four ways to split nums into two subarrays.\n",
    "The best way is to split it into [7,2,5] and [10,8], where the largest sum among the two subarrays is only 18."
   ]
  },
  {
   "cell_type": "markdown",
   "id": "d7b95534",
   "metadata": {},
   "source": [
    "# Solution via BinarySearch with Greedy Algo\n",
    "Taking Left value as max element of ayyar and right value as Totoal sum of elemets in array\n",
    "ude mid to split nums into k groups with largest sum\n",
    "so now the minimum max ranges between these above two just repeat the binary search"
   ]
  },
  {
   "cell_type": "code",
   "execution_count": 45,
   "id": "d75d1423",
   "metadata": {},
   "outputs": [
    {
     "name": "stdout",
     "output_type": "stream",
     "text": [
      "split_made is being called left is: 10 right is: 32 mid is:  21\n",
      "Num is:  10 curr_sum is:  14\n",
      "current sum is: 18  subarray count is:  2\n",
      "****** Success ****\n",
      "split_made is being called left is: 10 right is: 21 mid is:  15\n",
      "Num is:  10 curr_sum is:  14\n",
      "Num is:  8 curr_sum is:  10\n",
      "^^^^ FAILED^^^ Subarray is:  3 current_sum is:  8\n",
      "split_made is being called left is: 16 right is: 21 mid is:  18\n",
      "Num is:  10 curr_sum is:  14\n",
      "current sum is: 18  subarray count is:  2\n",
      "****** Success ****\n",
      "split_made is being called left is: 16 right is: 18 mid is:  17\n",
      "Num is:  10 curr_sum is:  14\n",
      "Num is:  8 curr_sum is:  10\n",
      "^^^^ FAILED^^^ Subarray is:  3 current_sum is:  8\n",
      "18\n"
     ]
    }
   ],
   "source": [
    "def splitArray(nums, k):\n",
    "    def can_split(nums, k, max_sum):\n",
    "        current_sum = 0\n",
    "        subarrays = 1\n",
    "        \n",
    "        for num in nums:\n",
    "            if current_sum + num > max_sum:\n",
    "                print(\"Num is: \",num, \"curr_sum is: \",current_sum)\n",
    "                subarrays += 1\n",
    "                current_sum = num\n",
    "                if subarrays > k:\n",
    "                    print(\"^^^^ FAILED^^^\", \"Subarray is: \",subarrays, \"current_sum is: \",current_sum)\n",
    "                    return False\n",
    "            else:\n",
    "                current_sum += num\n",
    "        print(\"current sum is:\",current_sum,\" subarray count is: \",subarrays)\n",
    "        return True\n",
    "    \n",
    "    left, right = max(nums), sum(nums)\n",
    "    \n",
    "    while left < right:\n",
    "        mid = (left + right) // 2\n",
    "        print(\"split_made is being called\", \"left is:\",left,\"right is:\",right, \"mid is: \",mid) \n",
    "        if can_split(nums, k, mid):\n",
    "            print(\"****** Success ****\")\n",
    "            right = mid\n",
    "        else:\n",
    "            left = mid + 1\n",
    "    \n",
    "    return left\n",
    "\n",
    "# Example usage:\n",
    "nums = [7, 2, 5, 10, 8]\n",
    "k = 2\n",
    "print(splitArray(nums, k))  # Output: 18\n"
   ]
  },
  {
   "cell_type": "markdown",
   "id": "d0646436",
   "metadata": {},
   "source": [
    "# 7014 Binary Search\n",
    "Given an array of integers nums which is sorted in ascending order, and an integer target, write a function to search target in nums. If target exists, then return its index. Otherwise, return -1.\n",
    "\n",
    "You must write an algorithm with O(log n) runtime complexity.\n",
    "\n",
    " \n",
    "\n",
    "Example 1:\n",
    "\n",
    "Input: nums = [-1,0,3,5,9,12], target = 9\n",
    "Output: 4\n",
    "Explanation: 9 exists in nums and its index is 4"
   ]
  },
  {
   "cell_type": "code",
   "execution_count": 3,
   "id": "b986abfa",
   "metadata": {},
   "outputs": [
    {
     "name": "stdout",
     "output_type": "stream",
     "text": [
      "l is 0, md is 2, r is 5\n",
      "l is 3, md is 4, r is 5\n",
      "4\n"
     ]
    }
   ],
   "source": [
    "def binarySearch(nums,target):\n",
    "    l,r = 0,len(nums)-1\n",
    "    while l<=r:\n",
    "        mid = (l+r)//2\n",
    "        print(f'l is {l}, md is {mid}, r is {r}')\n",
    "        if nums[mid]>target:\n",
    "            r = mid-1\n",
    "        elif nums[mid]<target:\n",
    "            l = mid+1\n",
    "        else:\n",
    "            return mid\n",
    "        \n",
    "    return -1\n",
    "nums = [-1,0,3,5,9,12]\n",
    "target = 9\n",
    "print(binarySearch(nums,target))"
   ]
  },
  {
   "cell_type": "markdown",
   "id": "2b339b9c",
   "metadata": {},
   "source": [
    "# 367 Valid Perfect Square\n",
    "Given a positive integer num, return true if num is a perfect square or false otherwise.\n",
    "\n",
    "A perfect square is an integer that is the square of an integer. In other words, it is the product of some integer with itself.\n",
    "\n",
    "You must not use any built-in library function, such as sqrt.\n",
    "\n",
    "Example 1:\n",
    "\n",
    "Input: num = 16\n",
    "Output: true\n",
    "Explanation: We return true because 4 * 4 = 16 and 4 is an integer.\n",
    "Example 2:\n",
    "\n",
    "Input: num = 14\n",
    "Output: false\n",
    "Explanation: We return false because 3.742 * 3.742 = 14 and 3.742 is not an integer."
   ]
  },
  {
   "cell_type": "markdown",
   "id": "5e178321",
   "metadata": {},
   "source": [
    "# Soultion using Binary Search \n",
    "\n",
    "L is 1 and R is actual Number, taking Mid and checking it's square and proceeding further as in Binary Search"
   ]
  },
  {
   "cell_type": "code",
   "execution_count": 6,
   "id": "45c6997e",
   "metadata": {},
   "outputs": [
    {
     "name": "stdout",
     "output_type": "stream",
     "text": [
      "l is 1, md is 8, r is 16, sq is 64\n",
      "l is 1, md is 4, r is 8, sq is 16\n",
      "True\n"
     ]
    }
   ],
   "source": [
    "def perfectSquare(num):\n",
    "    l, r = 1, num\n",
    "    while l<=r:\n",
    "        mid = (l+r)//2\n",
    "        sq = mid*mid\n",
    "        print(f'l is {l}, md is {mid}, r is {r}, sq is {sq}')\n",
    "        if sq==num:\n",
    "            return True\n",
    "        elif sq<num:\n",
    "            l = mid+1\n",
    "        else:\n",
    "            r = mid\n",
    "    return False\n",
    "\n",
    "num = 16\n",
    "print(perfectSquare(num))"
   ]
  },
  {
   "cell_type": "markdown",
   "id": "f44e9d7b",
   "metadata": {},
   "source": [
    "# 441 Arranging Coins\n",
    "\n",
    "You have n coins and you want to build a staircase with these coins. The staircase consists of k rows where the ith row has exactly i coins. The last row of the staircase may be incomplete.\n",
    "\n",
    "Given the integer n, return the number of complete rows of the staircase you will build.\n",
    "\n",
    "Input: n = 5\n",
    "Output: 2\n",
    "Explanation: Because the 3rd row is incomplete, we return 2."
   ]
  },
  {
   "cell_type": "code",
   "execution_count": 12,
   "id": "317641a2",
   "metadata": {},
   "outputs": [
    {
     "name": "stdout",
     "output_type": "stream",
     "text": [
      "*\n",
      "**\n"
     ]
    },
    {
     "data": {
      "text/plain": [
       "2"
      ]
     },
     "execution_count": 12,
     "metadata": {},
     "output_type": "execute_result"
    }
   ],
   "source": [
    "# Brute Force\n",
    "def arrangeCoins(n):\n",
    "    row = 0\n",
    "    while n >= row + 1:\n",
    "        row += 1\n",
    "        \n",
    "        n -= row\n",
    "        print(\"*\"*row, end='\\n')\n",
    "    return row\n",
    "        \n",
    "        \n",
    "arrangeCoins(5)"
   ]
  },
  {
   "cell_type": "markdown",
   "id": "03d237d9",
   "metadata": {},
   "source": [
    "# Mathematic Solution\n",
    "as we have sum of numbers formulae (n*(n+1))//2\n",
    "Npw we have to find number of rows and we know n, such that (r*(r+1))//2 = n\n",
    "now to find r\n",
    "r^2 +r = 2n-1\n",
    "solve r\n"
   ]
  },
  {
   "cell_type": "markdown",
   "id": "46f74387",
   "metadata": {},
   "source": [
    "# Binary Search solution\n",
    "\n",
    "l = 1, r = n Finding the mid and calculating the sum(n) and chcking with n proceeding further with binary search\n",
    "\n",
    "eg n = 5 [1,2,3,4,5], l =1, r =5, mid = 3, sum_coins = 6, sum_coins>5 so r = 2(mid-1)\n",
    "l = 1, r = 2 mid = 1, sum_coins = 1, sum_coins<n, l = 2, res = max(mid,res)=1\n",
    "l = 2, r = 2 mid = 2, sum_coins = 3 sum_coins<n, res = max(mid, res) = 2, l= 3, r = 2 BREAK"
   ]
  },
  {
   "cell_type": "code",
   "execution_count": 20,
   "id": "4e16518a",
   "metadata": {},
   "outputs": [
    {
     "name": "stdout",
     "output_type": "stream",
     "text": [
      "2\n"
     ]
    }
   ],
   "source": [
    "def arrangeCoins(n):\n",
    "    l,r = 1,n\n",
    "    res = 0\n",
    "    while l<=r:\n",
    "        mid = (l+r)//2\n",
    "        sum_coins = (mid/2)*(mid+1)\n",
    "        if sum_coins>n:\n",
    "            r=mid-1\n",
    "        else:\n",
    "            l=mid+1\n",
    "            res = max(mid,res)\n",
    "    return res\n",
    "n=5\n",
    "print(arrangeCoins(n))"
   ]
  },
  {
   "cell_type": "markdown",
   "id": "4eed0fcc",
   "metadata": {},
   "source": [
    "# 374 Pick Number \n",
    "We are playing the Guess Game. The game is as follows:\n",
    "\n",
    "I pick a number from 1 to n. You have to guess which number I picked.\n",
    "\n",
    "Every time you guess wrong, I will tell you whether the number I picked is higher or lower than your guess.\n",
    "\n",
    "You call a pre-defined API int guess(int num), which returns three possible results:\n",
    "\n",
    "-1: Your guess is higher than the number I picked (i.e. num > pick).\n",
    "1: Your guess is lower than the number I picked (i.e. num < pick).\n",
    "0: your guess is equal to the number I picked (i.e. num == pick).\n",
    "Return the number that I picked."
   ]
  },
  {
   "cell_type": "code",
   "execution_count": 22,
   "id": "10d4b4a7",
   "metadata": {},
   "outputs": [
    {
     "ename": "NameError",
     "evalue": "name 'guess' is not defined",
     "output_type": "error",
     "traceback": [
      "\u001b[0;31m---------------------------------------------------------------------------\u001b[0m",
      "\u001b[0;31mNameError\u001b[0m                                 Traceback (most recent call last)",
      "Cell \u001b[0;32mIn[22], line 16\u001b[0m\n\u001b[1;32m     14\u001b[0m n \u001b[38;5;241m=\u001b[39m \u001b[38;5;241m10\u001b[39m\n\u001b[1;32m     15\u001b[0m pick \u001b[38;5;241m=\u001b[39m \u001b[38;5;241m6\u001b[39m\n\u001b[0;32m---> 16\u001b[0m \u001b[38;5;28mprint\u001b[39m(\u001b[43mguessNumber\u001b[49m\u001b[43m(\u001b[49m\u001b[43mn\u001b[49m\u001b[43m)\u001b[49m)\n",
      "Cell \u001b[0;32mIn[22], line 7\u001b[0m, in \u001b[0;36mguessNumber\u001b[0;34m(n)\u001b[0m\n\u001b[1;32m      5\u001b[0m mid \u001b[38;5;241m=\u001b[39m (l\u001b[38;5;241m+\u001b[39mr)\u001b[38;5;241m/\u001b[39m\u001b[38;5;241m/\u001b[39m\u001b[38;5;241m2\u001b[39m\n\u001b[1;32m      6\u001b[0m \u001b[38;5;66;03m# Guess is a pre-built function\u001b[39;00m\n\u001b[0;32m----> 7\u001b[0m res \u001b[38;5;241m=\u001b[39m \u001b[43mguess\u001b[49m(m)\n\u001b[1;32m      8\u001b[0m \u001b[38;5;28;01mif\u001b[39;00m res\u001b[38;5;241m>\u001b[39m\u001b[38;5;241m0\u001b[39m:\n\u001b[1;32m      9\u001b[0m     l \u001b[38;5;241m=\u001b[39m mid\u001b[38;5;241m+\u001b[39m\u001b[38;5;241m1\u001b[39m\n",
      "\u001b[0;31mNameError\u001b[0m: name 'guess' is not defined"
     ]
    }
   ],
   "source": [
    "# Using Binary Search\n",
    "def guessNumber(n):\n",
    "    l,r = 1, n\n",
    "    while l<=r:\n",
    "        mid = (l+r)//2\n",
    "        # Guess is a pre-built function\n",
    "        res = guess(m)\n",
    "        if res>0:\n",
    "            l = mid+1\n",
    "        elif res<0:\n",
    "            r = mid-1\n",
    "        else:\n",
    "            return m\n",
    "n = 10\n",
    "pick = 6\n",
    "print(guessNumber(n))"
   ]
  },
  {
   "cell_type": "markdown",
   "id": "bdf68f46",
   "metadata": {},
   "source": [
    "# 658 Find k Closest Elements\n",
    "\n",
    "Given a sorted integer array arr, two integers k and x, return the k closest integers to x in the array. The result should also be sorted in ascending order.\n",
    "\n",
    "An integer a is closer to x than an integer b if:\n",
    "\n",
    "|a - x| < |b - x|, or\n",
    "|a - x| == |b - x| and a < b\n",
    " \n",
    "\n",
    "Example 1:\n",
    "\n",
    "Input: arr = [1,2,3,4,5], k = 4, x = 3\n",
    "Output: [1,2,3,4]\n",
    "Example 2:\n",
    "\n",
    "Input: arr = [1,2,3,4,5], k = 4, x = -1\n",
    "Output: [1,2,3,4]"
   ]
  },
  {
   "cell_type": "code",
   "execution_count": 44,
   "id": "d7edad89",
   "metadata": {},
   "outputs": [
    {
     "name": "stdout",
     "output_type": "stream",
     "text": [
      "[(0, 3), (1, 2), (1, 4), (2, 1), (2, 5)]\n",
      "[1, 2, 3, 4]\n"
     ]
    }
   ],
   "source": [
    "# Brute Force way\n",
    "\n",
    "def findClosestElement(arr,k,x):\n",
    "    diff = [(abs(i-x),i) for i in arr]\n",
    "    diff.sort()\n",
    "    print(diff)\n",
    "    res = [num for _,num in diff[:k]]\n",
    "    res.sort()\n",
    "    return res\n",
    "arr = [1,2,3,4,5]\n",
    "k = 4\n",
    "x = 3\n",
    "print(findClosestElement(arr,k,x))"
   ]
  },
  {
   "cell_type": "code",
   "execution_count": 45,
   "id": "fb00c3f4",
   "metadata": {},
   "outputs": [
    {
     "name": "stdout",
     "output_type": "stream",
     "text": [
      "[1, 2, 3, 4]\n",
      "[1, 2, 3, 4]\n"
     ]
    }
   ],
   "source": [
    "# Binary Search\n",
    "def findClosestElements(arr, k, x):\n",
    "    # Initialize two pointers\n",
    "    left, right = 0, len(arr) - 1\n",
    "    \n",
    "    # Reduce the range to k elements\n",
    "    while right - left >= k:\n",
    "        if abs(arr[left] - x) > abs(arr[right] - x):\n",
    "            left += 1\n",
    "        else:\n",
    "            right -= 1\n",
    "            \n",
    "    # Return the k closest elements\n",
    "    return arr[left:left + k]\n",
    "\n",
    "# Example usage:\n",
    "arr1 = [1, 2, 3, 4, 5]\n",
    "k1 = 4\n",
    "x1 = 3\n",
    "print(findClosestElements(arr1, k1, x1))  # Output: [1, 2, 3, 4]\n",
    "\n",
    "arr2 = [1, 2, 3, 4, 5]\n",
    "k2 = 4\n",
    "x2 = -1\n",
    "print(findClosestElements(arr2, k2, x2))  # Output: [1, 2, 3, 4]\n"
   ]
  },
  {
   "cell_type": "markdown",
   "id": "fef96a41",
   "metadata": {},
   "source": [
    "# 981 Time Based Key-Value Store\n",
    "# *******\n",
    "Design a time-based key-value data structure that can store multiple values for the same key at different time stamps and retrieve the key's value at a certain timestamp.\n",
    "\n",
    "Implement the TimeMap class:\n",
    "\n",
    "TimeMap() Initializes the object of the data structure.\n",
    "void set(String key, String value, int timestamp) Stores the key key with the value value at the given time timestamp.\n",
    "String get(String key, int timestamp) Returns a value such that set was called previously, with timestamp_prev <= timestamp. If there are multiple such values, it returns the value associated with the largest timestamp_prev. If there are no values, it returns \"\".\n",
    "\n",
    "Input\n",
    "[\"TimeMap\", \"set\", \"get\", \"get\", \"set\", \"get\", \"get\"]\n",
    "[[], [\"foo\", \"bar\", 1], [\"foo\", 1], [\"foo\", 3], [\"foo\", \"bar2\", 4], [\"foo\", 4], [\"foo\", 5]]\n",
    "Output\n",
    "[null, null, \"bar\", \"bar\", null, \"bar2\", \"bar2\"]"
   ]
  },
  {
   "cell_type": "markdown",
   "id": "e5d68226",
   "metadata": {},
   "source": [
    "# Solution\n",
    "Define a HashMap <key, value<val,time>>\n",
    "eg: foo:[bar,1],"
   ]
  },
  {
   "cell_type": "markdown",
   "id": "658f806f",
   "metadata": {},
   "source": [
    "# 153 Find Minimum in Rotated Sorted Array\n",
    "\n",
    "Suppose an array of length n sorted in ascending order is rotated between 1 and n times. For example, the array nums = [0,1,2,4,5,6,7] might become:\n",
    "\n",
    "[4,5,6,7,0,1,2] if it was rotated 4 times.\n",
    "[0,1,2,4,5,6,7] if it was rotated 7 times.\n",
    "Notice that rotating an array [a[0], a[1], a[2], ..., a[n-1]] 1 time results in the array [a[n-1], a[0], a[1], a[2], ..., a[n-2]].\n",
    "\n",
    "Given the sorted rotated array nums of unique elements, return the minimum element of this array.\n",
    "\n",
    "You must write an algorithm that runs in O(log n) time.\n",
    "\n",
    "Example 1:\n",
    "\n",
    "Input: nums = [3,4,5,1,2]\n",
    "Output: 1\n",
    "Explanation: The original array was [1,2,3,4,5] rotated 3 times.\n",
    "Example 2:\n",
    "\n",
    "Input: nums = [4,5,6,7,0,1,2]\n",
    "Output: 0\n",
    "Explanation: The original array was [0,1,2,4,5,6,7] and it was rotated 4 times.\n",
    "Example 3:\n",
    "\n",
    "Input: nums = [11,13,15,17]\n",
    "Output: 11\n",
    "Explanation: The original array was [11,13,15,17] and it was rotated 4 times. "
   ]
  },
  {
   "cell_type": "code",
   "execution_count": 47,
   "id": "6bdfcdcc",
   "metadata": {},
   "outputs": [
    {
     "name": "stdout",
     "output_type": "stream",
     "text": [
      "11\n"
     ]
    }
   ],
   "source": [
    "def findMin(nums):\n",
    "    return min(nums)\n",
    "nums = [11,13,15,17]\n",
    "print(findMin(nums))"
   ]
  },
  {
   "cell_type": "code",
   "execution_count": 49,
   "id": "cc237198",
   "metadata": {},
   "outputs": [
    {
     "name": "stdout",
     "output_type": "stream",
     "text": [
      "11\n"
     ]
    }
   ],
   "source": [
    "# Binary Search\n",
    "def findMin(nums):\n",
    "    l,r = 0, len(nums)-1\n",
    "    if nums[l]<nums[r]:\n",
    "        return nums[l]\n",
    "    while l<=r:\n",
    "        mid = (l+r)//2\n",
    "        if nums[mid]>nums[r]:\n",
    "            l=mid+1\n",
    "        else:\n",
    "            r = mid-1\n",
    "    return nums[l]\n",
    "\n",
    "nums = [11,13,15,17]\n",
    "print(findMin(nums))"
   ]
  },
  {
   "cell_type": "markdown",
   "id": "a88ab35e",
   "metadata": {},
   "source": [
    "# 74 Search a 2D matrix\n",
    "\n",
    "You are given an m x n integer matrix matrix with the following two properties:\n",
    "\n",
    "Each row is sorted in non-decreasing order.\n",
    "The first integer of each row is greater than the last integer of the previous row.\n",
    "Given an integer target, return true if target is in matrix or false otherwise.\n",
    "\n",
    "You must write a solution in O(log(m * n)) time complexity.\n",
    "\n",
    "Input: matrix = [[1,3,5,7],[10,11,16,20],[23,30,34,60]], target = 3\n",
    "Output: true\n"
   ]
  },
  {
   "cell_type": "code",
   "execution_count": 52,
   "id": "298d907d",
   "metadata": {},
   "outputs": [
    {
     "name": "stdout",
     "output_type": "stream",
     "text": [
      "True\n"
     ]
    }
   ],
   "source": [
    "# Apply Biary search to find the row and then again apply Binary sezrch for element in that row\n",
    "def searchMatrix(matrix,target):\n",
    "    rows, cols = len(matrix), len(matrix[0])\n",
    "    top = 0\n",
    "    bottom = rows-1\n",
    "    while top<=bottom:\n",
    "        row = (top+bottom)//2\n",
    "        if target>matrix[row][-1]:\n",
    "            top = row+1\n",
    "        elif target<matrix[row][0]:\n",
    "            bottom = row-1\n",
    "        else:\n",
    "            break\n",
    "    if not (top<=bottom):\n",
    "        return False\n",
    "    \n",
    "    row = (top+bottom)//2\n",
    "    l, r= 0,cols-1\n",
    "    while l<=r:\n",
    "        m = (l+r)//2\n",
    "        if target>matrix[row][m]:\n",
    "            l = m+1\n",
    "        elif target<matrix[row][m]:\n",
    "            r = m-1\n",
    "        else:\n",
    "            return True\n",
    "    return False\n",
    "        \n",
    "matrix = [[1,3,5,7],[10,11,16,20],[23,30,34,60]]\n",
    "target = 3\n",
    "print(searchMatrix(matrix,target))"
   ]
  },
  {
   "cell_type": "markdown",
   "id": "a26d0afc",
   "metadata": {},
   "source": [
    "# 1898 Maximum Removals\n",
    "You are given two strings s and p where p is a subsequence of s. You are also given a distinct 0-indexed integer array removable containing a subset of indices of s (s is also 0-indexed).\n",
    "\n",
    "You want to choose an integer k (0 <= k <= removable.length) such that, after removing k characters from s using the first k indices in removable, p is still a subsequence of s. More formally, you will mark the character at s[removable[i]] for each 0 <= i < k, then remove all marked characters and check if p is still a subsequence.\n",
    "\n",
    "Return the maximum k you can choose such that p is still a subsequence of s after the removals.\n",
    "\n",
    "A subsequence of a string is a new string generated from the original string with some characters (can be none) deleted without changing the relative order of the remaining characters.\n",
    "\n",
    "Example 1:\n",
    "\n",
    "Input: s = \"abcacb\", p = \"ab\", removable = [3,1,0]\n",
    "Output: 2\n",
    "Explanation: After removing the characters at indices 3 and 1, \"abcacb\" becomes \"accb\".\n",
    "\"ab\" is a subsequence of \"accb\".\n",
    "If we remove the characters at indices 3, 1, and 0, \"abcacb\" becomes \"ccb\", and \"ab\" is no longer a subsequence.\n",
    "Hence, the maximum k is 2."
   ]
  },
  {
   "cell_type": "code",
   "execution_count": 65,
   "id": "15978f89",
   "metadata": {},
   "outputs": [
    {
     "name": "stdout",
     "output_type": "stream",
     "text": [
      "removeset:  {3}\n",
      "filtered is:  ['a', 'b', 'c', 'c', 'b']\n",
      "removeset:  {1, 3}\n",
      "filtered is:  ['a', 'c', 'c', 'b']\n",
      "removeset:  {0, 1, 3}\n",
      "filtered is:  ['c', 'c', 'b']\n",
      "2\n"
     ]
    }
   ],
   "source": [
    "def is_subsequence(s, p, removable, k):\n",
    "    # Mark the characters to be removed\n",
    "    remove_set = set(removable[:k])\n",
    "    print(\"removeset: \",remove_set)\n",
    "    # Filter out the characters in s that should not be removed\n",
    "    filtered_s = [s[i] for i in range(len(s)) if i not in remove_set]\n",
    "    print(\"filtered is: \",filtered_s)\n",
    "    \n",
    "    # Check if p is a subsequence of the filtered s\n",
    "    p_index = 0\n",
    "    for char in filtered_s:\n",
    "        if p_index < len(p) and char == p[p_index]:\n",
    "            p_index += 1\n",
    "        if p_index == len(p):\n",
    "            return True\n",
    "    return p_index == len(p)\n",
    "\n",
    "def maximumRemovals(s, p, removable):\n",
    "    low, high = 0, len(removable)\n",
    "    \n",
    "    while low <= high:\n",
    "        mid = (low + high) // 2\n",
    "        if is_subsequence(s, p, removable, mid):\n",
    "            low = mid + 1\n",
    "        else:\n",
    "            high = mid - 1\n",
    "            \n",
    "    return high\n",
    "\n",
    "s = \"abcacb\"\n",
    "p = \"ab\"\n",
    "removable = [3, 1, 0]  # Output: 2\n",
    "print(maximumRemovals(s, p, removable))\n"
   ]
  },
  {
   "cell_type": "markdown",
   "id": "dfe86244",
   "metadata": {},
   "source": [
    "# 4 Median of Two Sorted Arrays\n",
    "Given two sorted arrays nums1 and nums2 of size m and n respectively, return the median of the two sorted arrays.\n",
    "\n",
    "The overall run time complexity should be O(log (m+n)).\n",
    "\n",
    " \n",
    "\n",
    "Example 1:\n",
    "\n",
    "Input: nums1 = [1,3], nums2 = [2]\n",
    "Output: 2.00000\n",
    "Explanation: merged array = [1,2,3] and median is 2.\n",
    "Example 2:\n",
    "\n",
    "Input: nums1 = [1,2], nums2 = [3,4]\n",
    "Output: 2.50000\n",
    "Explanation: merged array = [1,2,3,4] and median is (2 + 3) / 2 = 2.5."
   ]
  },
  {
   "cell_type": "code",
   "execution_count": 68,
   "id": "9978cab4",
   "metadata": {},
   "outputs": [
    {
     "name": "stdout",
     "output_type": "stream",
     "text": [
      "2.5\n"
     ]
    }
   ],
   "source": [
    "def findMedianSortedArrays(nums1,nums2):\n",
    "    A,B = nums1, nums2\n",
    "    total_len = len(A)+len(B)\n",
    "    half = total_len//2\n",
    "    # take the smallest list and perform BFS\n",
    "    if len(B)<len(A):\n",
    "        A,B = B,A\n",
    "    \n",
    "    # Start BFS\n",
    "    l,r = 0,len(A)-1\n",
    "    while True:\n",
    "        # mid \n",
    "        i = (l+r)//2 # for A\n",
    "        j = half - i -2 # for B and this -2 is as the index starts form 0, i and j are defined so removing those 2 additonal indexes\n",
    "        \n",
    "        Aleft = A[i] if i>=0 else float(\"-infinity\")\n",
    "        Aright = A[i+1] if (i+1)<len(A) else float(\"infinity\")\n",
    "        Bleft = B[j] if j>=0 else float(\"-infinity\")\n",
    "        Bright = B[j+1] if (j+1)<len(B) else float(\"infinity\")\n",
    "        \n",
    "        # Partition is correct\n",
    "        if Aleft<=Bright and Bleft<=Aright:\n",
    "            # if odd length\n",
    "            if total_len%2:\n",
    "                return min(Aright,Bright)\n",
    "            # if even lenght\n",
    "            return (max(Aleft,Bleft) + min(Aright,Bright)) / 2\n",
    "        elif Aleft>Bright:\n",
    "            r = i-1\n",
    "        else:\n",
    "            l = i+1\n",
    "nums1 = [1,2]\n",
    "nums2 = [3,4] \n",
    "print(findMedianSortedArrays(nums1,nums2))   #Output: 2.50000\n",
    "        "
   ]
  },
  {
   "cell_type": "code",
   "execution_count": null,
   "id": "17980c8b",
   "metadata": {},
   "outputs": [],
   "source": []
  },
  {
   "cell_type": "markdown",
   "id": "2cc42e2f",
   "metadata": {},
   "source": [
    "# Binary Trees"
   ]
  },
  {
   "cell_type": "markdown",
   "id": "497f6a68",
   "metadata": {},
   "source": [
    "# 110 Balanced Binary Tree\n",
    "Given a binary tree, determine if it is \n",
    "height-balanced\n",
    "\n",
    "Example 1:\n",
    "\n",
    "\n",
    "Input: root = [3,9,20,null,null,15,7]\n",
    "Output: true"
   ]
  },
  {
   "cell_type": "markdown",
   "id": "90c93924",
   "metadata": {},
   "source": [
    "We do recursive DFS and find the heights of each node\n",
    "Time complexity is O(n^2) in naive approach\n",
    "\n",
    "\n",
    "    "
   ]
  },
  {
   "cell_type": "code",
   "execution_count": 75,
   "id": "c3019fac",
   "metadata": {},
   "outputs": [
    {
     "name": "stdout",
     "output_type": "stream",
     "text": [
      "******called the check_height and node is 1\n",
      "******called the check_height and node is 2\n",
      "******called the check_height and node is 4\n",
      "left height is  0\n",
      "right height is  0\n",
      "^^^^^ Sccuess the height is 1\n",
      "left height is  1\n",
      "******called the check_height and node is 5\n",
      "left height is  0\n",
      "right height is  0\n",
      "^^^^^ Sccuess the height is 1\n",
      "right height is  1\n",
      "^^^^^ Sccuess the height is 2\n",
      "left height is  2\n",
      "******called the check_height and node is 3\n",
      "left height is  0\n",
      "******called the check_height and node is 6\n",
      "left height is  0\n",
      "right height is  0\n",
      "^^^^^ Sccuess the height is 1\n",
      "right height is  1\n",
      "^^^^^ Sccuess the height is 2\n",
      "right height is  2\n",
      "^^^^^ Sccuess the height is 3\n",
      "Is the balanced tree balanced? True\n",
      "******called the check_height and node is 1\n",
      "******called the check_height and node is 2\n",
      "******called the check_height and node is 3\n",
      "******called the check_height and node is 4\n",
      "left height is  0\n",
      "right height is  0\n",
      "^^^^^ Sccuess the height is 1\n",
      "left height is  1\n",
      "right height is  0\n",
      "^^^^^ Sccuess the height is 2\n",
      "left height is  2\n",
      "right height is  0\n",
      "inside the if and failed here\n",
      "left height is  -1\n",
      "right height is  0\n",
      "inside the if and failed here\n",
      "Is the balanced tree balanced? False\n"
     ]
    }
   ],
   "source": [
    "class TreeNode:\n",
    "    def __init__(self,value):\n",
    "        self.value = value\n",
    "        self.left = None\n",
    "        self.right = None\n",
    "\n",
    "def is_balanced(root):\n",
    "    def check_height(node):\n",
    "        if node:\n",
    "            print(f\"******called the check_height and node is {node.value}\")\n",
    "        if not node:\n",
    "            return 0\n",
    "        left_height = check_height(node.left)\n",
    "        print(f\"left height is  {left_height}\")\n",
    "        right_height = check_height(node.right)\n",
    "        print(f\"right height is  {right_height}\")\n",
    "\n",
    "        if left_height == -1 or right_height == -1 or abs(left_height-right_height)>1:\n",
    "            print(f\"inside the if and failed here\")\n",
    "            return -1\n",
    "        print(f'^^^^^ Sccuess the height is {1+max(left_height,right_height) }')\n",
    "        return 1+max(left_height,right_height)\n",
    "\n",
    "    return check_height(root)!=-1\n",
    "\n",
    "# Example usage:\n",
    "# Construct a balanced binary tree\n",
    "root_balanced = TreeNode(1)\n",
    "root_balanced.left = TreeNode(2)\n",
    "root_balanced.right = TreeNode(3)\n",
    "root_balanced.left.left = TreeNode(4)\n",
    "root_balanced.left.right = TreeNode(5)\n",
    "root_balanced.right.right = TreeNode(6)\n",
    "\n",
    "print(\"Is the balanced tree balanced?\", is_balanced(root_balanced))\n",
    "\n",
    "# Construct an unbalanced binary tree\n",
    "root_unbalanced = TreeNode(1)\n",
    "root_unbalanced.left = TreeNode(2)\n",
    "root_unbalanced.left.left = TreeNode(3)\n",
    "root_unbalanced.left.left.left = TreeNode(4)\n",
    "\n",
    "# Check if the tree is balanced\n",
    "\n",
    "print(\"Is the balanced tree balanced?\", is_balanced(root_unbalanced))"
   ]
  },
  {
   "cell_type": "code",
   "execution_count": 78,
   "id": "d8355864",
   "metadata": {},
   "outputs": [
    {
     "name": "stdout",
     "output_type": "stream",
     "text": [
      "Is the balanced tree balanced? True\n",
      "Is the balanced tree balanced? False\n"
     ]
    }
   ],
   "source": [
    "class TreeNode:\n",
    "    def __init__(self,value):\n",
    "        self.value = value\n",
    "        self.left = None\n",
    "        self.right = None\n",
    "def is_balanced(root):\n",
    "    def dfs(root):\n",
    "        if not root:\n",
    "            return [True,0] # Nomore children for node and height is 0\n",
    "        left, right = dfs(root.left), dfs(root.right)\n",
    "        balance = abs(left[1]-right[1])<=1 and left[0]==True and right[0]==True\n",
    "        return [balance, 1+max(left[1],right[1])]\n",
    "    return dfs(root)\n",
    "# Example usage:\n",
    "# Construct a balanced binary tree\n",
    "root_balanced = TreeNode(1)\n",
    "root_balanced.left = TreeNode(2)\n",
    "root_balanced.right = TreeNode(3)\n",
    "root_balanced.left.left = TreeNode(4)\n",
    "root_balanced.left.right = TreeNode(5)\n",
    "root_balanced.right.right = TreeNode(6)\n",
    "\n",
    "print(\"Is the balanced tree balanced?\", is_balanced(root_balanced)[0])\n",
    "\n",
    "# Construct an unbalanced binary tree\n",
    "root_unbalanced = TreeNode(1)\n",
    "root_unbalanced.left = TreeNode(2)\n",
    "root_unbalanced.left.left = TreeNode(3)\n",
    "root_unbalanced.left.left.left = TreeNode(4)\n",
    "\n",
    "# Check if the tree is balanced\n",
    "\n",
    "print(\"Is the balanced tree balanced?\", is_balanced(root_unbalanced)[0])"
   ]
  },
  {
   "cell_type": "markdown",
   "id": "21802661",
   "metadata": {},
   "source": [
    "# 1448 Count Good Nodes in Binary Tree\n",
    "Given a binary tree root, a node X in the tree is named good if in the path from root to X there are no nodes with a value greater than X.\n",
    "\n",
    "Return the number of good nodes in the binary tree.\n",
    "\n",
    "Input: root = [3,1,4,3,null,1,5]\n",
    "Output: 4\n",
    "Explanation: Nodes in blue are good.\n",
    "Root Node (3) is always a good node.\n",
    "Node 4 -> (3,4) is the maximum value in the path starting from the root.\n",
    "Node 5 -> (3,4,5) is the maximum value in the path\n",
    "Node 3 -> (3,1,3) is the maximum value in the path."
   ]
  },
  {
   "cell_type": "code",
   "execution_count": 11,
   "id": "3884adf8",
   "metadata": {},
   "outputs": [
    {
     "name": "stdout",
     "output_type": "stream",
     "text": [
      "No of Good nodes:  6\n",
      "No of Good nodes:  4\n",
      "No of Good nodes:  3\n"
     ]
    }
   ],
   "source": [
    "# Recursive DFS asnd PreOrder Traversal(Left, Right and then root)\n",
    "# Send the Max value(instead of entire path from troot to node just send the Max value of that path)\n",
    "# maintain a result for left and right subtrees and return the result\n",
    "class TreeNode:\n",
    "    def __init__(self,value):\n",
    "        self.value = value\n",
    "        self.left = None\n",
    "        self.right = None\n",
    "def goodNodes(root):\n",
    "    def dfs(node,maxVal):\n",
    "        if not node:\n",
    "            return 0\n",
    "        res = 1 if node.value>=maxVal else 0\n",
    "        # update the maxVal\n",
    "        maxVal = max(maxVal, node.value)\n",
    "        # call the left sub tree\n",
    "        res+=dfs(node.left,maxVal)\n",
    "        res+=dfs(node.right,maxVal)\n",
    "        return res\n",
    "    return dfs(root,root.value)\n",
    "        \n",
    "# Example usage:\n",
    "# Construct a balanced binary tree\n",
    "root_balanced = TreeNode(1)\n",
    "root_balanced.left = TreeNode(2)\n",
    "root_balanced.right = TreeNode(3)\n",
    "root_balanced.left.left = TreeNode(4)\n",
    "root_balanced.left.right = TreeNode(5)\n",
    "root_balanced.right.right = TreeNode(6)\n",
    "\n",
    "print(\"No of Good nodes: \", goodNodes(root_balanced))\n",
    "\n",
    "# Construct an unbalanced binary tree\n",
    "root_unbalanced = TreeNode(1)\n",
    "root_unbalanced.left = TreeNode(2)\n",
    "root_unbalanced.left.left = TreeNode(3)\n",
    "root_unbalanced.left.left.left = TreeNode(4)\n",
    "\n",
    "# Check if the tree is balanced\n",
    "\n",
    "print(\"No of Good nodes: \", goodNodes(root_unbalanced))\n",
    "\n",
    "root_node = TreeNode(3)\n",
    "root_node.left = TreeNode(3)\n",
    "root_node.left.left = TreeNode(4)\n",
    "root_node.left.right = TreeNode(2)\n",
    "print(\"No of Good nodes: \", goodNodes(root_node))"
   ]
  },
  {
   "cell_type": "markdown",
   "id": "dcd95e59",
   "metadata": {},
   "source": [
    "# 226 Invert Binary Tree\n",
    "Given the root of a binary tree, invert the tree, and return its root.\n",
    "Input: root = [4,2,7,1,3,6,9]\n",
    "Output: [4,7,2,9,6,3,1]"
   ]
  },
  {
   "cell_type": "code",
   "execution_count": 194,
   "id": "7267c9ca",
   "metadata": {},
   "outputs": [
    {
     "name": "stdout",
     "output_type": "stream",
     "text": [
      "4->2->5->1->3->6-> Tree is  None\n",
      "6->3->1->5->2->4->Inversted Tree is  None\n"
     ]
    }
   ],
   "source": [
    "# Recursive DFS\n",
    "import collections\n",
    "class TreeNode:\n",
    "    def __init__(self,value):\n",
    "        self.value = value\n",
    "        self.left = None\n",
    "        self.right = None\n",
    "def invertTree(node):\n",
    "    if not node:\n",
    "        return None\n",
    "    # swap chidren\n",
    "    temp = node.left\n",
    "    node.left = node.right\n",
    "    node.right = temp\n",
    "    invertTree(node.left)\n",
    "    invertTree(node.right)\n",
    "    return node\n",
    "\n",
    "def pre_order(root):\n",
    "    if not root:\n",
    "        return None\n",
    "    print(root.value, end=\"->\")\n",
    "    pre_order(root.left)\n",
    "    pre_order(root.right)\n",
    "def in_order(root):\n",
    "    if not root:\n",
    "        return None\n",
    "    \n",
    "    in_order(root.left)\n",
    "    print(root.value, end=\"->\")\n",
    "    in_order(root.right)\n",
    "        \n",
    "# Example usage:\n",
    "# Construct a balanced binary tree\n",
    "root_balanced = TreeNode(1)\n",
    "root_balanced.left = TreeNode(2)\n",
    "root_balanced.right = TreeNode(3)\n",
    "root_balanced.left.left = TreeNode(4)\n",
    "root_balanced.left.right = TreeNode(5)\n",
    "root_balanced.right.right = TreeNode(6)\n",
    "\n",
    "print(\" Tree is \",in_order(root_balanced))\n",
    "inverted_root = invertTree(root_balanced)\n",
    "\n",
    "print(\"Inversted Tree is \",in_order(inverted_root))\n"
   ]
  },
  {
   "cell_type": "markdown",
   "id": "d352979c",
   "metadata": {},
   "source": [
    "# 617. Merge Two BInay Trees\n",
    "You are given two binary trees root1 and root2.\n",
    "\n",
    "Imagine that when you put one of them to cover the other, some nodes of the two trees are overlapped while the others are not. You need to merge the two trees into a new binary tree. The merge rule is that if two nodes overlap, then sum node values up as the new value of the merged node. Otherwise, the NOT null node will be used as the node of the new tree.\n",
    "\n",
    "Return the merged tree.\n",
    "\n",
    "Note: The merging process must start from the root nodes of both trees.\n",
    "    \n",
    "Input: root1 = [1,3,2,5], root2 = [2,1,3,null,4,null,7]\n",
    "Output: [3,4,5,5,4,null,7]"
   ]
  },
  {
   "cell_type": "code",
   "execution_count": 15,
   "id": "9db21be4",
   "metadata": {},
   "outputs": [
    {
     "name": "stdout",
     "output_type": "stream",
     "text": [
      "4->3->2->1->Root1 Tree is:  None\n",
      "4->2->3->3->Root2 Tree is:  None\n",
      "4->7->2->5->4->Merged Tree is  None\n"
     ]
    }
   ],
   "source": [
    "# Create a new Tree\n",
    "class TreeNode:\n",
    "    def __init__(self,value):\n",
    "        self.val = value\n",
    "        self.left = None\n",
    "        self.right = None\n",
    "\n",
    "def mergeTrees(root1, root2):\n",
    "    if not root1 and not root2:\n",
    "        return None\n",
    "    val1 = root1.val if root1 else 0\n",
    "    val2 = root2.val if root2 else 0\n",
    "    new_root = TreeNode(val1+val2)\n",
    "    new_root.left = mergeTrees(root1.left if root1 else None,root2.left if root2 else None)\n",
    "    new_root.right = mergeTrees(root1.right if root1 else None,root2.right if root2 else None)\n",
    "    return new_root\n",
    "\n",
    "def pre_order(root):\n",
    "    if not root:\n",
    "        return None\n",
    "    print(root.val, end=\"->\")\n",
    "    pre_order(root.left)\n",
    "    pre_order(root.right)\n",
    "    \n",
    "        \n",
    "\n",
    "root1 = TreeNode(1)\n",
    "root1.left = TreeNode(2)\n",
    "root1.left.left = TreeNode(3)\n",
    "root1.left.left.left = TreeNode(4)\n",
    "print(\"Root1 Tree is: \", pre_order(root1))\n",
    "\n",
    "root2 = TreeNode(3)\n",
    "root2.left = TreeNode(3)\n",
    "root2.left.left = TreeNode(4)\n",
    "root2.left.right = TreeNode(2)\n",
    "print(\"Root2 Tree is: \", pre_order(root2))\n",
    "\n",
    "mergeRoot = mergeTrees(root1, root2)\n",
    "print(\"Merged Tree is \", pre_order(mergeRoot))"
   ]
  },
  {
   "cell_type": "markdown",
   "id": "2e3ed799",
   "metadata": {},
   "source": [
    "# 108 Convert Nums to Binary Search Tree"
   ]
  },
  {
   "cell_type": "code",
   "execution_count": 22,
   "id": "2f4d7a53",
   "metadata": {},
   "outputs": [
    {
     "name": "stdout",
     "output_type": "stream",
     "text": [
      "0->-10->-3->5->9->Nums to Tree is:  None\n",
      "0->-3->-10->9->5->Nums to Tree by 2nd Method :  None\n"
     ]
    }
   ],
   "source": [
    "class TreeNode:\n",
    "    def __init__(self,value):\n",
    "        self.val = value\n",
    "        self.left = None\n",
    "        self.right = None\n",
    "def sortedArrayToBST(nums):\n",
    "        \"\"\"\n",
    "        :type nums: List[int]\n",
    "        :rtype: TreeNode\n",
    "        \"\"\"\n",
    "        if not nums:\n",
    "            return\n",
    "        mid = len(nums)//2\n",
    "        root = TreeNode(nums[mid])\n",
    "        root.left = sortedArrayToBST(nums[:mid])\n",
    "        root.right = sortedArrayToBST(nums[mid+1:])\n",
    "        \n",
    "        return root\n",
    "\n",
    "# Another Method with left and right\n",
    "def sortedArrayToBST2(nums):\n",
    "    def helper(l,r):\n",
    "        if l>r:\n",
    "            return None\n",
    "        m = (l+r)//2\n",
    "        root = TreeNode(nums[m])\n",
    "        root.left = helper(l,m-1)\n",
    "        root.right = helper(m+1,r)\n",
    "        return root\n",
    "    return helper(0,len(nums)-1)\n",
    "        \n",
    "def pre_order(root):\n",
    "    if not root:\n",
    "        return None\n",
    "    print(root.val, end=\"->\")\n",
    "    pre_order(root.left)\n",
    "    pre_order(root.right)\n",
    "    \n",
    "        \n",
    "\n",
    "nums = [-10,-3,0,5,9]\n",
    "tree_root = sortedArrayToBST(nums)\n",
    "tree_root2 = sortedArrayToBST2(nums)\n",
    "print(\"Nums to Tree is: \",in_order(tree_root))\n",
    "print(\"Nums to Tree by 2nd Method : \",in_order(tree_root2))"
   ]
  },
  {
   "cell_type": "markdown",
   "id": "ecadaec4",
   "metadata": {},
   "source": [
    "# 98 Validate Binary Search Tree\n",
    "Given the root of a binary tree, determine if it is a valid binary search tree (BST).\n",
    "\n",
    "A valid BST is defined as follows:\n",
    "\n",
    "The left \n",
    "subtree\n",
    " of a node contains only nodes with keys less than the node's key.\n",
    "The right subtree of a node contains only nodes with keys greater than the node's key.\n",
    "Both the left and right subtrees must also be binary search trees.\n",
    "\n",
    "Input: root = [2,1,3]\n",
    "Output: true"
   ]
  },
  {
   "cell_type": "code",
   "execution_count": 28,
   "id": "3c99f8ef",
   "metadata": {},
   "outputs": [
    {
     "name": "stdout",
     "output_type": "stream",
     "text": [
      "3->2->1->4->Root1 Tree is:  None\n",
      "Is valid BST:  True\n"
     ]
    }
   ],
   "source": [
    "class TreeNode:\n",
    "    def __init__(self,value):\n",
    "        self.val = value\n",
    "        self.left = None\n",
    "        self.right = None\n",
    "def isValidBST(root):\n",
    "    def check(node, lower = float('-inf'),higher = float('inf')):\n",
    "        if not node:\n",
    "            return True\n",
    "        if node.val<=lower or node.val>=higher:\n",
    "            return False\n",
    "\n",
    "        return check(node.left,lower,node.val) and check(node.right,node.val,higher)\n",
    "    return check(root)\n",
    "\n",
    "def pre_order(root):\n",
    "    if not root:\n",
    "        return None\n",
    "    print(root.val, end=\"->\")\n",
    "    pre_order(root.left)\n",
    "    pre_order(root.right)\n",
    "    \n",
    "root1 = TreeNode(3)\n",
    "root1.left = TreeNode(2)\n",
    "root1.left.left = TreeNode(1)\n",
    "root1.right = TreeNode(4)\n",
    "print(\"Root1 Tree is: \", pre_order(root1))\n",
    "print(\"Is valid BST: \",isValidBST(root1))"
   ]
  },
  {
   "cell_type": "markdown",
   "id": "712a9191",
   "metadata": {},
   "source": [
    "# 120 Triangle\n",
    "Given a triangle array, return the minimum path sum from top to bottom.\n",
    "\n",
    "For each step, you may move to an adjacent number of the row below. More formally, \n",
    "if you are on index i on the current row, you may move to either index i or index i + 1 on the next row.\n",
    "\n",
    "Input: triangle = [[2],[3,4],[6,5,7],[4,1,8,3]]\n",
    "Output: 11\n",
    "Explanation: The triangle looks like:\n",
    "   2\n",
    "  3 4\n",
    " 6 5 7\n",
    "4 1 8 3\n",
    "The minimum path sum from top to bottom is 2 + 3 + 5 + 1 = 11 (underlined above)."
   ]
  },
  {
   "cell_type": "code",
   "execution_count": 29,
   "id": "539f9f35",
   "metadata": {},
   "outputs": [
    {
     "name": "stdout",
     "output_type": "stream",
     "text": [
      "11\n"
     ]
    }
   ],
   "source": [
    "# Using Dynamic Programming\n",
    "# Time Complexity O(n^2)\n",
    "def minimumTotal(triangle):\n",
    "    dp = [0] * (len(triangle)+1)\n",
    "    for row in triangle[::-1]:\n",
    "        for i,n in enumerate(row):\n",
    "            dp[i] = n + min(dp[i],dp[i+1])\n",
    "    return dp[0]\n",
    "triangle = [[2],[3,4],[6,5,7],[4,1,8,3]]\n",
    "print(minimumTotal(triangle))\n",
    "\n"
   ]
  },
  {
   "cell_type": "markdown",
   "id": "de2221ae",
   "metadata": {},
   "source": [
    "Step 0: [0,0,0,0,0]\n",
    "\n",
    "Start FOR LOOP\n",
    "\n",
    "Step 1: [4,1,8,3]\n",
    "\n",
    "Step 2: [7, 6, 10] # 6+min(1,4), 5+min(1,8), 7+min(8,3)\n",
    "\n",
    "Step 3: [9, 10] # 3+min(7,6), 4+min(6,10)\n",
    "\n",
    "Step 4: [11] # 2+min(9,10)"
   ]
  },
  {
   "cell_type": "markdown",
   "id": "32169c17",
   "metadata": {},
   "source": [
    "# 129 Sum Root to Leaf Numbers\n",
    "You are given the root of a binary tree containing digits from 0 to 9 only.\n",
    "\n",
    "Each root-to-leaf path in the tree represents a number.\n",
    "\n",
    "For example, the root-to-leaf path 1 -> 2 -> 3 represents the number 123.\n",
    "Return the total sum of all root-to-leaf numbers. Test cases are generated so that the answer will fit in a 32-bit integer.\n",
    "\n",
    "A leaf node is a node with no children.\n",
    "\n",
    "Input: root = [1,2,3]\n",
    "Output: 25\n",
    "Explanation:\n",
    "The root-to-leaf path 1->2 represents the number 12.\n",
    "The root-to-leaf path 1->3 represents the number 13.\n",
    "Therefore, sum = 12 + 13 = 25."
   ]
  },
  {
   "cell_type": "code",
   "execution_count": 46,
   "id": "03dbd652",
   "metadata": {},
   "outputs": [
    {
     "name": "stdout",
     "output_type": "stream",
     "text": [
      "385\n"
     ]
    }
   ],
   "source": [
    "class TreeNode:\n",
    "    def __init__(self,value):\n",
    "        self.val = value\n",
    "        self.left = None\n",
    "        self.right = None\n",
    "def sumNumbers(root):\n",
    "    def dfs(node,num):\n",
    "        if not node:\n",
    "            return 0\n",
    "        num = num*10 + node.val\n",
    "        if not node.left and not node.right:\n",
    "            return num\n",
    "        l = dfs(node.left,num)\n",
    "        r = dfs(node.right,num)\n",
    "        return l+r\n",
    "    return dfs(root,0)\n",
    "    \n",
    "    \n",
    "    \n",
    "        \n",
    "root_balanced = TreeNode(1)\n",
    "root_balanced.left = TreeNode(2)\n",
    "root_balanced.right = TreeNode(3)\n",
    "root_balanced.left.left = TreeNode(4)\n",
    "root_balanced.left.right = TreeNode(5)\n",
    "root_balanced.right.right = TreeNode(6)\n",
    "print(sumNumbers(root_balanced))"
   ]
  },
  {
   "cell_type": "markdown",
   "id": "5b4bd488",
   "metadata": {},
   "source": [
    "# 96 Unique Binary Search Tree\n",
    "\n",
    "Given an integer n, return the number of structurally unique BST's (binary search trees) which has exactly n nodes of unique values from 1 to n.\n",
    "Input: n = 3\n",
    "Output: 5\n",
    "Example 2:\n",
    "\n",
    "Input: n = 1\n",
    "Output: 1"
   ]
  },
  {
   "cell_type": "code",
   "execution_count": 2,
   "id": "6d50d4e9",
   "metadata": {},
   "outputs": [
    {
     "name": "stdout",
     "output_type": "stream",
     "text": [
      "120\n",
      "42.0\n"
     ]
    }
   ],
   "source": [
    "def fact(n):\n",
    "    if n==1 or n==0:\n",
    "        return 1\n",
    "    return n*fact(n-1)\n",
    "\n",
    "# formulae is Cn = (2n)! / ((n + 1)! * n!)\n",
    "n = 5\n",
    "print((fact(2*n))/(fact(n+1) * fact(n)))"
   ]
  },
  {
   "cell_type": "code",
   "execution_count": 9,
   "id": "5593797c",
   "metadata": {},
   "outputs": [
    {
     "name": "stdout",
     "output_type": "stream",
     "text": [
      "numtree after the node 2 iteration is [1, 1, 2, 1, 1, 1]\n",
      "numtree after the node 3 iteration is [1, 1, 2, 5, 1, 1]\n",
      "numtree after the node 4 iteration is [1, 1, 2, 5, 14, 1]\n",
      "numtree after the node 5 iteration is [1, 1, 2, 5, 14, 42]\n",
      "42\n"
     ]
    }
   ],
   "source": [
    "# Uisng Dynamic Programming\n",
    "# Time of complexity O(n^n)\n",
    "\n",
    "def numTrees(n):\n",
    "    # numTrees[4] = numTree[0] * numTree[3] + \n",
    "    #               numTree[1] * numTree[2] +\n",
    "    #               numTree[2] * numTree[1] +\n",
    "    #               numTree[3] * numTree[1]\n",
    "    \n",
    "    numTree = [1]*(n+1)\n",
    "    for nodes in range(2,n+1):\n",
    "        total = 0\n",
    "        for root in range(1, nodes+1):\n",
    "            left = root -1\n",
    "            right = nodes - root\n",
    "            total+=numTree[left] * numTree[right]  \n",
    "        numTree[nodes] = total\n",
    "        print(f\"numtree after the node {nodes} iteration is {numTree}\")\n",
    "    return numTree[n]\n",
    "n=5\n",
    "print(numTrees(n))"
   ]
  },
  {
   "cell_type": "markdown",
   "id": "ef850e81",
   "metadata": {},
   "source": [
    "# 199 Binary Right Side View\n",
    "Given the root of a binary tree, imagine yourself standing on the right side of it, return the values of the nodes you can see ordered from top to bottom.\n",
    "\n",
    "Input: root = [1,2,3,null,5,null,4]\n",
    "Output: [1,3,4]\n",
    "Example 2:\n",
    "\n",
    "Input: root = [1,null,3]\n",
    "Output: [1,3]\n",
    "Example 3:\n",
    "\n",
    "Input: root = []\n",
    "Output: []"
   ]
  },
  {
   "cell_type": "code",
   "execution_count": 24,
   "id": "a6d1238f",
   "metadata": {},
   "outputs": [
    {
     "name": "stdout",
     "output_type": "stream",
     "text": [
      "[9, 3, 6]\n"
     ]
    }
   ],
   "source": [
    "# USing DFS\n",
    "class TreeNode:\n",
    "    def __init__(self,value):\n",
    "        self.val = value\n",
    "        self.left = None\n",
    "        self.right = None\n",
    "def rightSideView(root):\n",
    "    def dfs(node,level,result):\n",
    "        if not node:\n",
    "                return\n",
    "\n",
    "        # If this is the first node we encounter at this level, add it to the result\n",
    "        if level == len(result):\n",
    "            result.append(node.val)\n",
    "\n",
    "        # Traverse the right subtree first, then the left subtree\n",
    "        dfs(node.right, level + 1, result)\n",
    "        dfs(node.left, level + 1, result)\n",
    "    \n",
    "    result = []\n",
    "    dfs(root, 0, result)\n",
    "    return result\n",
    "\n",
    "root_balanced = TreeNode(9)\n",
    "root_balanced.left = TreeNode(2)\n",
    "root_balanced.right = TreeNode(3)\n",
    "root_balanced.left.left = TreeNode(4)\n",
    "root_balanced.left.right = TreeNode(5)\n",
    "root_balanced.right.right = TreeNode(6)\n",
    "print(rightSideView(root_balanced))"
   ]
  },
  {
   "cell_type": "markdown",
   "id": "2dbeab21",
   "metadata": {},
   "source": [
    "# 199 RIGHT SIDE VIEW"
   ]
  },
  {
   "cell_type": "code",
   "execution_count": 28,
   "id": "d2729456",
   "metadata": {},
   "outputs": [
    {
     "name": "stdout",
     "output_type": "stream",
     "text": [
      "[5, 6, 4, 1]\n"
     ]
    }
   ],
   "source": [
    "# Using BFS\n",
    "# taje a Q and RES list\n",
    "# Take Queue add element \n",
    "# pop element which is to be right side (because we are adding the left first and right next so pop is obviously thr right element) add it to RES and add popped element's children\n",
    "import collections\n",
    "class TreeNode:\n",
    "    def __init__(self,value):\n",
    "        self.val = value\n",
    "        self.left = None\n",
    "        self.right = None\n",
    "def rightSideViewBFS(root):\n",
    "    res = []\n",
    "    q = collections.deque([root])\n",
    "    \n",
    "    while q:\n",
    "        rightSide = None\n",
    "        qLen = len(q)\n",
    "        for i in range(qLen):\n",
    "            node = q.popleft()\n",
    "            if node:\n",
    "                rightSide = node\n",
    "                q.append(node.left)\n",
    "                q.append(node.right)\n",
    "        if rightSide:\n",
    "            res.append(rightSide.val)\n",
    "    return res\n",
    "    \n",
    "        \n",
    "    \n",
    "\n",
    "root_balanced = TreeNode(5)\n",
    "root_balanced.left = TreeNode(3)\n",
    "root_balanced.left.left = TreeNode(2)\n",
    "root_balanced.left.left.left = TreeNode(1)\n",
    "root_balanced.right = TreeNode(6)\n",
    "root_balanced.left.right = TreeNode(4)\n",
    "print(rightSideView(root_balanced))\n",
    "\n"
   ]
  },
  {
   "cell_type": "markdown",
   "id": "8754857f",
   "metadata": {},
   "source": [
    "# 230 Kth Smallest Element\n",
    "using In order Traversla nd afinding the element from index k-1"
   ]
  },
  {
   "cell_type": "code",
   "execution_count": 9,
   "id": "d57b9b3f",
   "metadata": {},
   "outputs": [
    {
     "name": "stdout",
     "output_type": "stream",
     "text": [
      "3\n"
     ]
    }
   ],
   "source": [
    "import collections\n",
    "class TreeNode:\n",
    "    def __init__(self,value):\n",
    "        self.val = value\n",
    "        self.left = None\n",
    "        self.right = None\n",
    "\n",
    "def kthSmallest(root,k):\n",
    "    def inorder_traversal(node,l):\n",
    "        if not node:\n",
    "            return\n",
    "        inorder_traversal(node.left,l)\n",
    "        l.append(node.val)\n",
    "        inorder_traversal(node.right,l)\n",
    "        return l\n",
    "    l = []\n",
    "    return inorder_traversal(root,l)[k-1]\n",
    "\n",
    "root_balanced = TreeNode(5)\n",
    "root_balanced.left = TreeNode(3)\n",
    "root_balanced.left.left = TreeNode(2)\n",
    "root_balanced.left.left.left = TreeNode(1)\n",
    "root_balanced.right = TreeNode(6)\n",
    "root_balanced.left.right = TreeNode(4)\n",
    "k = 3\n",
    "print(kthSmallest(root_balanced,k))"
   ]
  },
  {
   "cell_type": "markdown",
   "id": "49e69391",
   "metadata": {},
   "source": [
    "# 543 Diameter of Binary Tree\n",
    "\n",
    "Given the root of a binary tree, return the length of the diameter of the tree.\n",
    "\n",
    "The diameter of a binary tree is the length of the longest path between any two nodes in a tree. This path may or may not pass through the root.\n",
    "\n",
    "The length of a path between two nodes is represented by the number of edges between them.\n",
    "\n",
    "Input: root = [1,2,3,4,5]\n",
    "Output: 3\n",
    "Explanation: 3 is the length of the path [4,2,1,3] or [5,2,1,3].\n"
   ]
  },
  {
   "cell_type": "markdown",
   "id": "aee9b3ba",
   "metadata": {},
   "source": [
    "SOLUTION:\n",
    "\n",
    "Find the Max Diameter for each node as traversing the nodes, indeed the diameter and height goes hand by hand\n",
    "\n",
    "[Diameter, Height] => height = 1+max(left_tree + right_tree), diameter = Left + Right + 2 (beacause at the bottom level(leaves) the height is -1 as there will be no nodes)\n",
    "\n",
    "So apply/find this [Diameter, Height] for every node as traverse"
   ]
  },
  {
   "cell_type": "code",
   "execution_count": 12,
   "id": "d21dfbbf",
   "metadata": {},
   "outputs": [
    {
     "name": "stdout",
     "output_type": "stream",
     "text": [
      "4\n"
     ]
    }
   ],
   "source": [
    "class TreeNode:\n",
    "    def __init__(self,value):\n",
    "        self.val = value\n",
    "        self.left = None\n",
    "        self.right = None\n",
    "def diameterOfBinaryTree(root):\n",
    "    res = [0] # initally make the res 0\n",
    "    \n",
    "    # Startr DFS\n",
    "    def dfs(root):\n",
    "        if not root:\n",
    "            return -1 # as the leaf nodes doesn't have further nodes, then height is considered as -1\n",
    "        \n",
    "        # find the height of tree calling left and right nodes\n",
    "        left = dfs(root.left)\n",
    "        right = dfs(root.right)\n",
    "        res[0] = max(res[0], 2+left+right) # as we have seen above and is to find the diameter\n",
    "        \n",
    "        return 1+max(left,right) # this is for the height formulae\n",
    "    dfs(root)\n",
    "    return res[0]\n",
    "        \n",
    "        # \n",
    "    \n",
    "root_balanced = TreeNode(5)\n",
    "root_balanced.left = TreeNode(3)\n",
    "root_balanced.left.left = TreeNode(2)\n",
    "root_balanced.left.left.left = TreeNode(1)\n",
    "root_balanced.right = TreeNode(6)\n",
    "root_balanced.left.right = TreeNode(4)\n",
    "\n",
    "print(diameterOfBinaryTree(root_balanced))"
   ]
  },
  {
   "cell_type": "markdown",
   "id": "8bd68ba5",
   "metadata": {},
   "source": [
    "# 337 House Robber III\n",
    "The thief has found himself a new place for his thievery again. There is only one entrance to this area, called root.\n",
    "\n",
    "Besides the root, each house has one and only one parent house. After a tour, the smart thief realized that all houses in this place form a binary tree. It will automatically contact the police if two directly-linked houses were broken into on the same night.\n",
    "\n",
    "Given the root of the binary tree, return the maximum amount of money the thief can rob without alerting the police.\n",
    "\n",
    "Input: root = [3,2,3,null,3,null,1]\n",
    "Output: 7\n",
    "Explanation: Maximum amount of money the thief can rob = 3 + 3 + 1 = 7."
   ]
  },
  {
   "cell_type": "markdown",
   "id": "93e4922c",
   "metadata": {},
   "source": [
    "Solution:\n",
    "    \n",
    "There are two cases: [With Root, Without Root]\n",
    "    \n",
    "DFS is a good appraoch to achive this\n",
    "\n",
    "WithoutRoot = max(pairLeft)+max(pairRight) for every node\n"
   ]
  },
  {
   "cell_type": "code",
   "execution_count": 15,
   "id": "c16930f3",
   "metadata": {},
   "outputs": [
    {
     "name": "stdout",
     "output_type": "stream",
     "text": [
      "12\n"
     ]
    }
   ],
   "source": [
    "class TreeNode:\n",
    "    def __init__(self,value):\n",
    "        self.val = value\n",
    "        self.left = None\n",
    "        self.right = None\n",
    "\n",
    "def robIII(root):\n",
    "    # [withRoot, withoutRoot]\n",
    "    def dfs(root):\n",
    "        if not root:\n",
    "            return [0,0]\n",
    "        leftRes = dfs(root.left)\n",
    "        rightRes = dfs(root.right)\n",
    "        \n",
    "        withRoot = root.val + leftRes[1] + rightRes[1]\n",
    "        withOutRoot = max(leftRes) + max(rightRes)\n",
    "        \n",
    "        return [withRoot,withOutRoot]\n",
    "    return max(dfs(root))\n",
    "\n",
    "root_balanced = TreeNode(5)\n",
    "root_balanced.left = TreeNode(3)\n",
    "root_balanced.left.left = TreeNode(2)\n",
    "root_balanced.left.left.left = TreeNode(1)\n",
    "root_balanced.right = TreeNode(6)\n",
    "root_balanced.left.right = TreeNode(4)\n",
    "\n",
    "print(robIII(root_balanced))"
   ]
  },
  {
   "cell_type": "markdown",
   "id": "a86cefbf",
   "metadata": {},
   "source": [
    "# 102 Binary Tree Level Order\n",
    "\n",
    "Given the root of a binary tree, return the level order traversal of its nodes' values. (i.e., from left to right, level by level).\n",
    "\n",
    "Input: root = [3,9,20,null,null,15,7]\n",
    "Output: [[3],[9,20],[15,7]]"
   ]
  },
  {
   "cell_type": "code",
   "execution_count": 16,
   "id": "9b42ac8c",
   "metadata": {},
   "outputs": [
    {
     "name": "stdout",
     "output_type": "stream",
     "text": [
      "[[5], [3, 6], [2, 4], [1]]\n"
     ]
    }
   ],
   "source": [
    "# We use BFS\n",
    "import collections\n",
    "class TreeNode:\n",
    "    def __init__(self,value):\n",
    "        self.val = value\n",
    "        self.left = None\n",
    "        self.right = None\n",
    "def levelOrder(root):\n",
    "    q = collections.deque()\n",
    "    res = []\n",
    "    q.append(root)\n",
    "    \n",
    "    while q:\n",
    "        qLen = len(q)\n",
    "        level = []\n",
    "        for i in range(qLen):\n",
    "            node =q.popleft()\n",
    "            if node:\n",
    "                level.append(node.val)\n",
    "                q.append(node.left)\n",
    "                q.append(node.right)\n",
    "        if level:\n",
    "            res.append(level)\n",
    "    return res\n",
    "        \n",
    "        \n",
    "root_balanced = TreeNode(5)\n",
    "root_balanced.left = TreeNode(3)\n",
    "root_balanced.left.left = TreeNode(2)\n",
    "root_balanced.left.left.left = TreeNode(1)\n",
    "root_balanced.right = TreeNode(6)\n",
    "root_balanced.left.right = TreeNode(4)\n",
    "\n",
    "print(levelOrder(root_balanced))"
   ]
  },
  {
   "cell_type": "markdown",
   "id": "a04f1843",
   "metadata": {},
   "source": [
    "# 105 Construct Binary Tree from PreOrder and InOrder Trraversal\n",
    "\n",
    "Given two integer arrays preorder and inorder where preorder is the preorder traversal of a binary tree and inorder is the inorder traversal of the same tree, construct and return the binary tree.\n",
    "\n",
    "Input: preorder = [3,9,20,15,7], inorder = [9,3,15,20,7]\n",
    "Output: [3,9,20,null,null,15,7]\n",
    "Example 2:\n",
    "\n",
    "Input: preorder = [-1], inorder = [-1]\n",
    "Output: [-1]"
   ]
  },
  {
   "cell_type": "code",
   "execution_count": 22,
   "id": "0cb947bb",
   "metadata": {},
   "outputs": [
    {
     "name": "stdout",
     "output_type": "stream",
     "text": [
      "3->9->20->15->7->None\n"
     ]
    }
   ],
   "source": [
    "# Two main things:\n",
    "# 1. Root is first in preorder traversal\n",
    "# 2. find the above root in inorder and left of this element is left tree and right of this are right tree\n",
    "\n",
    "import collections\n",
    "class TreeNode:\n",
    "    def __init__(self,value):\n",
    "        self.val = value\n",
    "        self.left = None\n",
    "        self.right = None\n",
    "\n",
    "def preorder_traversal(root):\n",
    "    if not root:\n",
    "        return None\n",
    "    print(root.val,end='->')\n",
    "    preorder_traversal(root.left)\n",
    "    preorder_traversal(root.right)\n",
    "def buildTree(preorder,inorder):\n",
    "    \n",
    "    if not preorder or not inorder:\n",
    "        return None\n",
    "    root_val = preorder.pop(0)\n",
    "    root_index = inorder.index(root_val)\n",
    "    \n",
    "    # build a root node\n",
    "    root = TreeNode(root_val)\n",
    "    root.left = buildTree(preorder,inorder[:root_index])\n",
    "    root.right = buildTree(preorder,inorder[root_index+1:])\n",
    "    return root\n",
    "    \n",
    "        \n",
    "preorder = [3,9,20,15,7]\n",
    "inorder = [9,3,15,20,7]\n",
    "tree_root = buildTree(preorder,inorder)\n",
    "print(preorder_traversal(tree_root))"
   ]
  },
  {
   "cell_type": "markdown",
   "id": "b6595dfd",
   "metadata": {},
   "source": [
    "# 208 IMplement Tries\n",
    "\n",
    "A trie (pronounced as \"try\") or prefix tree is a tree data structure used to efficiently store and retrieve keys in a dataset of strings. There are various applications of this data structure, such as autocomplete and spellchecker.\n",
    "\n",
    "Implement the Trie class:\n",
    "\n",
    "Trie() Initializes the trie object.\n",
    "void insert(String word) Inserts the string word into the trie.\n",
    "boolean search(String word) Returns true if the string word is in the trie (i.e., was inserted before), and false otherwise.\n",
    "boolean startsWith(String prefix) Returns true if there is a previously inserted string word that has the prefix prefix, and false otherwise.\n",
    " \n",
    "\n",
    "Example 1:\n",
    "\n",
    "Input\n",
    "[\"Trie\", \"insert\", \"search\", \"search\", \"startsWith\", \"insert\", \"search\"]\n",
    "[[], [\"apple\"], [\"apple\"], [\"app\"], [\"app\"], [\"app\"], [\"app\"]]\n",
    "Output\n",
    "[null, null, true, false, true, null, true]\n",
    "\n",
    "Explanation\n",
    "Trie trie = new Trie();\n",
    "trie.insert(\"apple\");\n",
    "trie.search(\"apple\");   // return True\n",
    "trie.search(\"app\");     // return False\n",
    "trie.startsWith(\"app\"); // return True\n",
    "trie.insert(\"app\");\n",
    "trie.search(\"app\");     // return True"
   ]
  },
  {
   "cell_type": "code",
   "execution_count": 30,
   "id": "7342f679",
   "metadata": {},
   "outputs": [
    {
     "name": "stdout",
     "output_type": "stream",
     "text": [
      "Insert apple is None\n",
      "Searchapple is True\n",
      "StartsWith app is True\n"
     ]
    }
   ],
   "source": [
    "class TrieNode:\n",
    "    def __init__(self):\n",
    "        self.children = {} # HashMap this is like children['a'] = [] etc\n",
    "        self.endOfWord = False\n",
    "        \n",
    "class Trie(object):\n",
    "    def __init__(self):\n",
    "        self.root = TrieNode()\n",
    "\n",
    "    def insert(self,word):\n",
    "        \"\"\"\n",
    "        :type word: str\n",
    "        :rtype: None\n",
    "        \"\"\"\n",
    "        curr = self.root\n",
    "        \n",
    "        for c in word:\n",
    "            \n",
    "            if c not in curr.children:\n",
    "                curr.children[c] = TrieNode()\n",
    "            \n",
    "            # if character exists simplr move forward\n",
    "            curr = curr.children[c]\n",
    "        # end the word, maing enfOfWord True\n",
    "        curr.endOfWord = True\n",
    "            \n",
    "\n",
    "    def search(self,word):\n",
    "        \"\"\"\n",
    "        :type word: str\n",
    "        :rtype: bool\n",
    "        \"\"\"\n",
    "        curr = self.root\n",
    "        \n",
    "        for c in word:\n",
    "            if c not in curr.children:\n",
    "                return False\n",
    "            curr = curr.children[c]\n",
    "            \n",
    "        return curr.endOfWord\n",
    "        \n",
    "\n",
    "    def startsWith(self,prefix):\n",
    "        \"\"\"\n",
    "        :type prefix: str\n",
    "        :rtype: bool\n",
    "        \"\"\"\n",
    "        curr = self.root\n",
    "        \n",
    "        for c in prefix:\n",
    "            if c not in curr.children:\n",
    "                return False\n",
    "            curr = curr.children[c]\n",
    "        return True\n",
    "\n",
    "\n",
    "# Your Trie object will be instantiated and called as such:\n",
    "obj = Trie()\n",
    "word = \"apple\"\n",
    "param_1 = obj.insert(word)\n",
    "print(f'Insert {word} is {param_1}')\n",
    "param_2 = obj.search(word)\n",
    "print(f'Search{word} is {param_2}')\n",
    "prefix = 'app'\n",
    "param_3 = obj.startsWith(prefix)\n",
    "print(f'StartsWith {prefix} is {param_3}')"
   ]
  },
  {
   "cell_type": "markdown",
   "id": "841d064c",
   "metadata": {},
   "source": [
    "# 100 Same Tree\n"
   ]
  },
  {
   "cell_type": "code",
   "execution_count": 38,
   "id": "d312fd9f",
   "metadata": {},
   "outputs": [
    {
     "name": "stdout",
     "output_type": "stream",
     "text": [
      "SameTree is True\n"
     ]
    }
   ],
   "source": [
    "class TreeNode:\n",
    "    def __init__(self,value):\n",
    "        self.val = value\n",
    "        self.left = None\n",
    "        self.right = None\n",
    "def isSameTree(p,q):\n",
    "    if not p and not q:\n",
    "        return True\n",
    "    if not p or not q:\n",
    "        return False\n",
    "    if p.val!=q.val:\n",
    "        return False\n",
    "    left_ = isSameTree(p.left,q.left)\n",
    "    right_ = isSameTree(p.right,q.right)\n",
    "    return left_ and right_\n",
    "        \n",
    "root1 = TreeNode(1)\n",
    "root1.left = TreeNode(2)\n",
    "root1.left.left = TreeNode(3)\n",
    "root1.left.right = TreeNode(4)\n",
    "# print(\"Root1 Tree is: \", pre_order(root1))\n",
    "\n",
    "root2 = TreeNode(1)\n",
    "root2.left = TreeNode(2)\n",
    "root2.left.left = TreeNode(3)\n",
    "root2.left.right = TreeNode(4)\n",
    "# print(\"Root2 Tree is: \", pre_order(root2))\n",
    "\n",
    "same_tree = isSameTree(root1,root2)\n",
    "print(f'SameTree is {same_tree}')"
   ]
  },
  {
   "cell_type": "markdown",
   "id": "68b0f636",
   "metadata": {},
   "source": [
    "# 297 Serialize and Deserialize\n",
    "Serialization is the process of converting a data structure or object into a sequence of bits so that it can be stored in a file or memory buffer, or transmitted across a network connection link to be reconstructed later in the same or another computer environment.\n",
    "\n",
    "Design an algorithm to serialize and deserialize a binary tree. There is no restriction on how your serialization/deserialization algorithm should work. You just need to ensure that a binary tree can be serialized to a string and this string can be deserialized to the original tree structure.\n",
    "\n",
    "Clarification: The input/output format is the same as how LeetCode serializes a binary tree. You do not necessarily need to follow this format, so please be creative and come up with different approaches yourself.\n",
    "    \n",
    "    Input: root = [1,2,3,null,null,4,5]\n",
    "Output: [1,2,3,null,null,4,5]"
   ]
  },
  {
   "cell_type": "code",
   "execution_count": null,
   "id": "7b99c289",
   "metadata": {},
   "outputs": [],
   "source": [
    "Solution:\n",
    "\n",
    "Use PreOrder (DFS) for getting the sequence for serailizing\n",
    "\n",
    "Take this PreOrder list and convert to Tree\n",
    "As it is known that every starting element pooped from preorder is Root and next two of this popped nodes are left and right\n"
   ]
  },
  {
   "cell_type": "code",
   "execution_count": 46,
   "id": "ae5fe362",
   "metadata": {},
   "outputs": [
    {
     "name": "stdout",
     "output_type": "stream",
     "text": [
      "preorder data as serialized is 5,3,2,1,N,N,N,4,N,N,6,N,N\n",
      "\n",
      "Desearialized the data to tree and root is 5\n",
      "5,3,2,1,4,6,"
     ]
    }
   ],
   "source": [
    "# Definition for a binary tree node.\n",
    "class TreeNode(object):\n",
    "    def __init__(self, x):\n",
    "        self.val = x\n",
    "        self.left = None\n",
    "        self.right = None\n",
    "\n",
    "class Codec:\n",
    "\n",
    "    def serialize(self, root):\n",
    "        \"\"\"Encodes a tree to a single string.\n",
    "        \n",
    "        :type root: TreeNode\n",
    "        :rtype: str\n",
    "        \"\"\"\n",
    "        res = [] # ['1','2' etc]\n",
    "        \n",
    "        # PRE ORDER\n",
    "        def dfs(node):\n",
    "            if not node:\n",
    "                res.append('N')\n",
    "                return \n",
    "            res.append(str(node.val))\n",
    "            dfs(node.left)\n",
    "            dfs(node.right)\n",
    "        dfs(root)\n",
    "        return \",\".join(res)\n",
    "            \n",
    "            \n",
    "        \n",
    "\n",
    "    def deserialize(self, data):\n",
    "        \"\"\"Decodes your encoded data to tree.\n",
    "        \n",
    "        :type data: str\n",
    "        :rtype: TreeNode\n",
    "        \"\"\"\n",
    "        \n",
    "        # data is the list of preOrder which is ',' seperated\n",
    "        vals = data.split(',')\n",
    "        self.i = 0\n",
    "        \n",
    "        def dfs():\n",
    "            if vals[self.i] =='N':\n",
    "                self.i+=1\n",
    "                return None\n",
    "            root = TreeNode(int(vals[self.i]))\n",
    "            self.i+=1\n",
    "            root.left = dfs()\n",
    "            root.right = dfs()\n",
    "            return root\n",
    "        return dfs()\n",
    "\n",
    "def pre_order(root):\n",
    "    if not root:\n",
    "#         print('N',end=',')\n",
    "        return None\n",
    "    print(root.val,end=',')\n",
    "    pre_order(root.left)\n",
    "    pre_order(root.right)\n",
    "\n",
    "# Your Codec object will be instantiated and called as such:\n",
    "obj = Codec()\n",
    "root_balanced = TreeNode(5)\n",
    "root_balanced.left = TreeNode(3)\n",
    "root_balanced.left.left = TreeNode(2)\n",
    "root_balanced.left.left.left = TreeNode(1)\n",
    "root_balanced.right = TreeNode(6)\n",
    "root_balanced.left.right = TreeNode(4)\n",
    "\n",
    "data = obj.serialize(root_balanced)\n",
    "print(f'preorder data as serialized is {data}')\n",
    "\n",
    "ans = obj.deserialize(data)\n",
    "\n",
    "print(f'\\nDesearialized the data to tree and root is {ans.val}')\n",
    "\n",
    "pre_order(ans)"
   ]
  },
  {
   "cell_type": "code",
   "execution_count": 9,
   "id": "e282a6fa",
   "metadata": {},
   "outputs": [
    {
     "ename": "SyntaxError",
     "evalue": "invalid syntax (1863800775.py, line 3)",
     "output_type": "error",
     "traceback": [
      "\u001b[0;36m  Cell \u001b[0;32mIn[9], line 3\u001b[0;36m\u001b[0m\n\u001b[0;31m    Given the root of a Binary Search Tree (BST), convert it to a Greater Tree such that every key of the original BST is changed to the original key plus the sum of all keys greater than the original key in BST.\u001b[0m\n\u001b[0m          ^\u001b[0m\n\u001b[0;31mSyntaxError\u001b[0m\u001b[0;31m:\u001b[0m invalid syntax\n"
     ]
    }
   ],
   "source": [
    "# 1038 BST to Greater Sum\n",
    "\n",
    "Given the root of a Binary Search Tree (BST), convert it to a Greater Tree such that every key of the original BST is changed to the original key plus the sum of all keys greater than the original key in BST.\n",
    "\n",
    "As a reminder, a binary search tree is a tree that satisfies these constraints:\n",
    "\n",
    "The left subtree of a node contains only nodes with keys less than the node's key.\n",
    "The right subtree of a node contains only nodes with keys greater than the node's key.\n",
    "Both the left and right subtrees must also be binary search trees.\n",
    "\n",
    "Input: root = [4,1,6,0,2,5,7,null,null,null,3,null,null,null,8]\n",
    "Output: [30,36,21,36,35,26,15,null,null,null,33,null,null,null,8]\n",
    "Example 2:\n",
    "\n",
    "Input: root = [0,null,1]\n",
    "Output: [1,null,1]\n"
   ]
  },
  {
   "cell_type": "code",
   "execution_count": 10,
   "id": "717e9cf3",
   "metadata": {},
   "outputs": [
    {
     "name": "stdout",
     "output_type": "stream",
     "text": [
      "<__main__.TreeNode object at 0x7faab07d1640>\n"
     ]
    }
   ],
   "source": [
    "# Definition for a binary tree node.\n",
    "class TreeNode:\n",
    "    def __init__(self, val=0, left=None, right=None):\n",
    "        self.val = val\n",
    "        self.left = left\n",
    "        self.right = right\n",
    "\n",
    "\n",
    "def convertBST(root):\n",
    "    sum_ = 0\n",
    "\n",
    "    def reverse_inorder(node,sum_):\n",
    "        if not node:\n",
    "            return\n",
    "\n",
    "        # First, visit the right subtree\n",
    "        reverse_inorder(node.right,sum_)\n",
    "\n",
    "        # Update the sum and the node's value\n",
    "        sum_ += node.val\n",
    "        node.val = sum_\n",
    "\n",
    "        # Then, visit the left subtree\n",
    "        reverse_inorder(node.left,sum_)\n",
    "\n",
    "    reverse_inorder(root,sum_)\n",
    "    return root\n",
    "root_balanced = TreeNode(5)\n",
    "root_balanced.left = TreeNode(3)\n",
    "root_balanced.left.left = TreeNode(2)\n",
    "root_balanced.left.left.left = TreeNode(1)\n",
    "root_balanced.right = TreeNode(6)\n",
    "root_balanced.left.right = TreeNode(4)\n",
    "print(convertBST(root_balanced))"
   ]
  },
  {
   "cell_type": "code",
   "execution_count": null,
   "id": "193fd5c9",
   "metadata": {},
   "outputs": [],
   "source": []
  },
  {
   "cell_type": "markdown",
   "id": "252f8c4d",
   "metadata": {},
   "source": [
    "# DYNAMIC PROGRRAMMING"
   ]
  },
  {
   "cell_type": "markdown",
   "id": "cfbd6a07",
   "metadata": {},
   "source": [
    "# 494 Target Sum\n",
    "\n",
    "You are given an integer array nums and an integer target.\n",
    "\n",
    "You want to build an expression out of nums by adding one of the symbols '+' and '-' before each integer in nums and then concatenate all the integers.\n",
    "\n",
    "For example, if nums = [2, 1], you can add a '+' before 2 and a '-' before 1 and concatenate them to build the expression \"+2-1\".\n",
    "Return the number of different expressions that you can build, which evaluates to target.\n",
    "\n",
    "Example 1:\n",
    "\n",
    "Input: nums = [1,1,1,1,1], target = 3\n",
    "Output: 5\n",
    "Explanation: There are 5 ways to assign symbols to make the sum of nums be target 3.\n",
    "-1 + 1 + 1 + 1 + 1 = 3\n",
    "+1 - 1 + 1 + 1 + 1 = 3\n",
    "+1 + 1 - 1 + 1 + 1 = 3\n",
    "+1 + 1 + 1 - 1 + 1 = 3\n",
    "+1 + 1 + 1 + 1 - 1 = 3\n",
    "Example 2:\n",
    "\n",
    "Input: nums = [1], target = 1\n",
    "Output: 1\n"
   ]
  },
  {
   "cell_type": "markdown",
   "id": "376a96d0",
   "metadata": {},
   "source": [
    "Solution:\n",
    "\n",
    "with DP, passing (index, total) in each iterarion/call, end the iteration when index reaches out of bounds\n",
    "\n",
    "using the cahching, recursion, and defining the hashmap(dictioanary) to maintain the track"
   ]
  },
  {
   "cell_type": "code",
   "execution_count": 22,
   "id": "b5c03fa7",
   "metadata": {
    "scrolled": true
   },
   "outputs": [
    {
     "name": "stdout",
     "output_type": "stream",
     "text": [
      ">>>>>DP is {(4, 4): 1}\n",
      ">>>>>DP is {(4, 4): 1, (4, 2): 1}\n",
      ">>>>>DP is {(4, 4): 1, (4, 2): 1, (3, 3): 2}\n",
      ">>>>>DP is {(4, 4): 1, (4, 2): 1, (3, 3): 2, (4, 0): 0}\n",
      ">>>>>DP is {(4, 4): 1, (4, 2): 1, (3, 3): 2, (4, 0): 0, (3, 1): 1}\n",
      ">>>>>DP is {(4, 4): 1, (4, 2): 1, (3, 3): 2, (4, 0): 0, (3, 1): 1, (2, 2): 3}\n",
      ">>>>>DP is {(4, 4): 1, (4, 2): 1, (3, 3): 2, (4, 0): 0, (3, 1): 1, (2, 2): 3, (4, -2): 0}\n",
      ">>>>>DP is {(4, 4): 1, (4, 2): 1, (3, 3): 2, (4, 0): 0, (3, 1): 1, (2, 2): 3, (4, -2): 0, (3, -1): 0}\n",
      ">>>>>DP is {(4, 4): 1, (4, 2): 1, (3, 3): 2, (4, 0): 0, (3, 1): 1, (2, 2): 3, (4, -2): 0, (3, -1): 0, (2, 0): 1}\n",
      ">>>>>DP is {(4, 4): 1, (4, 2): 1, (3, 3): 2, (4, 0): 0, (3, 1): 1, (2, 2): 3, (4, -2): 0, (3, -1): 0, (2, 0): 1, (1, 1): 4}\n",
      ">>>>>DP is {(4, 4): 1, (4, 2): 1, (3, 3): 2, (4, 0): 0, (3, 1): 1, (2, 2): 3, (4, -2): 0, (3, -1): 0, (2, 0): 1, (1, 1): 4, (4, -4): 0}\n",
      ">>>>>DP is {(4, 4): 1, (4, 2): 1, (3, 3): 2, (4, 0): 0, (3, 1): 1, (2, 2): 3, (4, -2): 0, (3, -1): 0, (2, 0): 1, (1, 1): 4, (4, -4): 0, (3, -3): 0}\n",
      ">>>>>DP is {(4, 4): 1, (4, 2): 1, (3, 3): 2, (4, 0): 0, (3, 1): 1, (2, 2): 3, (4, -2): 0, (3, -1): 0, (2, 0): 1, (1, 1): 4, (4, -4): 0, (3, -3): 0, (2, -2): 0}\n",
      ">>>>>DP is {(4, 4): 1, (4, 2): 1, (3, 3): 2, (4, 0): 0, (3, 1): 1, (2, 2): 3, (4, -2): 0, (3, -1): 0, (2, 0): 1, (1, 1): 4, (4, -4): 0, (3, -3): 0, (2, -2): 0, (1, -1): 1}\n",
      ">>>>>DP is {(4, 4): 1, (4, 2): 1, (3, 3): 2, (4, 0): 0, (3, 1): 1, (2, 2): 3, (4, -2): 0, (3, -1): 0, (2, 0): 1, (1, 1): 4, (4, -4): 0, (3, -3): 0, (2, -2): 0, (1, -1): 1, (0, 0): 5}\n",
      "5\n"
     ]
    }
   ],
   "source": [
    "def findTargetSumWays(nums,target):\n",
    "    #define the hashMap\n",
    "    dp = {} # (index,total) -> # of ways\n",
    "#     print(f'initial DP is {dp}')\n",
    "    # define the recursive function\n",
    "    def backtrack(index,total):\n",
    "#         print(f'--> index is {index}, total is {total}')\n",
    "        if index==len(nums):\n",
    "#             print(f'index == len(nums), total is {total}')\n",
    "            return 1 if total == target else 0\n",
    "        if (index,total) in dp:\n",
    "#             print(f'*** index, total in DP')\n",
    "            return dp[(index,total)]\n",
    "        \n",
    "        dp[(index,total)] = (backtrack(index+1, total+nums[index])) + (backtrack(index+1, total-nums[index]))\n",
    "        print(f'>>>>>DP is {dp}')\n",
    "        return dp[(index,total)]\n",
    "    return backtrack(0,0)\n",
    "    \n",
    "nums = [1,1,1,1,1]\n",
    "target = 3 \n",
    "print(findTargetSumWays(nums,target))"
   ]
  },
  {
   "cell_type": "markdown",
   "id": "2f1d418b",
   "metadata": {},
   "source": [
    "# 70 Climbing Stairs\n",
    "\n",
    "You are climbing a staircase. It takes n steps to reach the top.\n",
    "\n",
    "Each time you can either climb 1 or 2 steps. In how many distinct ways can you climb to the top?\n",
    "\n",
    " \n",
    "\n",
    "Example 1:\n",
    "\n",
    "Input: n = 2\n",
    "Output: 2\n",
    "Explanation: There are two ways to climb to the top.\n",
    "1. 1 step + 1 step\n",
    "2. 2 steps\n",
    "Example 2:\n",
    "\n",
    "Input: n = 3\n",
    "Output: 3\n",
    "Explanation: There are three ways to climb to the top.\n",
    "1. 1 step + 1 step + 1 step\n",
    "2. 1 step + 2 steps\n",
    "3. 2 steps + 1 step"
   ]
  },
  {
   "cell_type": "markdown",
   "id": "df181047",
   "metadata": {},
   "source": [
    "Solution: (Tursn out to be FIBBANOCCI SERIES)\n",
    "    \n",
    "two decisons: 1 step or 2 step\n",
    "\n",
    "so two decsions to make in every iteration\n",
    "\n",
    "eg n = 5, start from 0\n",
    "0-> 1,2\n",
    "0[1] -> 2, 3\n",
    "0[1][2] -> 3,4\n",
    "0[1][3] -> 4, 5 ====> here we reached to n = 5\n",
    "\n",
    "similar way draw a tree in all possible ways until you reach 5 and the count is number of ways to reach the step\n",
    "\n",
    "we get 8 different ways we reach to 5 from the above decsion tree\n",
    "\n",
    "This is with DFS and time complexithy is: Height of tree (n) => O(2^n) (as two decsions each iteration)\n",
    "    \n",
    "Use DP beacuse the steps are repetitive as left tree is same as right i.e., if the left tree is evaluated fisrst then sme are\n",
    "going to repeat for the right tree instead of draw full tree again just memoize (Caching) the decsions on each iterations and check each time \n",
    "wheeter this decsion is already visted or not\n",
    "\n",
    "thsi give O(n)\n",
    "\n",
    "Definne array dp\n",
    "start from the back always the last and 2nd last step is 1\n",
    "move back and check i+1 and i+2\n",
    "    "
   ]
  },
  {
   "cell_type": "code",
   "execution_count": 21,
   "id": "74ca44d7",
   "metadata": {},
   "outputs": [
    {
     "name": "stdout",
     "output_type": "stream",
     "text": [
      "8\n"
     ]
    }
   ],
   "source": [
    "def climbStairs(n):\n",
    "    one, two = 1, 1\n",
    "    for i in range(n-1):\n",
    "        temp = one\n",
    "        one = one + two\n",
    "        two = temp\n",
    "    return one\n",
    "n = 5\n",
    "print(climbStairs(n))"
   ]
  },
  {
   "cell_type": "code",
   "execution_count": 32,
   "id": "bfa21bde",
   "metadata": {},
   "outputs": [
    {
     "name": "stdout",
     "output_type": "stream",
     "text": [
      "Number of ways to climb 2 steps: 2\n",
      "Number of ways to climb 3 steps: 3\n"
     ]
    }
   ],
   "source": [
    "# Brute Forw Way\n",
    "\n",
    "def climb_stairs(n):\n",
    "    # Base case: If n is 0 or negative, there is only one way (doing nothing or invalid step)\n",
    "    if n <= 0:\n",
    "        return 0\n",
    "    # Base case: If there is only 1 step, there is only one way to climb it\n",
    "    if n == 1:\n",
    "        return 1\n",
    "    # Base case: If there are 2 steps, there are two ways to climb it\n",
    "    if n == 2:\n",
    "        return 2\n",
    "    # Recursive case: The number of ways to climb n steps is the sum of the number of ways\n",
    "    # to climb (n-1) steps and the number of ways to climb (n-2) steps\n",
    "    return climb_stairs(n-1) + climb_stairs(n-2)\n",
    "\n",
    "# Example usage\n",
    "n1 = 2\n",
    "print(f\"Number of ways to climb {n1} steps: {climb_stairs(n1)}\")  # Output: 2\n",
    "\n",
    "n2 = 3\n",
    "print(f\"Number of ways to climb {n2} steps: {climb_stairs(n2)}\")"
   ]
  },
  {
   "cell_type": "markdown",
   "id": "5075ea4b",
   "metadata": {},
   "source": [
    "# 983 Min cost for tickets\n",
    "\n",
    "You have planned some train traveling one year in advance. The days of the year in which you will travel are given as an integer array days. Each day is an integer from 1 to 365.\n",
    "\n",
    "Train tickets are sold in three different ways:\n",
    "\n",
    "a 1-day pass is sold for costs[0] dollars,\n",
    "a 7-day pass is sold for costs[1] dollars, and\n",
    "a 30-day pass is sold for costs[2] dollars.\n",
    "The passes allow that many days of consecutive travel.\n",
    "\n",
    "For example, if we get a 7-day pass on day 2, then we can travel for 7 days: 2, 3, 4, 5, 6, 7, and 8.\n",
    "Return the minimum number of dollars you need to travel every day in the given list of days.\n",
    "\n",
    "Example 1:\n",
    "\n",
    "Input: days = [1,4,6,7,8,20], costs = [2,7,15]\n",
    "Output: 11\n",
    "Explanation: For example, here is one way to buy passes that lets you travel your travel plan:\n",
    "On day 1, you bought a 1-day pass for costs[0] = $2, which covered day 1.\n",
    "On day 3, you bought a 7-day pass for costs[1] = $7, which covered days 3, 4, ..., 9.\n",
    "On day 20, you bought a 1-day pass for costs[0] = $2, which covered day 20.\n",
    "In total, you spent $11 and covered all the days of your travel.\n",
    "Example 2:\n",
    "\n",
    "Input: days = [1,2,3,4,5,6,7,8,9,10,30,31], costs = [2,7,15]\n",
    "Output: 17\n",
    "Explanation: For example, here is one way to buy passes that lets you travel your travel plan:\n",
    "On day 1, you bought a 30-day pass for costs[2] = $15 which covered days 1, 2, ..., 30.\n",
    "On day 31, you bought a 1-day pass for costs[0] = $2 which covered day 31.\n",
    "In total, you spent $17 and covered all the days of your travel."
   ]
  },
  {
   "cell_type": "markdown",
   "id": "76e20c09",
   "metadata": {},
   "source": [
    "Solution:\n",
    "    \n",
    "BruteForce: drawing Decsion Tree for better understanding\n",
    "\n",
    "for each step we can have a three decsions i.e., buying 1 day, 7 day and 30 days pass\n",
    "and accordingly the number of days coverd is tracked \n",
    "\n",
    "Tiem Complexity = O(3^n) : 3 decsions in each step and n = height of tree\n",
    "\n",
    "DP: define hashMap, memoize the days and tracks as pass the number of days as index to recursive function because the costs remain constant\n",
    "in every iteration (i.e., either of the three decsions)\n",
    "\n",
    "this give time complexity = O(1+7+30 * n) => O(n)\n",
    "\n"
   ]
  },
  {
   "cell_type": "code",
   "execution_count": 27,
   "id": "7254685b",
   "metadata": {},
   "outputs": [
    {
     "name": "stdout",
     "output_type": "stream",
     "text": [
      "[0, 0, 0, 0, 0, 0, 0, 0, 0, 0, 0, 0, 0, 0, 0, 0, 0, 0, 0, 0, 0]\n",
      "cost 1: 2, \n",
      "cost 2: 7,\n",
      "cost 3: 15\n",
      "for i 1 the dp is [0, 2, 0, 0, 0, 0, 0, 0, 0, 0, 0, 0, 0, 0, 0, 0, 0, 0, 0, 0, 0]\n",
      "for i 2 the dp is [0, 2, 2, 0, 0, 0, 0, 0, 0, 0, 0, 0, 0, 0, 0, 0, 0, 0, 0, 0, 0]\n",
      "for i 3 the dp is [0, 2, 2, 2, 0, 0, 0, 0, 0, 0, 0, 0, 0, 0, 0, 0, 0, 0, 0, 0, 0]\n",
      "cost 1: 4, \n",
      "cost 2: 7,\n",
      "cost 3: 15\n",
      "for i 4 the dp is [0, 2, 2, 2, 4, 0, 0, 0, 0, 0, 0, 0, 0, 0, 0, 0, 0, 0, 0, 0, 0]\n",
      "for i 5 the dp is [0, 2, 2, 2, 4, 4, 0, 0, 0, 0, 0, 0, 0, 0, 0, 0, 0, 0, 0, 0, 0]\n",
      "cost 1: 6, \n",
      "cost 2: 7,\n",
      "cost 3: 15\n",
      "for i 6 the dp is [0, 2, 2, 2, 4, 4, 6, 0, 0, 0, 0, 0, 0, 0, 0, 0, 0, 0, 0, 0, 0]\n",
      "cost 1: 8, \n",
      "cost 2: 7,\n",
      "cost 3: 15\n",
      "for i 7 the dp is [0, 2, 2, 2, 4, 4, 6, 7, 0, 0, 0, 0, 0, 0, 0, 0, 0, 0, 0, 0, 0]\n",
      "cost 1: 9, \n",
      "cost 2: 9,\n",
      "cost 3: 15\n",
      "for i 8 the dp is [0, 2, 2, 2, 4, 4, 6, 7, 9, 0, 0, 0, 0, 0, 0, 0, 0, 0, 0, 0, 0]\n",
      "for i 9 the dp is [0, 2, 2, 2, 4, 4, 6, 7, 9, 9, 0, 0, 0, 0, 0, 0, 0, 0, 0, 0, 0]\n",
      "for i 10 the dp is [0, 2, 2, 2, 4, 4, 6, 7, 9, 9, 9, 0, 0, 0, 0, 0, 0, 0, 0, 0, 0]\n",
      "for i 11 the dp is [0, 2, 2, 2, 4, 4, 6, 7, 9, 9, 9, 9, 0, 0, 0, 0, 0, 0, 0, 0, 0]\n",
      "for i 12 the dp is [0, 2, 2, 2, 4, 4, 6, 7, 9, 9, 9, 9, 9, 0, 0, 0, 0, 0, 0, 0, 0]\n",
      "for i 13 the dp is [0, 2, 2, 2, 4, 4, 6, 7, 9, 9, 9, 9, 9, 9, 0, 0, 0, 0, 0, 0, 0]\n",
      "for i 14 the dp is [0, 2, 2, 2, 4, 4, 6, 7, 9, 9, 9, 9, 9, 9, 9, 0, 0, 0, 0, 0, 0]\n",
      "for i 15 the dp is [0, 2, 2, 2, 4, 4, 6, 7, 9, 9, 9, 9, 9, 9, 9, 9, 0, 0, 0, 0, 0]\n",
      "for i 16 the dp is [0, 2, 2, 2, 4, 4, 6, 7, 9, 9, 9, 9, 9, 9, 9, 9, 9, 0, 0, 0, 0]\n",
      "for i 17 the dp is [0, 2, 2, 2, 4, 4, 6, 7, 9, 9, 9, 9, 9, 9, 9, 9, 9, 9, 0, 0, 0]\n",
      "for i 18 the dp is [0, 2, 2, 2, 4, 4, 6, 7, 9, 9, 9, 9, 9, 9, 9, 9, 9, 9, 9, 0, 0]\n",
      "for i 19 the dp is [0, 2, 2, 2, 4, 4, 6, 7, 9, 9, 9, 9, 9, 9, 9, 9, 9, 9, 9, 9, 0]\n",
      "cost 1: 11, \n",
      "cost 2: 16,\n",
      "cost 3: 15\n",
      "for i 20 the dp is [0, 2, 2, 2, 4, 4, 6, 7, 9, 9, 9, 9, 9, 9, 9, 9, 9, 9, 9, 9, 11]\n",
      "11\n"
     ]
    }
   ],
   "source": [
    "def mincostTickets(days, costs):\n",
    "    # Create a set of travel days for quick lookup\n",
    "    travel_days = set(days)\n",
    "    \n",
    "    # Find the last travel day\n",
    "    last_day = days[-1]\n",
    "    \n",
    "    # Create a DP array to store the minimum cost up to each day\n",
    "    dp = [0] * (last_day + 1)\n",
    "    print(dp)\n",
    "    \n",
    "    for i in range(1, last_day + 1):\n",
    "        if i not in travel_days:\n",
    "            # If it's not a travel day, the cost remains the same as the previous day\n",
    "            dp[i] = dp[i - 1]\n",
    "        else:\n",
    "            # Calculate the cost for 1-day, 7-day, and 30-day passes\n",
    "            cost1 = dp[i - 1] + costs[0] if i - 1 >= 0 else costs[0]\n",
    "            cost7 = dp[i - 7] + costs[1] if i - 7 >= 0 else costs[1]\n",
    "            cost30 = dp[i - 30] + costs[2] if i - 30 >= 0 else costs[2]\n",
    "            print(f'cost 1: {cost1}, \\ncost 2: {cost7},\\ncost 3: {cost30}')\n",
    "            # Take the minimum of the three costs\n",
    "            dp[i] = min(cost1, cost7, cost30)\n",
    "        print(f'for i {i} the dp is {dp}')\n",
    "    \n",
    "    # Return the minimum cost for the last travel day\n",
    "    return dp[last_day]\n",
    "\n",
    "# Example usage\n",
    "days = [1, 4, 6, 7, 8, 20]\n",
    "costs = [2, 7, 15]\n",
    "print(mincostTickets(days, costs))  # Output: 11\n"
   ]
  },
  {
   "cell_type": "markdown",
   "id": "ba99c2f6",
   "metadata": {},
   "source": [
    "# 518 Coin Change II\n",
    "\n",
    "You are given an integer array coins representing coins of different denominations and an integer amount representing a total amount of money.\n",
    "\n",
    "Return the number of combinations that make up that amount. If that amount of money cannot be made up by any combination of the coins, return 0.\n",
    "\n",
    "You may assume that you have an infinite number of each kind of coin.\n",
    "\n",
    "The answer is guaranteed to fit into a signed 32-bit integer.\n",
    "\n",
    "Example 1:\n",
    "\n",
    "Input: amount = 5, coins = [1,2,5]\n",
    "Output: 4\n",
    "Explanation: there are four ways to make up the amount:\n",
    "5=5\n",
    "5=2+2+1\n",
    "5=2+1+1+1\n",
    "5=1+1+1+1+1\n",
    "Example 2:\n",
    "\n",
    "Input: amount = 3, coins = [2]\n",
    "Output: 0\n",
    "Explanation: the amount of 3 cannot be made up just with coins of 2.\n",
    "Example 3:\n",
    "\n",
    "Input: amount = 10, coins = [10]\n",
    "Output: 1\n"
   ]
  },
  {
   "cell_type": "code",
   "execution_count": null,
   "id": "2069e5aa",
   "metadata": {},
   "outputs": [],
   "source": [
    "Solution:\n",
    "\n",
    "Brute Force\n",
    "Same here as the coins remain constant hence for each step make the decsions as many number of coins\n",
    "time complexity = O(m^n) m: amount, n: number of coins\n",
    "        \n",
    "DP: memoize, pass index and amount remainig each time, maintain a track with hashMap\n",
    "time complexity: O(m*n)\n",
    "    \n",
    "Advanced DP: time complexity -> O(n)\n"
   ]
  },
  {
   "cell_type": "code",
   "execution_count": 34,
   "id": "7a4cc302",
   "metadata": {},
   "outputs": [
    {
     "name": "stdout",
     "output_type": "stream",
     "text": [
      "[0, 0, 0, 0, 0, 0, 0, 0, 0, 0, 0, 0, 0]\n",
      "i is  1 now DP is  [1, 1, 0, 0, 0, 0, 0, 0, 0, 0, 0, 0, 0]\n",
      "i is  2 now DP is  [1, 1, 1, 0, 0, 0, 0, 0, 0, 0, 0, 0, 0]\n",
      "i is  3 now DP is  [1, 1, 1, 1, 0, 0, 0, 0, 0, 0, 0, 0, 0]\n",
      "i is  4 now DP is  [1, 1, 1, 1, 1, 0, 0, 0, 0, 0, 0, 0, 0]\n",
      "i is  5 now DP is  [1, 1, 1, 1, 1, 1, 0, 0, 0, 0, 0, 0, 0]\n",
      "i is  6 now DP is  [1, 1, 1, 1, 1, 1, 1, 0, 0, 0, 0, 0, 0]\n",
      "i is  7 now DP is  [1, 1, 1, 1, 1, 1, 1, 1, 0, 0, 0, 0, 0]\n",
      "i is  8 now DP is  [1, 1, 1, 1, 1, 1, 1, 1, 1, 0, 0, 0, 0]\n",
      "i is  9 now DP is  [1, 1, 1, 1, 1, 1, 1, 1, 1, 1, 0, 0, 0]\n",
      "i is  10 now DP is  [1, 1, 1, 1, 1, 1, 1, 1, 1, 1, 1, 0, 0]\n",
      "i is  11 now DP is  [1, 1, 1, 1, 1, 1, 1, 1, 1, 1, 1, 1, 0]\n",
      "i is  12 now DP is  [1, 1, 1, 1, 1, 1, 1, 1, 1, 1, 1, 1, 1]\n",
      "*** for the coin  1 ->dp after inner loop is:  [1, 1, 1, 1, 1, 1, 1, 1, 1, 1, 1, 1, 1]\n",
      "i is  2 now DP is  [1, 1, 2, 1, 1, 1, 1, 1, 1, 1, 1, 1, 1]\n",
      "i is  3 now DP is  [1, 1, 2, 2, 1, 1, 1, 1, 1, 1, 1, 1, 1]\n",
      "i is  4 now DP is  [1, 1, 2, 2, 3, 1, 1, 1, 1, 1, 1, 1, 1]\n",
      "i is  5 now DP is  [1, 1, 2, 2, 3, 3, 1, 1, 1, 1, 1, 1, 1]\n",
      "i is  6 now DP is  [1, 1, 2, 2, 3, 3, 4, 1, 1, 1, 1, 1, 1]\n",
      "i is  7 now DP is  [1, 1, 2, 2, 3, 3, 4, 4, 1, 1, 1, 1, 1]\n",
      "i is  8 now DP is  [1, 1, 2, 2, 3, 3, 4, 4, 5, 1, 1, 1, 1]\n",
      "i is  9 now DP is  [1, 1, 2, 2, 3, 3, 4, 4, 5, 5, 1, 1, 1]\n",
      "i is  10 now DP is  [1, 1, 2, 2, 3, 3, 4, 4, 5, 5, 6, 1, 1]\n",
      "i is  11 now DP is  [1, 1, 2, 2, 3, 3, 4, 4, 5, 5, 6, 6, 1]\n",
      "i is  12 now DP is  [1, 1, 2, 2, 3, 3, 4, 4, 5, 5, 6, 6, 7]\n",
      "*** for the coin  2 ->dp after inner loop is:  [1, 1, 2, 2, 3, 3, 4, 4, 5, 5, 6, 6, 7]\n",
      "i is  5 now DP is  [1, 1, 2, 2, 3, 4, 4, 4, 5, 5, 6, 6, 7]\n",
      "i is  6 now DP is  [1, 1, 2, 2, 3, 4, 5, 4, 5, 5, 6, 6, 7]\n",
      "i is  7 now DP is  [1, 1, 2, 2, 3, 4, 5, 6, 5, 5, 6, 6, 7]\n",
      "i is  8 now DP is  [1, 1, 2, 2, 3, 4, 5, 6, 7, 5, 6, 6, 7]\n",
      "i is  9 now DP is  [1, 1, 2, 2, 3, 4, 5, 6, 7, 8, 6, 6, 7]\n",
      "i is  10 now DP is  [1, 1, 2, 2, 3, 4, 5, 6, 7, 8, 10, 6, 7]\n",
      "i is  11 now DP is  [1, 1, 2, 2, 3, 4, 5, 6, 7, 8, 10, 11, 7]\n",
      "i is  12 now DP is  [1, 1, 2, 2, 3, 4, 5, 6, 7, 8, 10, 11, 13]\n",
      "*** for the coin  5 ->dp after inner loop is:  [1, 1, 2, 2, 3, 4, 5, 6, 7, 8, 10, 11, 13]\n",
      "13\n"
     ]
    }
   ],
   "source": [
    "def change(amount, coins):\n",
    "    dp = [0] * (amount + 1)\n",
    "    print(dp)\n",
    "    dp[0] = 1 # base case as True\n",
    "\n",
    "    for coin in coins:\n",
    "#         print('>>>>coin is ',coin)\n",
    "        for i in range(coin, amount + 1):\n",
    "#             print()\n",
    "            dp[i] += dp[i - coin]\n",
    "            print(\"i is \",i,\"now DP is \",dp)\n",
    "#             print('dp[i] in inner loop is', dp[i])\n",
    "        print(\"*** for the coin \",coin, '->dp after inner loop is: ' ,dp)\n",
    "    return dp[amount]\n",
    "amount = 12\n",
    "coins = [1,2,5]\n",
    "print(change(amount, coins))"
   ]
  },
  {
   "cell_type": "code",
   "execution_count": 35,
   "id": "9eca2bee",
   "metadata": {},
   "outputs": [
    {
     "name": "stdout",
     "output_type": "stream",
     "text": [
      "[1, 0, 0, 0, 0, 0]\n",
      "[1, 1, 1, 1, 1, 1]\n",
      "[1, 1, 2, 2, 3, 3]\n",
      "[1, 1, 2, 2, 3, 4]\n",
      "4\n"
     ]
    }
   ],
   "source": [
    "def change(amount, coins):\n",
    "    # Initialize a 2D dp array\n",
    "    dp = [[0] * (amount + 1) for _ in range(len(coins) + 1)]\n",
    "    \n",
    "    # Base case: There is one way to make amount 0 with any number of coins, which is to use no coins\n",
    "    for i in range(len(coins) + 1):\n",
    "        dp[i][0] = 1\n",
    "\n",
    "    # Fill the dp array\n",
    "    for i in range(1, len(coins) + 1):\n",
    "        for j in range(1, amount + 1):\n",
    "            if j >= coins[i - 1]:\n",
    "                dp[i][j] = dp[i - 1][j] + dp[i][j - coins[i - 1]]\n",
    "            else:\n",
    "                dp[i][j] = dp[i - 1][j]\n",
    "\n",
    "    # Print the dp array for better understanding\n",
    "    for row in dp:\n",
    "        print(row)\n",
    "    \n",
    "    # The answer is the number of ways to make 'amount' using all given coins\n",
    "    return dp[len(coins)][amount]\n",
    "\n",
    "amount = 5\n",
    "coins = [1, 2, 5]\n",
    "print(change(amount, coins))  # Output: 4\n"
   ]
  },
  {
   "cell_type": "markdown",
   "id": "80ed5cea",
   "metadata": {},
   "source": [
    "# 139 Word Break\n",
    "\n",
    "Given a string s and a dictionary of strings wordDict, return true if s can be segmented into a space-separated sequence of one or more dictionary words.\n",
    "\n",
    "Note that the same word in the dictionary may be reused multiple times in the segmentation.\n",
    "\n",
    " \n",
    "\n",
    "Example 1:\n",
    "\n",
    "Input: s = \"leetcode\", wordDict = [\"leet\",\"code\"]\n",
    "Output: true\n",
    "Explanation: Return true because \"leetcode\" can be segmented as \"leet code\".\n",
    "Example 2:\n",
    "\n",
    "Input: s = \"applepenapple\", wordDict = [\"apple\",\"pen\"]\n",
    "Output: true\n",
    "Explanation: Return true because \"applepenapple\" can be segmented as \"apple pen apple\".\n",
    "Note that you are allowed to reuse a dictionary word."
   ]
  },
  {
   "cell_type": "markdown",
   "id": "6a8209df",
   "metadata": {},
   "source": [
    "Solution\n",
    "\n",
    "check every word in wordDict which is prefix in 's'-> Time Complexity O(m*n*n)\n",
    "\n",
    "\n",
    "number of decsions are number of words in wordDict\n",
    "\n",
    "s = 'neetcode'\n",
    "wordDict = ['neet','leet','code']\n",
    "\n",
    "start: i=0 ->['neet','leet','code']\n",
    "\n",
    "        i=4['neet'] -> ['neet','leet','code']\n",
    "        \n",
    "        => here there is a match 'neetcode', i=8 this is end of \n",
    "        \n",
    "DecsionTree -> Cache -> DP\n",
    "\n",
    "Bottom Up Approach\n",
    "\n",
    "make the last one True, as the len of s is 4 make the pervious dp[]'s decsion as per the length\n",
    "\n",
    "dp[8] = True -> last 4 chars pf s\n",
    "\n",
    "dp[7]=dp[6]=dp[5]= False as these get out of bounds(7+4 =11, 6+4 =10, 5+4 = 9, 4+4 = 8(True)\n",
    "\n",
    "dp[4] = True\n",
    "\n",
    "dp[3]=dp[2]=dp[1] = False\n",
    "\n",
    "dp[0] = dp[0+len(word)] = True\n",
    "\n"
   ]
  },
  {
   "cell_type": "code",
   "execution_count": 54,
   "id": "66eeebc6",
   "metadata": {},
   "outputs": [
    {
     "name": "stdout",
     "output_type": "stream",
     "text": [
      "outside ans i is  12\n",
      "outside ans i is  11\n",
      "outside ans i is  10\n",
      "outside ans i is  9\n",
      "outside ans i is  8\n",
      "inside and i is  8\n",
      "i is 8 for the word apple dp is [False, False, False, False, False, False, False, False, True, False, False, False, False, True]\n",
      "outside ans i is  7\n",
      "outside ans i is  6\n",
      "outside ans i is  5\n",
      "inside and i is  5\n",
      "i is 5 for the word pen dp is [False, False, False, False, False, True, False, False, True, False, False, False, False, True]\n",
      "outside ans i is  4\n",
      "outside ans i is  3\n",
      "outside ans i is  2\n",
      "outside ans i is  1\n",
      "outside ans i is  0\n",
      "inside and i is  0\n",
      "i is 0 for the word apple dp is [True, False, False, False, False, True, False, False, True, False, False, False, False, True]\n",
      "True\n"
     ]
    }
   ],
   "source": [
    "def wordBreak(s,wordDict):\n",
    "    dp = [False]*(len(s)+1)\n",
    "    dp[len(s)] = True\n",
    "    \n",
    "    for i in range(len(s)-1,-1,-1):\n",
    "        print(\"outside ans i is \",i)\n",
    "        for word in wordDict:\n",
    "#             print(\">>>>> \",word)\n",
    "            if (i+len(word))<=len(s) and s[i:i+len(word)]==word:\n",
    "                print(\"inside and i is \",i)\n",
    "                dp[i] = dp[i+len(word)]\n",
    "                print(f'i is {i} for the word {word} dp is {dp}')\n",
    "            if dp[i]:\n",
    "                break\n",
    "            \n",
    "    return dp[0]\n",
    "\n",
    "s = \"applepenapple\"\n",
    "wordDict = [\"apple\",\"pen\"] \n",
    "print(wordBreak(s,wordDict))"
   ]
  },
  {
   "cell_type": "markdown",
   "id": "292c239b",
   "metadata": {},
   "source": [
    "# 5 Longest Palindromic Subsequence\n",
    "\n",
    "Example 1:\n",
    "\n",
    "Input: s = \"babad\"\n",
    "Output: \"bab\"\n",
    "Explanation: \"aba\" is also a valid answer.\n",
    "Example 2:\n",
    "\n",
    "Input: s = \"cbbd\"\n",
    "Output: \"bb\""
   ]
  },
  {
   "cell_type": "code",
   "execution_count": 48,
   "id": "02cde597",
   "metadata": {},
   "outputs": [
    {
     "name": "stdout",
     "output_type": "stream",
     "text": [
      "bab\n"
     ]
    }
   ],
   "source": [
    "# Imagining we are starting from the ceneter(left and right at same position) and we move left and right if both left and right are same\n",
    "\n",
    "def longestPalindrome(s):\n",
    "    res = ''\n",
    "    resLen = 0\n",
    "    \n",
    "    # start from the begining\n",
    "    for i in range(len(s)):\n",
    "        l,r = i,i\n",
    "        \n",
    "        # odd length palidrom\n",
    "        while l>=0 and r<len(s) and s[l]==s[r]:\n",
    "            if (r-l+1)>resLen:\n",
    "                res = s[l:r+1]\n",
    "                resLen = r-l+1\n",
    "            # move left\n",
    "            l-=1\n",
    "            r+=1\n",
    "        \n",
    "        # even length\n",
    "        l,r = i,i+1\n",
    "        while l>=0 and r<len(s) and s[l]==s[r]:\n",
    "            if (r-l+1)>resLen:\n",
    "                res = s[l:r+1]\n",
    "                resLen = r-l+1\n",
    "            l-=1\n",
    "            r+=1\n",
    "            \n",
    "    return res\n",
    "\n",
    "s = \"babad\"\n",
    "print(longestPalindrome(s))"
   ]
  },
  {
   "cell_type": "markdown",
   "id": "be9f2293",
   "metadata": {},
   "source": [
    "# 91 Decode Ways\n",
    "\n",
    "A message containing letters from A-Z can be encoded into numbers using the following mapping:\n",
    "\n",
    "'A' -> \"1\"\n",
    "'B' -> \"2\"\n",
    "...\n",
    "'Z' -> \"26\"\n",
    "To decode an encoded message, all the digits must be grouped then mapped back into letters using the reverse of the mapping above (there may be multiple ways). For example, \"11106\" can be mapped into:\n",
    "\n",
    "\"AAJF\" with the grouping (1 1 10 6)\n",
    "\"KJF\" with the grouping (11 10 6)\n",
    "Note that the grouping (1 11 06) is invalid because \"06\" cannot be mapped into 'F' since \"6\" is different from \"06\".\n",
    "\n",
    "Given a string s containing only digits, return the number of ways to decode it.\n",
    "\n",
    "The test cases are generated so that the answer fits in a 32-bit integer.\n",
    "\n",
    "Example 1:\n",
    "\n",
    "Input: s = \"12\"\n",
    "Output: 2\n",
    "Explanation: \"12\" could be decoded as \"AB\" (1 2) or \"L\" (12).\n",
    "Example 2:\n",
    "\n",
    "Input: s = \"226\"\n",
    "Output: 3\n",
    "Explanation: \"226\" could be decoded as \"BZ\" (2 26), \"VF\" (22 6), or \"BBF\" (2 2 6).\n",
    "Example 3:\n",
    "\n",
    "Input: s = \"06\"\n",
    "Output: 0\n",
    "Explanation: \"06\" cannot be mapped to \"F\" because of the leading zero (\"6\" is different from \"06\").\n"
   ]
  },
  {
   "cell_type": "markdown",
   "id": "df260788",
   "metadata": {},
   "source": [
    "Solution\n",
    "\n",
    "eg = 121\n",
    "1 -> 2 or 21\n",
    "1[2] -> 1\n",
    "12 -> 1\n",
    "\n",
    "only from 1 to 26 the numbers are considerd as Whole (eg, 2, 15, 20, 26)\n",
    "\n",
    "There will be a Sub-Problem which solves the rest of the string for every iteration\n",
    "\n",
    "Note: We have two decisions every time eg: id s = 121 -> 1->2 or 21\n",
    "        i.e. dp[i] = dp[i+1] + dp[i+1]"
   ]
  },
  {
   "cell_type": "code",
   "execution_count": 54,
   "id": "d63af453",
   "metadata": {},
   "outputs": [
    {
     "name": "stdout",
     "output_type": "stream",
     "text": [
      "{3: 1}\n",
      "3\n"
     ]
    }
   ],
   "source": [
    "def numDecodings(s):\n",
    "    # initialize hashMap with len(s):1\n",
    "    dp = {len(s):1}\n",
    "    def dfs(i):\n",
    "        if i in dp:\n",
    "            return dp[i]\n",
    "        if s[i]=='0':\n",
    "            return 0\n",
    "        \n",
    "        # now itmeans the i is from 1 to 9, then call dfs for the 2nd digit\n",
    "        res = dfs(i+1)\n",
    "        # now check if the next digits are double digits and check the last digit of this double digits\n",
    "        # as ranges till 26\n",
    "        if (i+1<len(s) and (s[i]=='1' or s[i]=='2' and\n",
    "                            s[i+1] in '0123456')):\n",
    "            res+=dfs(i+2)\n",
    "        dp[i] = res\n",
    "        \n",
    "        return res\n",
    "    print(dp)\n",
    "    return dfs(0)\n",
    "\n",
    "s = \"226\"\n",
    "print(numDecodings(s))"
   ]
  },
  {
   "cell_type": "code",
   "execution_count": 59,
   "id": "4ec25b01",
   "metadata": {},
   "outputs": [
    {
     "name": "stdout",
     "output_type": "stream",
     "text": [
      "for 1 dp is [1, 1, 0, 0]\n",
      "for 2 dp is [1, 1, 2, 0]\n",
      "for 3 dp is [1, 1, 2, 2]\n",
      "2\n"
     ]
    }
   ],
   "source": [
    "def numDecodings(s):\n",
    "    dp = [0]*(len(s)+1)\n",
    "    dp[0] = 1\n",
    "    for i in range(1,len(s)+1):\n",
    "        if s[i-1]!=1:\n",
    "            dp[i]+=dp[i-1]\n",
    "        if i>1 and '10'<=s[i-2:i]<='26':\n",
    "            dp[i]+=dp[i-2]\n",
    "        print(f'for {i} dp is {dp}')\n",
    "    return dp[len(s)]\n",
    "s = \"227\"\n",
    "print(numDecodings(s))"
   ]
  },
  {
   "cell_type": "markdown",
   "id": "876a36e9",
   "metadata": {},
   "source": [
    "# 198 House Robber\n",
    "\n",
    "You are a professional robber planning to rob houses along a street. Each house has a certain amount of money stashed, the only constraint stopping you from robbing each of them is that adjacent houses have security systems connected and it will automatically contact the police if two adjacent houses were broken into on the same night.\n",
    "\n",
    "Given an integer array nums representing the amount of money of each house, return the maximum amount of money you can rob tonight without alerting the police.\n",
    "\n",
    " \n",
    "\n",
    "Example 1:\n",
    "\n",
    "Input: nums = [1,2,3,1]\n",
    "Output: 4\n",
    "Explanation: Rob house 1 (money = 1) and then rob house 3 (money = 3).\n",
    "Total amount you can rob = 1 + 3 = 4.\n",
    "Example 2:\n",
    "\n",
    "Input: nums = [2,7,9,3,1]\n",
    "Output: 12\n",
    "Explanation: Rob house 1 (money = 2), rob house 3 (money = 9) and rob house 5 (money = 1).\n",
    "Total amount you can rob = 2 + 9 + 1 = 12."
   ]
  },
  {
   "cell_type": "markdown",
   "id": "16adb969",
   "metadata": {},
   "source": [
    "Solution\n",
    "\n",
    "Start for the beginning and in a sub problem find the max element among the rest leaving \n",
    "\n",
    "adjacent element\n",
    "\n",
    "=> rob = max(arr[0] + rob[2:n])\n",
    "\n",
    "If the first element is skipped then simply rob the every house skipping the first house\n",
    "\n",
    "=> rob = max(arr[0]+rob[2:n], rob[1:n])\n",
    "\n",
    "eg: \n",
    "Sub Problem:\n",
    "\n",
    "1. robbing 1st house\n",
    "2. skipping 1st house"
   ]
  },
  {
   "cell_type": "code",
   "execution_count": 64,
   "id": "6f80e492",
   "metadata": {},
   "outputs": [
    {
     "name": "stdout",
     "output_type": "stream",
     "text": [
      "for 2->\n",
      "rob1 is 0\n",
      "rob2 is 2\n",
      "for 7->\n",
      "rob1 is 2\n",
      "rob2 is 7\n",
      "for 9->\n",
      "rob1 is 7\n",
      "rob2 is 11\n",
      "for 3->\n",
      "rob1 is 11\n",
      "rob2 is 11\n",
      "for 1->\n",
      "rob1 is 11\n",
      "rob2 is 12\n",
      "12\n"
     ]
    }
   ],
   "source": [
    "def rob(nums):\n",
    "    rob1, rob2 = 0,0\n",
    "    # [rob1,rob2,n,n+1,n+2]\n",
    "    for n in nums:\n",
    "        temp = max(rob1+n, rob2)\n",
    "        rob1 = rob2\n",
    "        rob2 = temp\n",
    "        print(f'for {n}->\\nrob1 is {rob1}\\nrob2 is {rob2}')\n",
    "    return temp\n",
    "\n",
    "nums = [2,7,9,3,1] \n",
    "print(rob(nums))"
   ]
  },
  {
   "cell_type": "markdown",
   "id": "35e740ca",
   "metadata": {},
   "source": [
    "# 97 Interleaving String\n",
    "\n",
    "Given strings s1, s2, and s3, find whether s3 is formed by an interleaving of s1 and s2.\n",
    "\n",
    "An interleaving of two strings s and t is a configuration where s and t are divided into n and m \n",
    "substrings\n",
    " respectively, such that:\n",
    "\n",
    "s = s1 + s2 + ... + sn\n",
    "t = t1 + t2 + ... + tm\n",
    "|n - m| <= 1\n",
    "The interleaving is s1 + t1 + s2 + t2 + s3 + t3 + ... or t1 + s1 + t2 + s2 + t3 + s3 + ...\n",
    "Note: a + b is the concatenation of strings a and b.\n",
    "\n",
    "\n",
    "Input: s1 = \"aabcc\", s2 = \"dbbca\", s3 = \"aadbbcbcac\"\n",
    "Output: true\n",
    "Explanation: One way to obtain s3 is:\n",
    "Split s1 into s1 = \"aa\" + \"bc\" + \"c\", and s2 into s2 = \"dbbc\" + \"a\".\n",
    "Interleaving the two splits, we get \"aa\" + \"dbbc\" + \"bc\" + \"a\" + \"c\" = \"aadbbcbcac\".\n",
    "Since s3 can be obtained by interleaving s1 and s2, we return true.\n",
    "Example 2:\n",
    "\n",
    "Input: s1 = \"aabcc\", s2 = \"dbbca\", s3 = \"aadbbbaccc\"\n",
    "Output: false\n",
    "Explanation: Notice how it is impossible to interleave s2 with any other string to obtain s3.\n",
    "Example 3:\n",
    "\n",
    "Input: s1 = \"\", s2 = \"\", s3 = \"\"\n",
    "Output: true"
   ]
  },
  {
   "cell_type": "markdown",
   "id": "d2130129",
   "metadata": {},
   "source": [
    "Solution\n",
    "\n",
    "start with position 0 in s3 and compare with 0th s1 and s2 if match shift the pointer of s3 and \n",
    "\n",
    "the matched strign(s1 or s2) so this is like 2 Decisions in every iteration so we gent O(2^n) time complexity.\n",
    "\n",
    "So it has repetitve decsions so we use DP here to get O(m*n) time complexity.\n",
    "\n",
    "Initialize base case True\n",
    "\n",
    "Check last chars of both s1 ans s2 can form last two chars of s3 if YES then TRUE else FASLE\n",
    "\n",
    "Even check the last char of any string can form theh target string and if YES then TRUE else FALSE\n",
    "\n",
    "Eventually cehck the BOTTOM and RIGHT POSTION when you grow up the matrix if they are TRUE the TRUE."
   ]
  },
  {
   "cell_type": "code",
   "execution_count": 70,
   "id": "37ebee7a",
   "metadata": {},
   "outputs": [
    {
     "name": "stdout",
     "output_type": "stream",
     "text": [
      "True\n"
     ]
    }
   ],
   "source": [
    "def interLeave(s1,s2,s3):\n",
    "    if len(s1)+len(s2)!=len(s3):\n",
    "        return False\n",
    "    \n",
    "    dp = [[False]*(len(s2)+1) for i in range(len(s1)+1)]\n",
    "    \n",
    "    dp[len(s1)][len(s2)] = True\n",
    "    \n",
    "    for i in range(len(s1),-1,-1):\n",
    "        for j in range(len(s2),-1,-1):\n",
    "            if i<len(s1) and s1[i]==s3[i+j] and dp[i+1][j]:\n",
    "                dp[i][j]= True\n",
    "            if j<len(s2) and s2[j]==s3[j+i] and dp[i][j+1]:\n",
    "                dp[i][j]= True\n",
    "    return dp[0][0]\n",
    "    \n",
    "#     dp = {}\n",
    "#     # k = i+J\n",
    "#     def dfs(i,j):\n",
    "#         if i==len(s1) and j==len(s2):\n",
    "#             return True\n",
    "#         if (i,j) in dp:\n",
    "#             return dp[(i,j)]\n",
    "#         if i<len(s1) and s1[i]==s3[i+j] and dfs(i+1,j):\n",
    "#             return True\n",
    "#         if j<len(s2) and s2[j]==s3[j+i] and dfs(i,j+1):\n",
    "#             return True\n",
    "#         dp[(i,j)] = False\n",
    "#         return False\n",
    "#     return dfs(0,0)\n",
    "\n",
    "s1 = \"aabcc\"\n",
    "s2 = \"dbbca\"\n",
    "s3 = \"aadbbcbcac\"\n",
    "print(interLeave(s1,s2,s3))"
   ]
  },
  {
   "cell_type": "markdown",
   "id": "964ddef6",
   "metadata": {},
   "source": [
    "# 213 House Robber II\n",
    "\n",
    "You are a professional robber planning to rob houses along a street. Each house has a certain amount of money stashed. All houses at this place are arranged in a circle. That means the first house is the neighbor of the last one. Meanwhile, adjacent houses have a security system connected, and it will automatically contact the police if two adjacent houses were broken into on the same night.\n",
    "\n",
    "Given an integer array nums representing the amount of money of each house, return the maximum amount of money you can rob tonight without alerting the police.\n",
    "\n",
    " \n",
    "\n",
    "Example 1:\n",
    "\n",
    "Input: nums = [2,3,2]\n",
    "Output: 3\n",
    "Explanation: You cannot rob house 1 (money = 2) and then rob house 3 (money = 2), because they are adjacent houses.\n",
    "Example 2:\n",
    "\n",
    "Input: nums = [1,2,3,1]\n",
    "Output: 4\n",
    "Explanation: Rob house 1 (money = 1) and then rob house 3 (money = 3).\n",
    "Total amount you can rob = 1 + 3 = 4.\n",
    "Example 3:\n",
    "\n",
    "Input: nums = [1,2,3]\n",
    "Output: 3\n"
   ]
  },
  {
   "cell_type": "markdown",
   "id": "a0fc5ff2",
   "metadata": {},
   "source": [
    "Solution\n",
    "\n",
    "It is similar to the House robber I (H1) where we can re use this code\n",
    "\n",
    "H1 = [2,3,2] for this H1 1 is 2+2 = 4 (max roberry)\n",
    "but in H2 the last and 1st elemensts are adjacent i.e., robbing 1st house did not allow to rob the last one\n",
    "\n",
    "so here the trick is \n",
    "i. find the max robbery except the last element\n",
    "ii. find the max roberry except fist element\n",
    "\n",
    "i.e., run the helper fiucntion twise and select max of it\n",
    "\n"
   ]
  },
  {
   "cell_type": "code",
   "execution_count": 78,
   "id": "ccf3b632",
   "metadata": {},
   "outputs": [
    {
     "name": "stdout",
     "output_type": "stream",
     "text": [
      "3\n"
     ]
    }
   ],
   "source": [
    "def rob(nums):\n",
    "    def rob_helper(nums):\n",
    "        rob1, rob2 = 0,0\n",
    "        for n in nums:\n",
    "            temp = max(n+rob1, rob2)\n",
    "            rob1 = rob2\n",
    "            rob2 = temp\n",
    "        return rob2\n",
    "    return max(nums[0],rob_helper(nums[1:]),rob_helper(nums[:-1]))\n",
    "nums = [2,3,2]\n",
    "# print(nums[:-1])\n",
    "# print(max(rob(nums[1:]),rob(nums[:-1])))\n",
    "print(rob(nums))"
   ]
  },
  {
   "cell_type": "markdown",
   "id": "5deb795e",
   "metadata": {},
   "source": [
    "# Paint House\n",
    "\n",
    "Description\n",
    "There are a row of n houses, each house can be painted with one of the three colors: red, blue or green. The cost of painting each house with a certain color is different. You have to paint all the houses such that no two adjacent houses have the same color, and you need to cost the least. Return the minimum cost.\n",
    "\n",
    "The cost of painting each house with a certain color is represented by a n x 3 cost matrix. For example, costs[0][0] is the cost of painting house 0 with color red; costs[1][2] is the cost of painting house 1 with color green, and so on... Find the minimum cost to paint all houses.\n",
    "\n",
    "Example\n",
    "Example 1:\n",
    "\n",
    "Input: [[14,2,11],[11,14,5],[14,3,10]]\n",
    "Output: 10\n",
    "Explanation: Paint house 0 into blue, paint house 1 into green, paint house 2 into blue. Minimum cost: 2 + 5 + 3 = 10.\n",
    "Example 2:\n",
    "\n",
    "Input: [[1,2,3],[1,4,6]]\n",
    "Output: 3"
   ]
  },
  {
   "cell_type": "markdown",
   "id": "ffeaa11b",
   "metadata": {},
   "source": [
    "Solution\n",
    "\n",
    "with brute force we get O(2^n) as for very decsion we have to take either of other two colors rather than the previos one\n",
    "\n",
    "Decesion Tree:\n",
    "Below are like sub problems: pass two parameters, H for house number index and color\n",
    "Housees with index are\n",
    "0\n",
    "1\n",
    "2\n",
    "\n",
    "we get O(n*3) with DP\n",
    "if the sub problems are cahced i.e., h1 = color0 \n",
    "\n",
    "Start with Top Down approach\n",
    "\n",
    "h0 = 14, 2, 11\n",
    "now h1 = 11+min(h0[1],h0[2]), 14+min(h0[0],h0[2]), 5+min(h0[0],h0[1]) = 13, 25, 7\n",
    "now h2 = 14+min(h1[1],h1[2]), 3+min(h1[0],h1[2]), 10+min(h1[0],h1[1]) = 21 (14+7), 10 (3+7), 23 (10+13) \n",
    "\n",
    "minimun of h2 is 10 so answer is 10\n"
   ]
  },
  {
   "cell_type": "code",
   "execution_count": 85,
   "id": "0129fa3b",
   "metadata": {},
   "outputs": [
    {
     "name": "stdout",
     "output_type": "stream",
     "text": [
      "3\n"
     ]
    }
   ],
   "source": [
    "def min_cost(costs):\n",
    "    dp = [0,0,0]\n",
    "    for i in range(len(costs)):\n",
    "        dp0 = costs[i][0] + min(dp[1],dp[2])\n",
    "        dp1 = costs[i][1] + min(dp[0],dp[2])\n",
    "        dp2 = costs[i][2] + min(dp[0],dp[1])\n",
    "        dp = [dp0,dp1,dp2]\n",
    "    return min(dp)\n",
    "\n",
    "costs = [[1,2,3],[1,4,6]] #[[14,2,11],[11,14,5],[14,3,10]]\n",
    "print(min_cost(costs))"
   ]
  },
  {
   "cell_type": "markdown",
   "id": "db996056",
   "metadata": {},
   "source": [
    "# 300 Longest Increading Sub sequence\n",
    "Given an integer array nums, return the length of the longest strictly increasing \n",
    "subsequence\n",
    ".\n",
    "\n",
    " \n",
    "\n",
    "Example 1:\n",
    "\n",
    "Input: nums = [10,9,2,5,3,7,101,18]\n",
    "Output: 4\n",
    "Explanation: The longest increasing subsequence is [2,3,7,101], therefore the length is 4.\n",
    "Example 2:\n",
    "\n",
    "Input: nums = [0,1,0,3,2,3]\n",
    "Output: 4\n",
    "Example 3:\n",
    "\n",
    "Input: nums = [7,7,7,7,7,7,7]\n",
    "Output: 1\n"
   ]
  },
  {
   "cell_type": "markdown",
   "id": "5c282f49",
   "metadata": {},
   "source": [
    "Solution\n",
    "\n",
    "[1,2,4,3]\n",
    "starrt from last and move back wards\n",
    "LIS[3] = 1\n",
    "LIS[2] = max(1,1+LIS[3]) = 1 # the later conditon(1+LIS[3]) is not possible beacuse 4>3 it is considered when LIS[2] has less value than LIS[3]\n",
    "LIS[1] = max(1,1+LIS[2], 1+LIS[3]) = 2\n",
    "LIS[0] = max(1,1+1,1+1,1+2) = 3\n",
    "\n",
    "Time Complexit O(n^2) it is working backwards\n"
   ]
  },
  {
   "cell_type": "code",
   "execution_count": 151,
   "id": "a061124f",
   "metadata": {},
   "outputs": [
    {
     "name": "stdout",
     "output_type": "stream",
     "text": [
      "[1, 1, 1, 1, 1, 1, 1, 1]\n",
      "[1, 1, 1, 1, 1, 1, 1, 1]\n",
      "[1, 1, 1, 1, 1, 2, 1, 1]\n",
      "[1, 1, 1, 1, 3, 2, 1, 1]\n",
      "[1, 1, 1, 3, 3, 2, 1, 1]\n",
      "[1, 1, 4, 3, 3, 2, 1, 1]\n",
      "[1, 2, 4, 3, 3, 2, 1, 1]\n",
      "[2, 2, 4, 3, 3, 2, 1, 1]\n",
      "4\n"
     ]
    }
   ],
   "source": [
    "def lengthOfList(nums):\n",
    "    LIS = [1]*len(nums)\n",
    "    for i in range(len(nums)-1,-1,-1):\n",
    "        for j in range(i+1,len(nums)):\n",
    "            if nums[i]<nums[j]: # make sure it is increasing order\n",
    "                LIS[i] = max(LIS[i],1+LIS[j]) # update the LIS\n",
    "        print(LIS)\n",
    "    return max(LIS)\n",
    "print(lengthOfList([10, 9, 2, 5, 3, 7, 101, 18]))"
   ]
  },
  {
   "cell_type": "code",
   "execution_count": 146,
   "id": "e203e333",
   "metadata": {},
   "outputs": [
    {
     "name": "stdout",
     "output_type": "stream",
     "text": [
      "4\n"
     ]
    }
   ],
   "source": [
    "# Brute Force\n",
    "def is_increasing(subseq):\n",
    "    # Helper function to check if a given subsequence is strictly increasing\n",
    "    for i in range(1, len(subseq)):\n",
    "        if subseq[i] <= subseq[i - 1]:\n",
    "            return False\n",
    "    return True\n",
    "\n",
    "def generate_subsequences(nums):\n",
    "    # Helper function to generate all possible subsequences of the given array\n",
    "    subsequences = [[]]\n",
    "    for num in nums:\n",
    "        subsequences += [curr + [num] for curr in subsequences]\n",
    "    return subsequences\n",
    "\n",
    "def lengthOfLIS(nums):\n",
    "    # Generate all possible subsequences\n",
    "    subsequences = generate_subsequences(nums)\n",
    "#     print(subsequences)\n",
    "    \n",
    "    \n",
    "    # Find the longest strictly increasing subsequence\n",
    "    longest = 0\n",
    "    for subseq in subsequences:\n",
    "        if is_increasing(subseq):\n",
    "            longest = max(longest, len(subseq))\n",
    "    \n",
    "    return longest\n",
    "\n",
    "# Test cases\n",
    "print(lengthOfLIS([10, 9, 2, 5, 3, 7, 101, 18]))  # Output: 4\n",
    "# print(lengthOfLIS([0, 1, 0, 3, 2, 3]))            # Output: 4\n",
    "# print(lengthOfLIS([7, 7, 7, 7, 7, 7, 7]))         # Output: 1\n"
   ]
  },
  {
   "cell_type": "markdown",
   "id": "25c2c1bf",
   "metadata": {},
   "source": [
    "# SLIDING WINDOW"
   ]
  },
  {
   "cell_type": "markdown",
   "id": "cff09ea9",
   "metadata": {},
   "source": [
    "# 121 Best time to sell and buy the stock\n",
    "\n",
    "You are given an array prices where prices[i] is the price of a given stock on the ith day.\n",
    "\n",
    "You want to maximize your profit by choosing a single day to buy one stock and choosing a different day in the future to sell that stock.\n",
    "\n",
    "Return the maximum profit you can achieve from this transaction. If you cannot achieve any profit, return 0.\n",
    "\n",
    " \n",
    "\n",
    "Example 1:\n",
    "\n",
    "Input: prices = [7,1,5,3,6,4]\n",
    "Output: 5\n",
    "Explanation: Buy on day 2 (price = 1) and sell on day 5 (price = 6), profit = 6-1 = 5.\n",
    "Note that buying on day 2 and selling on day 1 is not allowed because you must buy before you sell.\n",
    "Example 2:\n",
    "\n",
    "Input: prices = [7,6,4,3,1]\n",
    "Output: 0\n",
    "Explanation: In this case, no transactions are done and the max profit = 0.\n"
   ]
  },
  {
   "cell_type": "code",
   "execution_count": 204,
   "id": "037ea056",
   "metadata": {},
   "outputs": [
    {
     "name": "stdout",
     "output_type": "stream",
     "text": [
      "----------\n",
      "profit is 4\n",
      "max profit is 4\n",
      "----------\n",
      "profit is 2\n",
      "max profit is 4\n",
      "----------\n",
      "profit is 5\n",
      "max profit is 5\n",
      "----------\n",
      "profit is 3\n",
      "max profit is 5\n",
      "5\n"
     ]
    }
   ],
   "source": [
    "def maxProfit(prices):\n",
    "    l,r = 0,1\n",
    "    maxP = 0\n",
    "    while r<len(prices):\n",
    "        if prices[l]<prices[r]:\n",
    "            print(\"----------\")\n",
    "            profit = prices[r]-prices[l]\n",
    "            print(f'profit is {profit}')\n",
    "            maxP = max(maxP,profit)\n",
    "            print(f'max profit is {maxP}')\n",
    "        else:\n",
    "            l=r\n",
    "        r+=1\n",
    "    return maxP\n",
    "prices = [7,1,5,3,6,4] \n",
    "print(maxProfit(prices))"
   ]
  },
  {
   "cell_type": "markdown",
   "id": "c7aa1910",
   "metadata": {},
   "source": [
    "# 3 Longest Substring without repeteating character\n",
    "\n",
    "Given a string s, find the length of the longest \n",
    "substring\n",
    " without repeating characters.\n",
    "\n",
    " \n",
    "\n",
    "Example 1:\n",
    "\n",
    "Input: s = \"abcabcbb\"\n",
    "Output: 3\n",
    "Explanation: The answer is \"abc\", with the length of 3.\n",
    "Example 2:\n",
    "\n",
    "Input: s = \"bbbbb\"\n",
    "Output: 1\n",
    "Explanation: The answer is \"b\", with the length of 1.\n",
    "Example 3:\n",
    "\n",
    "Input: s = \"pwwkew\"\n",
    "Output: 3\n",
    "Explanation: The answer is \"wke\", with the length of 3.\n",
    "Notice that the answer must be a substring, \"pwke\" is a subsequence and not a substring.\n"
   ]
  },
  {
   "cell_type": "code",
   "execution_count": 164,
   "id": "ce79b4e0",
   "metadata": {},
   "outputs": [
    {
     "name": "stdout",
     "output_type": "stream",
     "text": [
      "for a char set: ['a']\n",
      "for b char set: ['a', 'b']\n",
      "for c char set: ['a', 'b', 'c']\n",
      "for a char set: ['b', 'c', 'a']\n",
      "for b char set: ['c', 'a', 'b']\n",
      "for c char set: ['a', 'b', 'c']\n",
      "for b char set: ['c', 'b']\n",
      "for b char set: ['b']\n",
      "3\n"
     ]
    }
   ],
   "source": [
    "# remove the duplicates form teh cahrset if you found\n",
    "def lengthOfLongestSubString(s):\n",
    "    charSet = []\n",
    "    l = 0\n",
    "    res = 0\n",
    "    for r in range(len(s)):\n",
    "        \n",
    "        while s[r] in charSet:\n",
    "            charSet.remove(s[l])\n",
    "            l+=1\n",
    "        charSet.append(s[r])\n",
    "        print(f'for {s[r]} char set: {charSet}')\n",
    "        res = max(res,r-l+1)\n",
    "    return res\n",
    "s = \"abcabcbb\"\n",
    "print(lengthOfLongestSubString(s))"
   ]
  },
  {
   "cell_type": "code",
   "execution_count": 157,
   "id": "cf9cbcf8",
   "metadata": {},
   "outputs": [
    {
     "name": "stdout",
     "output_type": "stream",
     "text": [
      "{'a': 0}\n",
      "{'a': 0, 'b': 1}\n",
      "{'a': 0, 'b': 1, 'c': 2}\n",
      "{'a': 3, 'b': 1, 'c': 2}\n",
      "{'a': 3, 'b': 4, 'c': 2}\n",
      "{'a': 3, 'b': 4, 'c': 5}\n",
      "{'a': 3, 'b': 6, 'c': 5}\n",
      "{'a': 3, 'b': 7, 'c': 5}\n",
      "3\n"
     ]
    }
   ],
   "source": [
    "def lengthOfLongestSubString(s):\n",
    "    char_index = {}  # Dictionary to store the index of each character in the current window\n",
    "    start = 0  # Start of the current window\n",
    "    max_length = 0  # Maximum length of a substring without repeating characters\n",
    "\n",
    "    for end, char in enumerate(s):\n",
    "        # If the character is already in the current window, update the start index\n",
    "        if char in char_index and char_index[char] >= start:\n",
    "            start = char_index[char] + 1\n",
    "\n",
    "        # Update the index of the current character\n",
    "        char_index[char] = end\n",
    "\n",
    "        # Update the maximum length\n",
    "        max_length = max(max_length, end - start + 1)\n",
    "        print(char_index)\n",
    "    return max_length\n",
    "\n",
    "s = \"abcabcbb\"\n",
    "print(lengthOfLongestSubString(s))"
   ]
  },
  {
   "cell_type": "markdown",
   "id": "3bd2deb5",
   "metadata": {},
   "source": [
    "# 76 Minmum Window Substring\n",
    "Given two strings s and t of lengths m and n respectively, return the minimum window \n",
    "substring\n",
    " of s such that every character in t (including duplicates) is included in the window. If there is no such substring, return the empty string \"\".\n",
    "\n",
    "The testcases will be generated such that the answer is unique.\n",
    "\n",
    " \n",
    "\n",
    "Example 1:\n",
    "\n",
    "Input: s = \"ADOBECODEBANC\", t = \"ABC\"\n",
    "Output: \"BANC\"\n",
    "Explanation: The minimum window substring \"BANC\" includes 'A', 'B', and 'C' from string t.\n",
    "Example 2:\n",
    "\n",
    "Input: s = \"a\", t = \"a\"\n",
    "Output: \"a\"\n",
    "Explanation: The entire string s is the minimum window.\n",
    "Example 3:\n",
    "\n",
    "Input: s = \"a\", t = \"aa\""
   ]
  },
  {
   "cell_type": "code",
   "execution_count": null,
   "id": "068f6d15",
   "metadata": {},
   "outputs": [],
   "source": [
    "Solution\n",
    "\n"
   ]
  },
  {
   "cell_type": "code",
   "execution_count": 191,
   "id": "de3f8e31",
   "metadata": {},
   "outputs": [
    {
     "name": "stdout",
     "output_type": "stream",
     "text": [
      "aa\n"
     ]
    }
   ],
   "source": [
    "def is_present(t, sub):\n",
    "    count = 0\n",
    "    for i in t:\n",
    "        if i in sub:\n",
    "            count+=1\n",
    "    return count==len(t) \n",
    "\n",
    "def minWindow(s,t):\n",
    "    l = len(t)\n",
    "    if len(s)==1 and len(t)==1 and t in s:\n",
    "        return s\n",
    "    if len(t)>len(s):\n",
    "        return ''\n",
    "    if len(s)==len(t):\n",
    "        return s if is_present(t,s) else ''\n",
    "    while l!=len(s):\n",
    "        for i in range(0,len(s),l):\n",
    "#             print(i)\n",
    "            sub_l = s[i:i+l]\n",
    "            print(sub_l)\n",
    "            present = is_present(t,sub_l)\n",
    "            if present:\n",
    "                return sub_l\n",
    "            l+=1\n",
    "        return ''\n",
    "    return ''\n",
    "    \n",
    "\n",
    "# s = \"ADOBECODEBANC\"\n",
    "# t = \"ABC\"   \n",
    "s = \"aa\"\n",
    "t = \"aa\"\n",
    "print(minWindow(s,t))\n",
    "        \n",
    "            "
   ]
  },
  {
   "cell_type": "markdown",
   "id": "5b2de673",
   "metadata": {},
   "source": [
    "# Minimum Size Sub array\n",
    "\n",
    "Given an array of positive integers nums and a positive integer target, return the minimal length of a \n",
    "subarray\n",
    " whose sum is greater than or equal to target. If there is no such subarray, return 0 instead.\n",
    "\n",
    " \n",
    "\n",
    "Example 1:\n",
    "\n",
    "Input: target = 7, nums = [2,3,1,2,4,3]\n",
    "Output: 2\n",
    "Explanation: The subarray [4,3] has the minimal length under the problem constraint.\n",
    "Example 2:\n",
    "\n",
    "Input: target = 4, nums = [1,4,4]\n",
    "Output: 1\n",
    "Example 3:\n",
    "\n",
    "Input: target = 11, nums = [1,1,1,1,1,1,1,1]\n",
    "Output: 0"
   ]
  },
  {
   "cell_type": "markdown",
   "id": "be6838ff",
   "metadata": {},
   "source": [
    "solution\n",
    "\n",
    "Make this under a sliding Window\n",
    "\n",
    "Keep on adding values till the target is reached or total is > target then if so\n",
    "\n",
    "remove the elements from begininig ferom total i.e, move left pointer forward (l+1) and \n",
    "\n",
    "take result as mininmum from previous result and current res(r-l+1)\n",
    "\n",
    "return res if result is not inifnity\n"
   ]
  },
  {
   "cell_type": "code",
   "execution_count": null,
   "id": "3169a784",
   "metadata": {},
   "outputs": [],
   "source": [
    "def minSubArrayLen(nums,target):\n",
    "    l,total = 0,0\n",
    "    res = float('inf')\n",
    "    for r in range(len(nums)):\n",
    "        total+=nums[r]\n",
    "        while total>=target:\n",
    "            res = min(res,r-l+1)\n",
    "            total-=nums[l]\n",
    "            l+=1\n",
    "            \n",
    "    \n",
    "    return 0 if res==float('inf') else 0\n",
    "        \n",
    "            \n",
    "        \n",
    "            "
   ]
  },
  {
   "cell_type": "markdown",
   "id": "cb7f73b3",
   "metadata": {},
   "source": [
    "# 1838 Frequency of the most Frequent Element\n",
    "The frequency of an element is the number of times it occurs in an array.\n",
    "\n",
    "You are given an integer array nums and an integer k. In one operation, you can choose an index of nums and increment the element at that index by 1.\n",
    "\n",
    "Return the maximum possible frequency of an element after performing at most k operations.\n",
    "\n",
    " \n",
    "\n",
    "Example 1:\n",
    "\n",
    "Input: nums = [1,2,4], k = 5\n",
    "Output: 3\n",
    "Explanation: Increment the first element three times and the second element two times to make nums = [4,4,4].\n",
    "4 has a frequency of 3.\n",
    "Example 2:\n",
    "\n",
    "Input: nums = [1,4,8,13], k = 5\n",
    "Output: 2\n",
    "Explanation: There are multiple optimal solutions:\n",
    "- Increment the first element three times to make nums = [4,4,8,13]. 4 has a frequency of 2.\n",
    "- Increment the second element four times to make nums = [1,8,8,13]. 8 has a frequency of 2."
   ]
  },
  {
   "cell_type": "code",
   "execution_count": null,
   "id": "bb95271e",
   "metadata": {},
   "outputs": [],
   "source": [
    "Solution\n",
    "\n",
    "Sort + Sliding Window\n",
    "\n",
    "because of sorting we can incremetning the lower elemetns to make the elements same\n"
   ]
  },
  {
   "cell_type": "code",
   "execution_count": 215,
   "id": "5943fa31",
   "metadata": {},
   "outputs": [
    {
     "name": "stdout",
     "output_type": "stream",
     "text": [
      "r is 0\n",
      "l is 0\n",
      "total is 3\n",
      "nums[r] is 3\n",
      "---------\n",
      "r is 1\n",
      "l is 0\n",
      "total is 9\n",
      "nums[r] is 6\n",
      "---------\n",
      "***Entered inner while\n",
      "l is 1\n",
      "total is 6\n",
      "***\n",
      "r is 2\n",
      "l is 1\n",
      "total is 15\n",
      "nums[r] is 9\n",
      "---------\n",
      "***Entered inner while\n",
      "l is 2\n",
      "total is 9\n",
      "***\n",
      "1\n"
     ]
    }
   ],
   "source": [
    "def maxFrequency(nums,target):\n",
    "    nums.sort()\n",
    "    l,r = 0,0\n",
    "    res,total = 0,0\n",
    "    while r<len(nums):\n",
    "        total+=nums[r]\n",
    "        print(f'r is {r}\\nl is {l}\\ntotal is {total}\\nnums[r] is {nums[r]}\\n---------')\n",
    "        while nums[r] * (r-l+1) > total + k:\n",
    "            total-=nums[l]\n",
    "            l+=1\n",
    "            print(f'***Entered inner while\\nl is {l}\\ntotal is {total}\\n***')\n",
    "        res = max(res,r-l+1)\n",
    "        r+=1\n",
    "    return res\n",
    "\n",
    "nums = [3,9,6]#[1,4,8,13]\n",
    "k = 2\n",
    "print(maxFrequency(nums,k))\n",
    "        "
   ]
  },
  {
   "cell_type": "code",
   "execution_count": null,
   "id": "d4ff0f23",
   "metadata": {},
   "outputs": [],
   "source": []
  },
  {
   "cell_type": "markdown",
   "id": "18f367f8",
   "metadata": {},
   "source": [
    "# BACKTRACK"
   ]
  },
  {
   "cell_type": "markdown",
   "id": "2719eb7b",
   "metadata": {},
   "source": [
    "# 78 Subsets\n",
    "Given an integer array nums of unique elements, return all possible \n",
    "subsets\n",
    " (the power set).\n",
    "\n",
    "The solution set must not contain duplicate subsets. Return the solution in any order.\n",
    "\n",
    " \n",
    "\n",
    "Example 1:\n",
    "\n",
    "Input: nums = [1,2,3]\n",
    "Output: [[],[1],[2],[1,2],[3],[1,3],[2,3],[1,2,3]]\n",
    "Example 2:\n",
    "\n",
    "Input: nums = [0]\n",
    "Output: [[],[0]]"
   ]
  },
  {
   "cell_type": "markdown",
   "id": "8e0c021f",
   "metadata": {},
   "source": [
    "Solution\n",
    "\n",
    "this gives in O(2^n) becasue the subsets generation itself is 2^n \n",
    "\n",
    "we have two decsion every time add the next element and not add the element\n",
    "eg:\n",
    "[1,2,3]\n",
    "start: 1: add(2) and not add ([])\n",
    "[]: add(2) and not add([])\n",
    "[1,2]-> add(3) and not add([])\n",
    "so on\n",
    "\n",
    "Apply Backtrack with DFS for more efficient way"
   ]
  },
  {
   "cell_type": "code",
   "execution_count": 202,
   "id": "8df97d18",
   "metadata": {},
   "outputs": [
    {
     "name": "stdout",
     "output_type": "stream",
     "text": [
      "[[1, 2, 3], [1, 2], [1, 3], [1], [2, 3], [2], [3], []]\n"
     ]
    }
   ],
   "source": [
    "def subsets(nums):\n",
    "    res = []\n",
    "    sub_sets = []\n",
    "    def dfs(i):\n",
    "        if i>=len(nums):\n",
    "            res.append(sub_sets.copy())\n",
    "            return \n",
    "        # decsion to include nums[i]\n",
    "        sub_sets.append(nums[i])\n",
    "        dfs(i+1)\n",
    "        \n",
    "        #decsion to not include []\n",
    "        sub_sets.pop()\n",
    "        dfs(i+1)\n",
    "    dfs(0)\n",
    "    return res\n",
    "nums = [1,2,3]\n",
    "print(subsets(nums))"
   ]
  },
  {
   "cell_type": "markdown",
   "id": "f311206a",
   "metadata": {},
   "source": [
    "# 17 Letter Combination of Phone Number\n",
    "\n",
    "Given a string containing digits from 2-9 inclusive, return all possible letter combinations that the number could represent. Return the answer in any order.\n",
    "\n",
    "A mapping of digits to letters (just like on the telephone buttons) is given below. Note that 1 does not map to any letters.\n",
    "\n",
    "Example 1:\n",
    "\n",
    "Input: digits = \"23\"\n",
    "Output: [\"ad\",\"ae\",\"af\",\"bd\",\"be\",\"bf\",\"cd\",\"ce\",\"cf\"]\n",
    "Example 2:\n",
    "\n",
    "Input: digits = \"\"\n",
    "Output: []\n",
    "Example 3:\n",
    "\n",
    "Input: digits = \"2\"\n",
    "Output: [\"a\",\"b\",\"c\"]\n",
    "\n"
   ]
  },
  {
   "cell_type": "code",
   "execution_count": 73,
   "id": "7f6ab3f3",
   "metadata": {},
   "outputs": [
    {
     "name": "stdout",
     "output_type": "stream",
     "text": [
      "for num a sol is ['a']\n",
      "for num d sol is ['a', 'd']\n",
      "-----------------> After Backtrack Call\n",
      "popped is:  d\n",
      "for num e sol is ['a', 'e']\n",
      "-----------------> After Backtrack Call\n",
      "popped is:  e\n",
      "for num f sol is ['a', 'f']\n",
      "-----------------> After Backtrack Call\n",
      "popped is:  f\n",
      "-----------------> After Backtrack Call\n",
      "popped is:  a\n",
      "for num b sol is ['b']\n",
      "for num d sol is ['b', 'd']\n",
      "-----------------> After Backtrack Call\n",
      "popped is:  d\n",
      "for num e sol is ['b', 'e']\n",
      "-----------------> After Backtrack Call\n",
      "popped is:  e\n",
      "for num f sol is ['b', 'f']\n",
      "-----------------> After Backtrack Call\n",
      "popped is:  f\n",
      "-----------------> After Backtrack Call\n",
      "popped is:  b\n",
      "for num c sol is ['c']\n",
      "for num d sol is ['c', 'd']\n",
      "-----------------> After Backtrack Call\n",
      "popped is:  d\n",
      "for num e sol is ['c', 'e']\n",
      "-----------------> After Backtrack Call\n",
      "popped is:  e\n",
      "for num f sol is ['c', 'f']\n",
      "-----------------> After Backtrack Call\n",
      "popped is:  f\n",
      "-----------------> After Backtrack Call\n",
      "popped is:  c\n",
      "['ad', 'ae', 'af', 'bd', 'be', 'bf', 'cd', 'ce', 'cf']\n"
     ]
    }
   ],
   "source": [
    "def letterCombinations(digits):\n",
    "    if digits==\"\":\n",
    "        return []\n",
    "    res,sol = [],[]\n",
    "    n = len(digits)\n",
    "\n",
    "    dig_seq = {'2':'abc','3':'def','4':'ghi','5':'jkl',\n",
    "                '6':'mno','7':'pqrs','8':'tuv','9':'wxyz'}\n",
    "    # use back Tracking\n",
    "\n",
    "    def backtrack(i=0):\n",
    "        if len(sol)==n:\n",
    "            res.append(''.join(sol[:]))\n",
    "            return\n",
    "        for num in dig_seq[digits[i]]:\n",
    "            sol.append(num)\n",
    "            print(f'for num {num} sol is {sol}')\n",
    "            backtrack(i+1)\n",
    "            print('-----------------> After Backtrack Call')\n",
    "            print(\"popped is: \",sol.pop())\n",
    "    backtrack(0)\n",
    "    return res\n",
    "digits = '23'\n",
    "print(letterCombinations(digits))\n"
   ]
  },
  {
   "cell_type": "markdown",
   "id": "15fef2fe",
   "metadata": {},
   "source": [
    "# 79 Word Search\n",
    "\n",
    "Given an m x n grid of characters board and a string word, return true if word exists in the grid.\n",
    "\n",
    "The word can be constructed from letters of sequentially adjacent cells, where adjacent cells are horizontally or vertically neighboring. \n",
    "\n",
    "The same letter cell may not be used more than once.\n",
    "\n",
    "Input: board = [[\"A\",\"B\",\"C\",\"E\"],[\"S\",\"F\",\"C\",\"S\"],[\"A\",\"D\",\"E\",\"E\"]], word = \"ABCCED\"\n",
    "Output: true\n",
    "    \n",
    "Input: board = [[\"A\",\"B\",\"C\",\"E\"],[\"S\",\"F\",\"C\",\"S\"],[\"A\",\"D\",\"E\",\"E\"]], word = \"SEE\"\n",
    "Output: true"
   ]
  },
  {
   "cell_type": "markdown",
   "id": "de9992c3",
   "metadata": {},
   "source": [
    "Solution:\n",
    "\n",
    "    Use DFS\n",
    "    \n",
    "    check the cell already visited or not\n",
    "    \n",
    "    add the cell into set\n",
    "    \n",
    "    go through neighbour cells\n",
    "    \n",
    "    remove the cell from set\n",
    "    \n",
    "    iterate through every cell to find the staring point of the word and from then call the \n",
    "    \n",
    "    DFS function\n",
    "    \n",
    "    return True if DFS is True else False\n",
    "\n",
    "Time Complexity = O(rows * cols * (dfs(len(word)))) => dfs are called 4 times so 4^len(word)\n",
    "\n",
    "                =  O(rows * cols * 4^(n)) where n = len(word)\n",
    "    \n",
    "    "
   ]
  },
  {
   "cell_type": "code",
   "execution_count": 106,
   "id": "0fc94780",
   "metadata": {},
   "outputs": [
    {
     "name": "stdout",
     "output_type": "stream",
     "text": [
      "res is True, path is {(0, 1), (1, 2), (0, 0), (0, 2), (2, 2)}\n",
      "res is True, path is {(0, 1), (1, 2), (0, 0), (0, 2)}\n",
      "res is True, path is {(0, 1), (0, 0), (0, 2)}\n",
      "res is True, path is {(0, 1), (0, 0)}\n",
      "res is True, path is {(0, 0)}\n",
      "res is True, path is set()\n",
      "True\n"
     ]
    }
   ],
   "source": [
    "def exist(board, word):\n",
    "    rows = len(board)\n",
    "    cols = len(board[0])\n",
    "    path = set()\n",
    "    def dfs(r,c,w):\n",
    "        if w == len(word):\n",
    "            return True\n",
    "#         print(r,c)\n",
    "        if (r<0 or c<0 or r>=rows or c>=cols or word[w]!=board[r][c] or (r,c) in path):\n",
    "            return Falses\n",
    "        path.add((r,c))\n",
    "        res = (dfs(r+1,c,w+1) or\n",
    "               dfs(r-1,c,w+1) or\n",
    "               dfs(r,c+1,w+1) or\n",
    "               dfs(r,c-1,w+1))\n",
    "        path.remove((r,c))\n",
    "        print(f'res is {res}, path is {path}')\n",
    "        return res\n",
    "    \n",
    "    for r in range(rows):\n",
    "        for c in range(cols):\n",
    "            if dfs(r,c,0): return True\n",
    "    return False\n",
    "board = [[\"A\",\"B\",\"C\",\"E\"],[\"S\",\"F\",\"C\",\"S\"],[\"A\",\"D\",\"E\",\"E\"]]\n",
    "word = \"ABCCED\"\n",
    "print(exist(board, word))"
   ]
  },
  {
   "cell_type": "markdown",
   "id": "1205a575",
   "metadata": {},
   "source": [
    "# 46 Permutations\n",
    "\n",
    "Given an array nums of distinct integers, return all the possible permutations. You can return the answer in any order.\n",
    "\n",
    " \n",
    "\n",
    "Example 1:\n",
    "\n",
    "Input: nums = [1,2,3]\n",
    "Output: [[1,2,3],[1,3,2],[2,1,3],[2,3,1],[3,1,2],[3,2,1]]\n",
    "Example 2:\n",
    "\n",
    "Input: nums = [0,1]\n",
    "Output: [[0,1],[1,0]]\n",
    "Example 3:\n",
    "\n",
    "Input: nums = [1]\n",
    "Output: [[1]]"
   ]
  },
  {
   "cell_type": "markdown",
   "id": "83c0fb39",
   "metadata": {},
   "source": [
    "Solution\n",
    "\n",
    "- for every step we remove the previous number (say 1st number or 0th index number) as ther eare no repetetions.\n",
    "- find the permutation of next numbers\n",
    "- make the permutations full by adding that removed number\n",
    "- append the removed number to the actual nums\n"
   ]
  },
  {
   "cell_type": "code",
   "execution_count": 117,
   "id": "ba5aa33e",
   "metadata": {},
   "outputs": [
    {
     "name": "stdout",
     "output_type": "stream",
     "text": [
      "now in\n",
      "for n 2, nums are [3, 2] perms are [[3, 2]], res is [[3, 2]]\n",
      "now in\n",
      "for n 3, nums are [2, 3] perms are [[2, 3]], res is [[3, 2], [2, 3]]\n",
      "now in\n",
      "now in\n",
      "for n 1, nums are [2, 3, 1] perms are [[3, 2, 1], [2, 3, 1]], res is [[3, 2, 1], [2, 3, 1]]\n",
      "now in\n",
      "for n 3, nums are [1, 3] perms are [[1, 3]], res is [[1, 3]]\n",
      "now in\n",
      "for n 1, nums are [3, 1] perms are [[3, 1]], res is [[1, 3], [3, 1]]\n",
      "now in\n",
      "now in\n",
      "for n 2, nums are [3, 1, 2] perms are [[1, 3, 2], [3, 1, 2]], res is [[3, 2, 1], [2, 3, 1], [1, 3, 2], [3, 1, 2]]\n",
      "now in\n",
      "for n 1, nums are [2, 1] perms are [[2, 1]], res is [[2, 1]]\n",
      "now in\n",
      "for n 2, nums are [1, 2] perms are [[1, 2]], res is [[2, 1], [1, 2]]\n",
      "now in\n",
      "now in\n",
      "for n 3, nums are [1, 2, 3] perms are [[2, 1, 3], [1, 2, 3]], res is [[3, 2, 1], [2, 3, 1], [1, 3, 2], [3, 1, 2], [2, 1, 3], [1, 2, 3]]\n",
      "[[3, 2, 1], [2, 3, 1], [1, 3, 2], [3, 1, 2], [2, 1, 3], [1, 2, 3]]\n"
     ]
    }
   ],
   "source": [
    "def permute(nums):\n",
    "    if len(nums)==1:\n",
    "        return [nums.copy()]\n",
    "    res = []\n",
    "    # iterate through every number of nums\n",
    "    for i in range(len(nums)):\n",
    "        # pop the 1st number\n",
    "        n = nums.pop(0)\n",
    "        # fins the permutation of the next numbers\n",
    "        perms = permute(nums)\n",
    "#         print(f'for n {n} perms are {perms}')\n",
    "        # add the actual number to these permutaitons and add to final result\n",
    "        for p in perms:\n",
    "            print(\"now in\")\n",
    "            p.append(n)\n",
    "        \n",
    "        res.extend(perms)\n",
    "        nums.append(n)\n",
    "        print(f'for n {n}, nums are {nums} perms are {perms}, res is {res}')\n",
    "    return res\n",
    "nums = [1,2,3]\n",
    "print(permute(nums))"
   ]
  },
  {
   "cell_type": "markdown",
   "id": "bb33b0bf",
   "metadata": {},
   "source": [
    "# 47 Permutaion II (Might contains duplicates)\n",
    "\n",
    "Given a collection of numbers, nums, that might contain duplicates, return all possible unique permutations in any order.\n",
    "\n",
    "Example 1:\n",
    "\n",
    "Input: nums = [1,1,2]\n",
    "Output:\n",
    "[[1,1,2],\n",
    " [1,2,1],\n",
    " [2,1,1]]\n",
    "Example 2:\n",
    "\n",
    "Input: nums = [1,2,3]\n",
    "Output: [[1,2,3],[1,3,2],[2,1,3],[2,3,1],[3,1,2],[3,2,1]]"
   ]
  },
  {
   "cell_type": "code",
   "execution_count": 123,
   "id": "14486d91",
   "metadata": {},
   "outputs": [
    {
     "name": "stdout",
     "output_type": "stream",
     "text": [
      "{1: 2, 2: 1}\n",
      "for n 1 perm is [1]\n",
      "for n 1 perm is [1, 1]\n",
      "for n 2 perm is [1, 1, 2]\n",
      "got into res [[1, 1, 2]]\n",
      "for n 2 perm after pop is [1, 1]\n",
      "for n 1 perm after pop is [1]\n",
      "for n 2 perm is [1, 2]\n",
      "for n 1 perm is [1, 2, 1]\n",
      "got into res [[1, 1, 2], [1, 2, 1]]\n",
      "for n 1 perm after pop is [1, 2]\n",
      "for n 2 perm after pop is [1]\n",
      "for n 1 perm after pop is []\n",
      "for n 2 perm is [2]\n",
      "for n 1 perm is [2, 1]\n",
      "for n 1 perm is [2, 1, 1]\n",
      "got into res [[1, 1, 2], [1, 2, 1], [2, 1, 1]]\n",
      "for n 1 perm after pop is [2, 1]\n",
      "for n 1 perm after pop is [2]\n",
      "for n 2 perm after pop is []\n",
      "[[1, 1, 2], [1, 2, 1], [2, 1, 1]]\n"
     ]
    }
   ],
   "source": [
    "def permuteUnique(nums):\n",
    "    res = []\n",
    "    perm = []\n",
    "    count = {n:0 for n in nums}\n",
    "    for n in nums:\n",
    "        count[n]+=1\n",
    "    print(count)\n",
    "    def backtrack():\n",
    "        if len(perm)==len(nums):\n",
    "            res.append(perm.copy())\n",
    "            print(f'got into res {res}')\n",
    "            return\n",
    "        for n in count:\n",
    "            if count[n]>0:\n",
    "                perm.append(n)\n",
    "                print(f'for n {n} perm is {perm}')\n",
    "                count[n]-=1\n",
    "                backtrack()\n",
    "                count[n]+=1\n",
    "                perm.pop()\n",
    "                print(f'for n {n} perm after pop is {perm}')\n",
    "    backtrack()\n",
    "    return res\n",
    "nums = [1,1,2]\n",
    "print(permuteUnique(nums))"
   ]
  },
  {
   "cell_type": "code",
   "execution_count": 124,
   "id": "f5b1888e",
   "metadata": {},
   "outputs": [
    {
     "name": "stdout",
     "output_type": "stream",
     "text": [
      "[1, 1, 2]\n",
      "[1, 2, 1]\n",
      "[2, 1, 1]\n"
     ]
    }
   ],
   "source": [
    "def permute_unique(nums):\n",
    "    def backtrack(start):\n",
    "        if start == len(nums):\n",
    "            res.append(nums[:])\n",
    "            return\n",
    "        seen = set()\n",
    "        for i in range(start, len(nums)):\n",
    "            if nums[i] in seen:\n",
    "                continue\n",
    "            seen.add(nums[i])\n",
    "            nums[start], nums[i] = nums[i], nums[start]\n",
    "            backtrack(start + 1)\n",
    "            nums[start], nums[i] = nums[i], nums[start]\n",
    "\n",
    "    res = []\n",
    "    nums.sort()\n",
    "    backtrack(0)\n",
    "    return res\n",
    "\n",
    "# Example usage:\n",
    "nums = [1, 1, 2]\n",
    "permutations = permute_unique(nums)\n",
    "for p in permutations:\n",
    "    print(p)\n"
   ]
  },
  {
   "cell_type": "markdown",
   "id": "fc5272f0",
   "metadata": {},
   "source": [
    "# 131 Palindrome Partitioning\n",
    "\n",
    "Given a string s, partition s such that every \n",
    "substring\n",
    " of the partition is a \n",
    "palindrome\n",
    ". Return all possible palindrome partitioning of s.\n",
    "\n",
    " \n",
    "\n",
    "Example 1:\n",
    "\n",
    "Input: s = \"aab\"\n",
    "Output: [[\"a\",\"a\",\"b\"],[\"aa\",\"b\"]]\n",
    "Example 2:\n",
    "\n",
    "Input: s = \"a\"\n",
    "Output: [[\"a\"]]\n"
   ]
  },
  {
   "cell_type": "markdown",
   "id": "711b158f",
   "metadata": {},
   "source": [
    "Solution\n",
    "\n",
    "Find every possibility of s\n",
    "let s = aab\n",
    "s -> a, aa, aab\n",
    "\n",
    "a -> a(2nd a), ab\n",
    "\n",
    "aa -> b\n",
    "\n",
    "a(2nd a)->b\n",
    "\n",
    "now a->(2nd a)->b all are sub strings and individually they are palindroms\n",
    "\n",
    "aa->b this is also a substring and individually they are palindroms\n",
    "\n",
    "so res = [['a','a','b'], ['aa','b']]\n",
    "\n",
    "Time complexity : 2^n\n",
    "\n",
    "Note:\n",
    "\n",
    "If a substring is not palindrom do not move ahead\n",
    "\n",
    "eg: from above ab is not palindrom so do. not proceed further with ab"
   ]
  },
  {
   "cell_type": "code",
   "execution_count": 166,
   "id": "24ec51e2",
   "metadata": {},
   "outputs": [
    {
     "name": "stdout",
     "output_type": "stream",
     "text": [
      "0\n",
      "0 0\n",
      ">>>>>>>>>>>>>\n",
      "1\n",
      "1 1\n",
      ">>>>>>>>>>>>>\n",
      "2\n",
      "2 2\n",
      ">>>>>>>>>>>>>\n",
      "3\n",
      "--> calledNone\n",
      "<<<<<<<<<popping here b\n",
      "--> calledNone\n",
      "<<<<<<<<<popping here a\n",
      "1 2\n",
      "--> calledNone\n",
      "<<<<<<<<<popping here a\n",
      "0 1\n",
      ">>>>>>>>>>>>>\n",
      "2\n",
      "2 2\n",
      ">>>>>>>>>>>>>\n",
      "3\n",
      "--> calledNone\n",
      "<<<<<<<<<popping here b\n",
      "--> calledNone\n",
      "<<<<<<<<<popping here aa\n",
      "0 2\n",
      "[['a', 'a', 'b'], ['aa', 'b']]\n"
     ]
    }
   ],
   "source": [
    "def partition(s):\n",
    "    res = []\n",
    "    part = []\n",
    "    def backtrack(i):\n",
    "        print(i)\n",
    "        if i>=len(s):\n",
    "            res.append(part.copy())\n",
    "            return \n",
    "        for j in range(i,len(s)):\n",
    "            print(i,j)\n",
    "            if is_palindrom(s,i,j):\n",
    "                print(\">>>>>>>>>>>>>\")\n",
    "                part.append(s[i:j+1])\n",
    "                print(f'--> called{backtrack(j+1)}')\n",
    "#                 print(f'after every backtrack')\n",
    "                print(f'<<<<<<<<<popping here {part.pop()}')\n",
    "    backtrack(0)\n",
    "    return res\n",
    "\n",
    "def is_palindrom(s,l,r):\n",
    "#     print(s[l:r+1])\n",
    "    while l<r:\n",
    "        if s[l]!=s[r]:\n",
    "            return False\n",
    "        l+=1\n",
    "        r-=1\n",
    "    return True\n",
    "    \n",
    "s = 'aab'\n",
    "print(partition(s))"
   ]
  },
  {
   "cell_type": "markdown",
   "id": "cc91e087",
   "metadata": {},
   "source": [
    "# 1849 Split the String into Descending consecutive Values\n",
    "\n",
    "You are given a string s that consists of only digits.\n",
    "\n",
    "Check if we can split s into two or more non-empty substrings such that the numerical values of the substrings are in descending order and the difference between numerical values of every two adjacent substrings is equal to 1.\n",
    "\n",
    "For example, the string s = \"0090089\" can be split into [\"0090\", \"089\"] with numerical values [90,89]. The values are in descending order and adjacent values differ by 1, so this way is valid.\n",
    "Another example, the string s = \"001\" can be split into [\"0\", \"01\"], [\"00\", \"1\"], or [\"0\", \"0\", \"1\"]. However all the ways are invalid because they have numerical values [0,1], [0,1], and [0,0,1] respectively, all of which are not in descending order.\n",
    "Return true if it is possible to split s​​​​​​ as described above, or false otherwise.\n",
    "\n",
    "A substring is a contiguous sequence of characters in a string.\n",
    "\n",
    "Example 1:\n",
    "\n",
    "Input: s = \"1234\"\n",
    "Output: false\n",
    "Explanation: There is no valid way to split s.\n",
    "Example 2:\n",
    "\n",
    "Input: s = \"050043\"\n",
    "Output: true\n",
    "Explanation: s can be split into [\"05\", \"004\", \"3\"] with numerical values [5,4,3].\n"
   ]
  },
  {
   "cell_type": "markdown",
   "id": "35b5b0d6",
   "metadata": {},
   "source": [
    "Solution\n",
    "\n",
    "let s = '4321'\n",
    "\n",
    "the entire string could not be the first decision, \n",
    "\n",
    "we have to split the string into Atleast two values\n",
    "\n",
    "-> 4, 43, 432\n",
    "4-> 3, 32, 321\n",
    "\n",
    "here from the above line 4-3=1 that's true and rest are not \n",
    "\n",
    "the rest operaions did not meet the conditions\n",
    "\n",
    "the order we get are 4->3->2->1"
   ]
  },
  {
   "cell_type": "code",
   "execution_count": 185,
   "id": "2a87bd2e",
   "metadata": {},
   "outputs": [
    {
     "name": "stdout",
     "output_type": "stream",
     "text": [
      "0\n",
      "5\n",
      "3 4\n",
      "4 5\n",
      "True\n"
     ]
    }
   ],
   "source": [
    "# build the for loop first and then build the dfs functions\n",
    "def splitString(s):\n",
    "    def dfs(index,prev):\n",
    "        if index==len(s):\n",
    "            return True\n",
    "        # now iterate all therogh the string with this index (next elemets)\n",
    "        for j in range(index,len(s)):\n",
    "            curr_val = int(s[index:j+1])\n",
    "            # check the condition where difference is 1 along with the next elemets as it is continuous process\n",
    "            if curr_val+1==prev and dfs(j+1,curr_val):\n",
    "                print(curr_val,prev)\n",
    "                return True\n",
    "        return False\n",
    "    \n",
    "    # make the first decision this might ranges till last-1\n",
    "    for i in range(len(s)-1):\n",
    "        val = int(s[:i+1])\n",
    "        print(val)\n",
    "        # now send this value to dfs fucntion to validate\n",
    "        # in dfs along with 'val' send the index value of next elements of 'val' \n",
    "        if dfs(i+1,val):\n",
    "            return True\n",
    "    return False\n",
    "s = \"050043\"\n",
    "print(splitString(s))"
   ]
  },
  {
   "cell_type": "markdown",
   "id": "5045370d",
   "metadata": {},
   "source": [
    "# 39 Combination Sum\n",
    "\n",
    "Given an array of distinct integers candidates and a target integer target, return a list of all unique combinations of candidates where the chosen numbers sum to target. You may return the combinations in any order.\n",
    "\n",
    "The same number may be chosen from candidates an unlimited number of times. Two combinations are unique if the \n",
    "frequency\n",
    " of at least one of the chosen numbers is different.\n",
    "\n",
    "The test cases are generated such that the number of unique combinations that sum up to target is less than 150 combinations for the given input.\n",
    "\n",
    " \n",
    "\n",
    "Example 1:\n",
    "\n",
    "Input: candidates = [2,3,6,7], target = 7\n",
    "Output: [[2,2,3],[7]]\n",
    "Explanation:\n",
    "2 and 3 are candidates, and 2 + 2 + 3 = 7. Note that 2 can be used multiple times.\n",
    "7 is a candidate, and 7 = 7.\n",
    "These are the only two combinations.\n",
    "Example 2:\n",
    "\n",
    "Input: candidates = [2,3,5], target = 8\n",
    "Output: [[2,2,2,2],[2,3,3],[3,5]]\n",
    "Example 3:\n",
    "\n",
    "Input: candidates = [2], target = 1\n",
    "Output: []\n"
   ]
  },
  {
   "cell_type": "markdown",
   "id": "1939d3c0",
   "metadata": {},
   "source": [
    "Solution\n",
    "\n",
    "Decsion Tree goes like\n",
    "\n",
    "let nums = [2,3,6,7] and target = 7\n",
    "\n",
    "Add the element multiple times or not add the element\n",
    "\n",
    "this is just left most part of the tree\n",
    "\n",
    "[]-> [2],[]\n",
    "\n",
    "[2]->[2,2],[2]\n",
    "\n",
    "[2,2]->[2,2,2],[2,2](r)\n",
    "\n",
    "[2,2,2]->[2,2,2,2], [2,2,2]\n",
    "\n",
    "[2,2,2,2] here wthe sum is greater than the target (7) now to the right tree the next element 3 is added\n",
    "\n",
    "i.e., [2,2](r)->[2,2,3],[2,2] here we got sum of [2,2,3] = 7 target\n",
    "\n",
    "this goes on\n",
    "\n",
    "Time complexity two decsions add up ecach value O(2^t) t = target value"
   ]
  },
  {
   "cell_type": "code",
   "execution_count": 191,
   "id": "61d21fe5",
   "metadata": {},
   "outputs": [
    {
     "name": "stdout",
     "output_type": "stream",
     "text": [
      "i is 0, path+[candidate[i]] is [2] and target-candidate[i] is 5\n",
      "i is 0, path+[candidate[i]] is [2, 2] and target-candidate[i] is 3\n",
      "i is 0, path+[candidate[i]] is [2, 2, 2] and target-candidate[i] is 1\n",
      "i is 0, path+[candidate[i]] is [2, 2, 2, 2] and target-candidate[i] is -1\n",
      "i is 1, path+[candidate[i]] is [2, 2, 2, 3] and target-candidate[i] is -2\n",
      "i is 2, path+[candidate[i]] is [2, 2, 2, 6] and target-candidate[i] is -5\n",
      "i is 3, path+[candidate[i]] is [2, 2, 2, 7] and target-candidate[i] is -6\n",
      "i is 1, path+[candidate[i]] is [2, 2, 3] and target-candidate[i] is 0\n",
      "i is 2, path+[candidate[i]] is [2, 2, 6] and target-candidate[i] is -3\n",
      "i is 3, path+[candidate[i]] is [2, 2, 7] and target-candidate[i] is -4\n",
      "i is 1, path+[candidate[i]] is [2, 3] and target-candidate[i] is 2\n",
      "i is 1, path+[candidate[i]] is [2, 3, 3] and target-candidate[i] is -1\n",
      "i is 2, path+[candidate[i]] is [2, 3, 6] and target-candidate[i] is -4\n",
      "i is 3, path+[candidate[i]] is [2, 3, 7] and target-candidate[i] is -5\n",
      "i is 2, path+[candidate[i]] is [2, 6] and target-candidate[i] is -1\n",
      "i is 3, path+[candidate[i]] is [2, 7] and target-candidate[i] is -2\n",
      "i is 1, path+[candidate[i]] is [3] and target-candidate[i] is 4\n",
      "i is 1, path+[candidate[i]] is [3, 3] and target-candidate[i] is 1\n",
      "i is 1, path+[candidate[i]] is [3, 3, 3] and target-candidate[i] is -2\n",
      "i is 2, path+[candidate[i]] is [3, 3, 6] and target-candidate[i] is -5\n",
      "i is 3, path+[candidate[i]] is [3, 3, 7] and target-candidate[i] is -6\n",
      "i is 2, path+[candidate[i]] is [3, 6] and target-candidate[i] is -2\n",
      "i is 3, path+[candidate[i]] is [3, 7] and target-candidate[i] is -3\n",
      "i is 2, path+[candidate[i]] is [6] and target-candidate[i] is 1\n",
      "i is 2, path+[candidate[i]] is [6, 6] and target-candidate[i] is -5\n",
      "i is 3, path+[candidate[i]] is [6, 7] and target-candidate[i] is -6\n",
      "i is 3, path+[candidate[i]] is [7] and target-candidate[i] is 0\n",
      "[[2, 2, 3], [7]]\n"
     ]
    }
   ],
   "source": [
    "def combinationSum(candidiates,target):\n",
    "    def backtrack(start, path, target):\n",
    "            if target == 0:\n",
    "                result.append(path)\n",
    "#                 print(result)\n",
    "                return\n",
    "            if target < 0:\n",
    "                return\n",
    "            \n",
    "            for i in range(start, len(candidates)):\n",
    "                # Include the candidate[i] in the path\n",
    "                print(f'i is {i}, path+[candidate[i]] is {path + [candidates[i]]} and target-candidate[i] is {target - candidates[i]}')\n",
    "                backtrack(i, path + [candidates[i]], target - candidates[i])\n",
    "    \n",
    "    result = []\n",
    "    candidates.sort()\n",
    "    backtrack(0, [], target)\n",
    "    return result\n",
    "candidates = [2,3,6,7]\n",
    "target = 7\n",
    "print(combinationSum(candidates,target))\n",
    "\n"
   ]
  },
  {
   "cell_type": "code",
   "execution_count": null,
   "id": "b32043ba",
   "metadata": {},
   "outputs": [],
   "source": []
  },
  {
   "cell_type": "code",
   "execution_count": null,
   "id": "c51a227f",
   "metadata": {},
   "outputs": [],
   "source": []
  },
  {
   "cell_type": "markdown",
   "id": "8c1af0c2",
   "metadata": {},
   "source": [
    "# BLIND LEET CODE SOLUTIONS"
   ]
  },
  {
   "cell_type": "markdown",
   "id": "26f5c3e9",
   "metadata": {},
   "source": [
    "# 178 Product of Array itself\n",
    "\n",
    "Given an integer array nums, return an array answer such that answer[i] is equal to the product of all the elements of nums except nums[i].\n",
    "\n",
    "The product of any prefix or suffix of nums is guaranteed to fit in a 32-bit integer.\n",
    "\n",
    "You must write an algorithm that runs in O(n) time and without using the division operation.\n",
    "\n",
    " \n",
    "\n",
    "Example 1:\n",
    "\n",
    "Input: nums = [1,2,3,4]\n",
    "Output: [24,12,8,6]\n",
    "Example 2:\n",
    "\n",
    "Input: nums = [-1,1,0,-3,3]\n",
    "Output: [0,0,9,0,0]"
   ]
  },
  {
   "cell_type": "markdown",
   "id": "b80b505b",
   "metadata": {},
   "source": [
    "Solution:\n",
    "\n",
    "for eg = [1,2,3,4]\n",
    "left = prod of left elements of the specific element i [1, 1, 2, 6]\n",
    "\n",
    "right = prod of right elemetns of the specific element i [24, 12, 4, 1]\n",
    "\n",
    "result[i] = left[i] * right[i] [24, 12, 8, 6]"
   ]
  },
  {
   "cell_type": "code",
   "execution_count": 226,
   "id": "4b4dd288",
   "metadata": {},
   "outputs": [
    {
     "name": "stdout",
     "output_type": "stream",
     "text": [
      "[1, 1, 2, 6]\n",
      "[24, 12, 4, 1]\n",
      "[24, 12, 8, 6]\n"
     ]
    }
   ],
   "source": [
    "def productExceptSelf(nums):\n",
    "    l = [1]*len(nums)\n",
    "    r = [1]*len(nums)\n",
    "    prev = 1\n",
    "    for i in range(len(nums)):\n",
    "        l[i] = prev\n",
    "        prev *=nums[i]\n",
    "    print(l)\n",
    "    \n",
    "    post = 1\n",
    "    for i in range(len(nums)-1,-1,-1):\n",
    "        r[i] = post\n",
    "        post*=nums[i]\n",
    "    print(r)\n",
    "    \n",
    "    return [l[i]*r[i] for i in range(len(nums)) ]\n",
    "nums = [1,2,3,4]\n",
    "print(productExceptSelf(nums))\n",
    "    "
   ]
  },
  {
   "cell_type": "markdown",
   "id": "c8a73d8a",
   "metadata": {},
   "source": [
    "# 53 Maximum Sub Array\n",
    "\n",
    "Given an integer array nums, find the \n",
    "subarray\n",
    " with the largest sum, and return its sum.\n",
    "\n",
    " \n",
    "\n",
    "Example 1:\n",
    "\n",
    "Input: nums = [-2,1,-3,4,-1,2,1,-5,4]\n",
    "Output: 6\n",
    "Explanation: The subarray [4,-1,2,1] has the largest sum 6.\n",
    "Example 2:\n",
    "\n",
    "Input: nums = [1]\n",
    "Output: 1\n",
    "Explanation: The subarray [1] has the largest sum 1.\n",
    "Example 3:\n",
    "\n",
    "Input: nums = [5,4,-1,7,8]\n",
    "Output: 23\n",
    "Explanation: The subarray [5,4,-1,7,8] has the largest sum 23."
   ]
  },
  {
   "cell_type": "code",
   "execution_count": 230,
   "id": "6e6fc507",
   "metadata": {},
   "outputs": [
    {
     "name": "stdout",
     "output_type": "stream",
     "text": [
      "6\n"
     ]
    }
   ],
   "source": [
    "def maxSubArray(nums):\n",
    "    max_sub = nums[0]\n",
    "    curr_sum = 0\n",
    "    for num in nums:\n",
    "        if curr_sum<0:\n",
    "            curr_sum = 0\n",
    "        curr_sum+=num\n",
    "        max_sub = max(max_sub,curr_sum)\n",
    "    return max_sub\n",
    "nums = [-2,1,-3,4,-1,2,1,-5,4]\n",
    "print(maxSubArray(nums))"
   ]
  },
  {
   "cell_type": "markdown",
   "id": "c82d59d4",
   "metadata": {},
   "source": [
    "# 152 Maimum Product Subarray\n",
    "Given an integer array nums, find a \n",
    "subarray\n",
    " that has the largest product, and return the product.\n",
    "\n",
    "The test cases are generated so that the answer will fit in a 32-bit integer.\n",
    "\n",
    " \n",
    "\n",
    "Example 1:\n",
    "\n",
    "Input: nums = [2,3,-2,4]\n",
    "Output: 6\n",
    "Explanation: [2,3] has the largest product 6.\n",
    "Example 2:\n",
    "\n",
    "Input: nums = [-2,0,-1]\n",
    "Output: 0\n",
    "Explanation: The result cannot be 2, because [-2,-1] is not a subarray."
   ]
  },
  {
   "cell_type": "code",
   "execution_count": null,
   "id": "0420ee8f",
   "metadata": {},
   "outputs": [],
   "source": [
    "Solution:\n",
    "\n",
    "    #Dyanmic Programming\n",
    "    pattern = if positive keep on going multiplying i.e., the product is increasing\n",
    "              if all numbers are negativ the product is getting bigger as well\n",
    "    maintain the maimum and minimum and tacke the products\n",
    "    if 0 in array it is killer anything*0 is 0 so anytime we get 0 value set max to 1 and min to 1"
   ]
  },
  {
   "cell_type": "code",
   "execution_count": 244,
   "id": "ed45d675",
   "metadata": {},
   "outputs": [
    {
     "name": "stdout",
     "output_type": "stream",
     "text": [
      "12\n"
     ]
    }
   ],
   "source": [
    "def maxProduct(nums):\n",
    "    res = max(nums)\n",
    "    curr_min,curr_max = 1,1\n",
    "    for num in nums:\n",
    "        if num==0:\n",
    "            curr_min,curr_max = 1,1\n",
    "            continue\n",
    "        temp = curr_max*num\n",
    "        curr_max = max(num*curr_max, num*curr_min, num)\n",
    "        curr_min = min(temp, num*curr_min, num)\n",
    "        res = max(temp,res)\n",
    "    return res\n",
    "        \n",
    "nums= [-2,0,-1,4,3,-4]\n",
    "print(maxProduct(nums))"
   ]
  },
  {
   "cell_type": "code",
   "execution_count": 252,
   "id": "11b9c01c",
   "metadata": {},
   "outputs": [
    {
     "name": "stdout",
     "output_type": "stream",
     "text": [
      "48\n"
     ]
    }
   ],
   "source": [
    "def maxProduct2(nums):\n",
    "    min_prod,max_prod,res = nums[0],nums[0],nums[0]\n",
    "    for num in nums[1:]:\n",
    "        if num==0:\n",
    "            min_prod,max_prod = 1,1\n",
    "        temp_min = min(min_prod*num,max_prod*num,num)\n",
    "        temp_max = max(min_prod*num,max_prod*num,num)\n",
    "        max_prod = temp_max\n",
    "        min_prod = temp_min\n",
    "        res = max(res,max_prod)\n",
    "    return res\n",
    "nums= [-2,0,-1,4,3,-4]\n",
    "print(maxProduct2(nums))    "
   ]
  },
  {
   "cell_type": "markdown",
   "id": "aec97651",
   "metadata": {},
   "source": [
    "# 153 Minimum in Rotated Sorted Array\n",
    "Suppose an array of length n sorted in ascending order is rotated between 1 and n times. For example, the array nums = [0,1,2,4,5,6,7] might become:\n",
    "\n",
    "[4,5,6,7,0,1,2] if it was rotated 4 times.\n",
    "[0,1,2,4,5,6,7] if it was rotated 7 times.\n",
    "Notice that rotating an array [a[0], a[1], a[2], ..., a[n-1]] 1 time results in the array [a[n-1], a[0], a[1], a[2], ..., a[n-2]].\n",
    "\n",
    "Given the sorted rotated array nums of unique elements, return the minimum element of this array.\n",
    "\n",
    "You must write an algorithm that runs in O(log n) time.\n",
    "\n",
    " \n",
    "\n",
    "Example 1:\n",
    "\n",
    "Input: nums = [3,4,5,1,2]\n",
    "Output: 1\n",
    "Explanation: The original array was [1,2,3,4,5] rotated 3 times.\n",
    "Example 2:\n",
    "\n",
    "Input: nums = [4,5,6,7,0,1,2]\n",
    "Output: 0\n",
    "Explanation: The original array was [0,1,2,4,5,6,7] and it was rotated 4 times.\n",
    "Example 3:\n",
    "\n",
    "Input: nums = [11,13,15,17]\n",
    "Output: 11\n",
    "Explanation: The original array was [11,13,15,17] and it was rotated 4 times. \n"
   ]
  },
  {
   "cell_type": "markdown",
   "id": "da5d84b3",
   "metadata": {},
   "source": [
    "Solution: Modified Binary Search"
   ]
  },
  {
   "cell_type": "code",
   "execution_count": 276,
   "id": "2c581623",
   "metadata": {},
   "outputs": [
    {
     "name": "stdout",
     "output_type": "stream",
     "text": [
      "1\n"
     ]
    }
   ],
   "source": [
    "def findMin(nums):\n",
    "    l,r = 0,len(nums)-1\n",
    "    if nums[l]<nums[r]:\n",
    "        return nums[l]\n",
    "    while l<=r:\n",
    "        mid = (l+r)//2\n",
    "        if nums[mid]>nums[r]:\n",
    "            l=mid+1\n",
    "        else:\n",
    "            r = mid \n",
    "        return nums[l]\n",
    "nums = [3,4,5,1,2]\n",
    "print(findMin(nums))"
   ]
  },
  {
   "cell_type": "markdown",
   "id": "e354f66a",
   "metadata": {},
   "source": [
    "# 33 Search in Rotated Sorted Array\n",
    "There is an integer array nums sorted in ascending order (with distinct values).\n",
    "\n",
    "Prior to being passed to your function, nums is possibly rotated at an unknown pivot index k (1 <= k < nums.length) such that the resulting array is [nums[k], nums[k+1], ..., nums[n-1], nums[0], nums[1], ..., nums[k-1]] (0-indexed). For example, [0,1,2,4,5,6,7] might be rotated at pivot index 3 and become [4,5,6,7,0,1,2].\n",
    "\n",
    "Given the array nums after the possible rotation and an integer target, return the index of target if it is in nums, or -1 if it is not in nums.\n",
    "\n",
    "You must write an algorithm with O(log n) runtime complexity.\n",
    "\n",
    " \n",
    "\n",
    "Example 1:\n",
    "\n",
    "Input: nums = [4,5,6,7,0,1,2], target = 0\n",
    "Output: 4\n",
    "Example 2:\n",
    "\n",
    "Input: nums = [4,5,6,7,0,1,2], target = 3\n",
    "Output: -1\n",
    "Example 3:\n",
    "\n",
    "Input: nums = [1], target = 0\n",
    "Output: -1"
   ]
  },
  {
   "cell_type": "code",
   "execution_count": 277,
   "id": "b5bc915c",
   "metadata": {},
   "outputs": [
    {
     "name": "stdout",
     "output_type": "stream",
     "text": [
      "7\n",
      "5\n",
      "1\n"
     ]
    }
   ],
   "source": [
    "def search(nums,target):\n",
    "    l,r = 0,len(nums)-1\n",
    "    while l<=r:\n",
    "        mid = (l+r)//2\n",
    "        print(nums[mid])\n",
    "        if nums[mid]==target:\n",
    "            return mid\n",
    "        if nums[l]<=nums[mid]:\n",
    "            if target>nums[mid] or target<nums[l]:\n",
    "                l=mid+1\n",
    "            else:\n",
    "                r=mid-1\n",
    "        else:\n",
    "            if target<nums[mid] or target>nums[r]:\n",
    "                r=mid-1\n",
    "            else:\n",
    "                l=mid+1\n",
    "    return -1\n",
    "nums = [4,5,6,7,0,1,2]\n",
    "target = 5\n",
    "print(search(nums,target))"
   ]
  },
  {
   "cell_type": "markdown",
   "id": "6e9641a2",
   "metadata": {},
   "source": [
    "# 15 3SUM\n",
    "\n",
    "Given an integer array nums, return all the triplets [nums[i], nums[j], nums[k]] such that i != j, i != k, and j != k, and nums[i] + nums[j] + nums[k] == 0.\n",
    "\n",
    "Notice that the solution set must not contain duplicate triplets.\n",
    "\n",
    " \n",
    "\n",
    "Example 1:\n",
    "\n",
    "Input: nums = [-1,0,1,2,-1,-4]\n",
    "Output: [[-1,-1,2],[-1,0,1]]\n",
    "Explanation: \n",
    "nums[0] + nums[1] + nums[2] = (-1) + 0 + 1 = 0.\n",
    "nums[1] + nums[2] + nums[4] = 0 + 1 + (-1) = 0.\n",
    "nums[0] + nums[3] + nums[4] = (-1) + 2 + (-1) = 0.\n",
    "The distinct triplets are [-1,0,1] and [-1,-1,2].\n",
    "Notice that the order of the output and the order of the triplets does not matter.\n",
    "Example 2:\n",
    "\n",
    "Input: nums = [0,1,1]\n",
    "Output: []\n",
    "Explanation: The only possible triplet does not sum up to 0.\n",
    "Example 3:\n",
    "\n",
    "Input: nums = [0,0,0]\n",
    "Output: [[0,0,0]]\n",
    "Explanation: The only possible triplet sums up to 0."
   ]
  },
  {
   "cell_type": "markdown",
   "id": "fa239b02",
   "metadata": {},
   "source": [
    "Solution:\n",
    "    \n",
    "Make sure result set has No Duplicates in an array\n",
    "eg: -3 3 4 -3 1 2\n",
    "    we get two times -3 1 2 it should not be repeatead\n",
    "eg:\n",
    "    -3 -3 1 2 3 4\n",
    "    start with start number -3\n",
    "    next again -3 so do not do this just continue without another -3\n",
    "    now -3 1 2 \n",
    " \n",
    "Sort array\n",
    "\n",
    "use l and r\n",
    "\n",
    "as the array is sorted just shift left and right accordingly\n",
    "\n",
    "time complexity = O(nlogn) + (second loop) two sum O(n^2)\n"
   ]
  },
  {
   "cell_type": "code",
   "execution_count": 281,
   "id": "5bea852b",
   "metadata": {},
   "outputs": [
    {
     "ename": "KeyboardInterrupt",
     "evalue": "",
     "output_type": "error",
     "traceback": [
      "\u001b[0;31m---------------------------------------------------------------------------\u001b[0m",
      "\u001b[0;31mKeyboardInterrupt\u001b[0m                         Traceback (most recent call last)",
      "Cell \u001b[0;32mIn[281], line 24\u001b[0m\n\u001b[1;32m     22\u001b[0m     \u001b[38;5;28;01mreturn\u001b[39;00m res\n\u001b[1;32m     23\u001b[0m nums \u001b[38;5;241m=\u001b[39m [\u001b[38;5;241m-\u001b[39m\u001b[38;5;241m1\u001b[39m,\u001b[38;5;241m0\u001b[39m,\u001b[38;5;241m1\u001b[39m,\u001b[38;5;241m2\u001b[39m,\u001b[38;5;241m-\u001b[39m\u001b[38;5;241m1\u001b[39m,\u001b[38;5;241m-\u001b[39m\u001b[38;5;241m4\u001b[39m]\n\u001b[0;32m---> 24\u001b[0m \u001b[38;5;28mprint\u001b[39m(\u001b[43mthreeSum\u001b[49m\u001b[43m(\u001b[49m\u001b[43mnums\u001b[49m\u001b[43m)\u001b[49m)\n",
      "Cell \u001b[0;32mIn[281], line 16\u001b[0m, in \u001b[0;36mthreeSum\u001b[0;34m(nums)\u001b[0m\n\u001b[1;32m     14\u001b[0m     l\u001b[38;5;241m+\u001b[39m\u001b[38;5;241m=\u001b[39m\u001b[38;5;241m1\u001b[39m\n\u001b[1;32m     15\u001b[0m \u001b[38;5;28;01melse\u001b[39;00m:\n\u001b[0;32m---> 16\u001b[0m     res\u001b[38;5;241m.\u001b[39mappend([num,nums[l],nums[r]])\n\u001b[1;32m     17\u001b[0m     \u001b[38;5;66;03m# eg [-2,-2,0,0,2,2] as we not to repeat the [-2,0,2] two times\u001b[39;00m\n\u001b[1;32m     18\u001b[0m     \u001b[38;5;28;01mwhile\u001b[39;00m l\u001b[38;5;241m<\u001b[39mr \u001b[38;5;129;01mand\u001b[39;00m nums[l]\u001b[38;5;241m==\u001b[39mnums[l\u001b[38;5;241m+\u001b[39m\u001b[38;5;241m1\u001b[39m]:\n",
      "\u001b[0;31mKeyboardInterrupt\u001b[0m: "
     ]
    }
   ],
   "source": [
    "def threeSum(nums):\n",
    "    res = []\n",
    "    nums.sort()\n",
    "    for i,num in enumerate(nums):\n",
    "        # if neighbours are same just continue\n",
    "        if i>0 and num ==  nums[i-1]:\n",
    "            continue\n",
    "        l,r = i+1, len(nums)-1\n",
    "        while l<r:\n",
    "            threeSum = num+nums[i]+nums[r]\n",
    "            if threeSum>0:\n",
    "                r-=1\n",
    "            elif threeSum<0:\n",
    "                l+=1\n",
    "            else:\n",
    "                res.append([num,nums[l],nums[r]])\n",
    "                # eg [-2,-2,0,0,2,2] as we not to repeat the [-2,0,2] two times\n",
    "                while l<r and nums[l]==nums[l+1]:\n",
    "                    l+=1\n",
    "                while l<r and nums[r]==nums[r-1]:\n",
    "                    r-=1\n",
    "    return res\n",
    "nums = [-1,0,1,2,-1,-4]\n",
    "print(threeSum(nums))"
   ]
  },
  {
   "cell_type": "code",
   "execution_count": 2,
   "id": "7e4a1fce",
   "metadata": {},
   "outputs": [
    {
     "name": "stdout",
     "output_type": "stream",
     "text": [
      "[[-1, -1, 2], [-1, 0, 1]]\n"
     ]
    }
   ],
   "source": [
    "def threeSum(nums):\n",
    "    result = []\n",
    "    nums.sort()\n",
    "    for i in range(len(nums)):\n",
    "        #skipping the duplicate element\n",
    "        if i>0 and nums[i]==nums[i-1]:\n",
    "            continue\n",
    "        left,right = i+1, len(nums)-1\n",
    "        while left<right:\n",
    "            curr_sum = nums[i]+nums[left]+nums[right]\n",
    "            if curr_sum == 0:\n",
    "                result.append([nums[i],nums[left],nums[right]])\n",
    "                while left<right and nums[left]==nums[left+1]:\n",
    "                    left+=1\n",
    "                while left<right and nums[right]==nums[right-1]:\n",
    "                    right-=1\n",
    "                left+=1\n",
    "                right-=1\n",
    "\n",
    "            elif curr_sum<0:\n",
    "                left+=1\n",
    "            else:\n",
    "                right-=1\n",
    "    return result\n",
    "nums = [-1,0,1,2,-1,-4]\n",
    "print(threeSum(nums))"
   ]
  },
  {
   "cell_type": "markdown",
   "id": "8701237d",
   "metadata": {},
   "source": [
    "# 11 Contains highest water\n",
    "You are given an integer array height of length n. There are n vertical lines drawn such that the two endpoints of the ith line are (i, 0) and (i, height[i]).\n",
    "\n",
    "Find two lines that together with the x-axis form a container, such that the container contains the most water.\n",
    "\n",
    "Return the maximum amount of water a container can store.\n",
    "\n",
    "Notice that you may not slant the container.\n",
    "\n",
    "Input: height = [1,8,6,2,5,4,8,3,7]\n",
    "Output: 49\n",
    "Explanation: The above vertical lines are represented by array [1,8,6,2,5,4,8,3,7]. In this case, the max area of water (blue section) the container can contain is 49.\n",
    "Example 2:\n",
    "\n",
    "Input: height = [1,1]\n",
    "Output: 1\n",
    " "
   ]
  },
  {
   "cell_type": "markdown",
   "id": "4201ecc3",
   "metadata": {},
   "source": [
    "Solution:\n",
    "\n",
    "with l and r\n",
    "\n",
    "move l and r accordingly with brute force (O(n^2))\n",
    "\n",
    "Linear time O(n)\n",
    "\n",
    "TWO POINTER Technique"
   ]
  },
  {
   "cell_type": "code",
   "execution_count": 4,
   "id": "795eb4cb",
   "metadata": {},
   "outputs": [
    {
     "name": "stdout",
     "output_type": "stream",
     "text": [
      "49\n"
     ]
    }
   ],
   "source": [
    "# Brute Force\n",
    "def maxArea(height):\n",
    "    res = 0\n",
    "    for l in range(len(height)):\n",
    "        for r in range(l+1,len(height)):\n",
    "            area = (r-l) * min(height[l],height[r]) # area of rectangle\n",
    "            res = max(res,area)\n",
    "    return res\n",
    "height = [1,8,6,2,5,4,8,3,7] \n",
    "print(maxArea(height))\n",
    "\n",
    "# TIME LIMIT EXCEEDS"
   ]
  },
  {
   "cell_type": "code",
   "execution_count": 6,
   "id": "b4fa2ab3",
   "metadata": {},
   "outputs": [
    {
     "name": "stdout",
     "output_type": "stream",
     "text": [
      "49\n"
     ]
    }
   ],
   "source": [
    "# Two Pointer\n",
    "def maxArea(height):\n",
    "    res = 0\n",
    "    l,r = 0,len(height)-1\n",
    "    while l<r:\n",
    "        area = (r-l) * min(height[l],height[r])\n",
    "        res = max(res,area)\n",
    "        \n",
    "        if height[l]<height[r]:\n",
    "            l+=1\n",
    "        else:\n",
    "            r-=1\n",
    "    return res\n",
    "height = [1,8,6,2,5,4,8,3,7] \n",
    "print(maxArea(height))\n"
   ]
  },
  {
   "cell_type": "markdown",
   "id": "a92cb4ad",
   "metadata": {},
   "source": [
    "# Number of 1 bits\n",
    "Write a function that takes the binary representation of a positive integer and returns the number of \n",
    "set bits\n",
    " it has (also known as the Hamming weight).\n",
    "\n",
    " \n",
    "\n",
    "Example 1:\n",
    "\n",
    "Input: n = 11\n",
    "\n",
    "Output: 3\n",
    "\n",
    "Explanation:\n",
    "\n",
    "The input binary string 1011 has a total of three set bits.\n",
    "\n",
    "Example 2:\n",
    "\n",
    "Input: n = 128\n",
    "\n",
    "Output: 1"
   ]
  },
  {
   "cell_type": "code",
   "execution_count": 11,
   "id": "c2949131",
   "metadata": {},
   "outputs": [
    {
     "name": "stdout",
     "output_type": "stream",
     "text": [
      "1\n"
     ]
    }
   ],
   "source": [
    "n = 128\n",
    "count = 0\n",
    "while n>0:\n",
    "    count+=n%2\n",
    "    n//=2\n",
    "print(count)"
   ]
  },
  {
   "cell_type": "markdown",
   "id": "788aff72",
   "metadata": {},
   "source": [
    "# 338 Counting Bits\n",
    "\n",
    "Given an integer n, return an array ans of length n + 1 such that for each i (0 <= i <= n), ans[i] is the number of 1's in the binary representation of i.\n",
    "\n",
    " \n",
    "\n",
    "Example 1:\n",
    "\n",
    "Input: n = 2\n",
    "Output: [0,1,1]\n",
    "Explanation:\n",
    "0 --> 0\n",
    "1 --> 1\n",
    "2 --> 10\n",
    "Example 2:\n",
    "\n",
    "Input: n = 5\n",
    "Output: [0,1,1,2,1,2]\n",
    "Explanation:\n",
    "0 --> 0\n",
    "1 --> 1\n",
    "2 --> 10\n",
    "3 --> 11\n",
    "4 --> 100\n",
    "5 --> 101"
   ]
  },
  {
   "cell_type": "code",
   "execution_count": 12,
   "id": "caad44b9",
   "metadata": {},
   "outputs": [
    {
     "name": "stdout",
     "output_type": "stream",
     "text": [
      "[0, 1, 1, 2, 1, 2]\n"
     ]
    }
   ],
   "source": [
    "# O(nlogn)\n",
    "def countBits(n):\n",
    "    res = []\n",
    "    for num in range(n+1):\n",
    "        count=0\n",
    "        while num:\n",
    "            count+=num%2\n",
    "            num>>=1\n",
    "        res.append(count)\n",
    "    return res\n",
    "n = 5\n",
    "print(countBits(n))"
   ]
  },
  {
   "cell_type": "markdown",
   "id": "0e2c4356",
   "metadata": {},
   "source": [
    "# 190 Reverse Bits\n",
    "\n",
    "Reverse bits of a given 32 bits unsigned integer.\n",
    "\n",
    "Note:\n",
    "\n",
    "Note that in some languages, such as Java, there is no unsigned integer type. In this case, both input and output will be given as a signed integer type. They should not affect your implementation, as the integer's internal binary representation is the same, whether it is signed or unsigned.\n",
    "In Java, the compiler represents the signed integers using 2's complement notation. Therefore, in Example 2 above, the input represents the signed integer -3 and the output represents the signed integer -1073741825.\n",
    " \n",
    "\n",
    "Example 1:\n",
    "\n",
    "Input: n = 00000010100101000001111010011100\n",
    "Output:    964176192 (00111001011110000010100101000000)\n",
    "Explanation: The input binary string 00000010100101000001111010011100 represents the unsigned integer 43261596, so return 964176192 which its binary representation is 00111001011110000010100101000000.\n",
    "\n",
    "Example 2:\n",
    "\n",
    "Input: n = 11111111111111111111111111111101\n",
    "Output:   3221225471 (10111111111111111111111111111111)\n",
    "Explanation: The input binary string 11111111111111111111111111111101 represents the unsigned integer 4294967293, so return 3221225471 which its binary representation is 10111111111111111111111111111111.\n"
   ]
  },
  {
   "cell_type": "markdown",
   "id": "c61da33d",
   "metadata": {},
   "source": [
    "Solution:\n",
    "    \n",
    "Right Shift and Do AND operation with 1 with each bit from the beginning"
   ]
  },
  {
   "cell_type": "code",
   "execution_count": 25,
   "id": "b7795136",
   "metadata": {},
   "outputs": [
    {
     "name": "stdout",
     "output_type": "stream",
     "text": [
      "1 0 1 1 1 1 0 1 1 0 0 0 1 1 1 0 0 0 1 1 1 0 0 0 1 1 1 0 0 0 1 1 3180214499\n"
     ]
    }
   ],
   "source": [
    "def reverseBits(n):\n",
    "    res = 0\n",
    "    for i in range(32):\n",
    "        bit = (n>>i)&1\n",
    "        print(bit,end=' ')\n",
    "        \n",
    "        res = res|(bit<<31-i)\n",
    "#         print(res)\n",
    "    return res\n",
    "n = 11111111111111111111111111111101\n",
    "# print((n>>1)&1)\n",
    "print(reverseBits(n))"
   ]
  },
  {
   "cell_type": "code",
   "execution_count": 17,
   "id": "781aebaa",
   "metadata": {},
   "outputs": [
    {
     "name": "stdout",
     "output_type": "stream",
     "text": [
      "3180214499\n"
     ]
    }
   ],
   "source": [
    "def reverseBits(n):\n",
    "        result = 0\n",
    "\n",
    "        # Iterate through 32 bits\n",
    "        for i in range(32):\n",
    "            # Shift the result to the left (leftmost bits become rightmost)\n",
    "            result <<= 1\n",
    "            print(resulr)\n",
    "            # Check if the least significant bit of n is set (1)\n",
    "            if n & 1:\n",
    "                result |= 1  # Set the least significant bit of the result\n",
    "\n",
    "            # Right-shift n by 1 to check the next bit\n",
    "            n >>= 1\n",
    "        return result\n",
    "n = 11111111111111111111111111111101\n",
    "print(reverseBits(n))"
   ]
  },
  {
   "cell_type": "markdown",
   "id": "14b0f0e3",
   "metadata": {},
   "source": [
    "# 322 Coin Challenge\n",
    "You are given an integer array coins representing coins of different denominations and an integer amount representing a total amount of money.\n",
    "\n",
    "Return the fewest number of coins that you need to make up that amount. If that amount of money cannot be made up by any combination of the coins, return -1.\n",
    "\n",
    "You may assume that you have an infinite number of each kind of coin.\n",
    "\n",
    " \n",
    "\n",
    "Example 1:\n",
    "\n",
    "Input: coins = [1,2,5], amount = 11\n",
    "Output: 3\n",
    "Explanation: 11 = 5 + 5 + 1\n",
    "Example 2:\n",
    "\n",
    "Input: coins = [2], amount = 3\n",
    "Output: -1\n",
    "Example 3:\n",
    "\n",
    "Input: coins = [1], amount = 0\n",
    "Output: 0\n"
   ]
  },
  {
   "cell_type": "markdown",
   "id": "c63c4e8d",
   "metadata": {},
   "source": [
    "Solution:\n",
    "    Brute Forece: Top Down memoization with Greedy method\n",
    "    \n",
    "    Optimal: Bottopm up with Dynamic Programming\n",
    "        \n",
    "Inintalize dp with max values\n",
    "\n",
    "make dp[0] = 0 as a inintla case\n",
    "\n",
    "for each coin start from the 1 till the amount\n",
    "\n",
    "and make sure the amount-coin is > 0\n",
    "\n",
    "then comprae with current dp and 1+ dp[amount-coin]\n",
    "\n",
    "eg:\n",
    "if amount is 7\n",
    "\n",
    "Now we are at the coin 4, then there is a possibility that 1+dp[7-4=3] is a answer\n"
   ]
  },
  {
   "cell_type": "code",
   "execution_count": 48,
   "id": "2ee07959",
   "metadata": {},
   "outputs": [
    {
     "name": "stdout",
     "output_type": "stream",
     "text": [
      "20\n"
     ]
    }
   ],
   "source": [
    "def coinChange(coins,amount):\n",
    "    dp = [amount+1]*(amount+1) # put the max (amoount+1 or float(\"inf\")) values initially\n",
    "    dp[0] = 0\n",
    "    for coin in coins:\n",
    "        for a in range(1,amount+1):\n",
    "            if a-coin>=0:\n",
    "                dp[a] = min(dp[a],1+dp[a-coin])\n",
    "    return dp[amount] if dp[amount]!=amount+1 else -1\n",
    "\n",
    "coins = [186,419,83,408]\n",
    "amount = 6249  \n",
    "print(coinChange(coins,amount))"
   ]
  },
  {
   "cell_type": "markdown",
   "id": "a097ad2b",
   "metadata": {},
   "source": [
    "# 1143 Longest Common Subsequence\n",
    "\n",
    "Given two strings text1 and text2, return the length of their longest common subsequence. If there is no common subsequence, return 0.\n",
    "\n",
    "A subsequence of a string is a new string generated from the original string with some characters (can be none) deleted without changing the relative order of the remaining characters.\n",
    "\n",
    "For example, \"ace\" is a subsequence of \"abcde\".\n",
    "A common subsequence of two strings is a subsequence that is common to both strings.\n",
    "\n",
    " \n",
    "\n",
    "Example 1:\n",
    "\n",
    "Input: text1 = \"abcde\", text2 = \"ace\" \n",
    "Output: 3  \n",
    "Explanation: The longest common subsequence is \"ace\" and its length is 3.\n",
    "    \n",
    "Example 2:\n",
    "\n",
    "Input: text1 = \"abc\", text2 = \"abc\"\n",
    "Output: 3\n",
    "Explanation: The longest common subsequence is \"abc\" and its length is 3.\n",
    "Example 3:\n",
    "\n",
    "Input: text1 = \"abc\", text2 = \"def\"\n",
    "Output: 0\n",
    "Explanation: There is no such common subsequence, so the result is 0."
   ]
  },
  {
   "cell_type": "code",
   "execution_count": null,
   "id": "723a206b",
   "metadata": {},
   "outputs": [],
   "source": [
    "Solution\n",
    "\n",
    "Use DP\n",
    "create a DP matrix\n",
    "\n",
    "Start form begining"
   ]
  },
  {
   "cell_type": "code",
   "execution_count": 52,
   "id": "cd334744",
   "metadata": {},
   "outputs": [
    {
     "name": "stdout",
     "output_type": "stream",
     "text": [
      "[[0, 0, 0, 0], [0, 0, 0, 0], [0, 0, 0, 0], [0, 0, 0, 0], [0, 0, 0, 0], [0, 0, 0, 0]]\n",
      "3\n"
     ]
    }
   ],
   "source": [
    "def longestCommonSubsequence(text1,text2):\n",
    "    # initilaize a dp of based on lenghts of two strings string\n",
    "    m,n = len(text1), len(text2)\n",
    "    dp = [[0]*(n+1) for _ in range(m+1)]\n",
    "    print(dp)\n",
    "    # now start from the begining with text1 and text2\n",
    "    for i in range(1,m+1):\n",
    "        for j in range(1,n+1):\n",
    "            #if both chars are equal the update dp\n",
    "            if text1[i-1]==text2[j-1]:\n",
    "                dp[i][j] = 1 + dp[i-1][j-1]\n",
    "            else:\n",
    "                # if not equal then we moved either right or down so take max of these\n",
    "                dp[i][j] = max(dp[i][j-1],dp[i-1][j])\n",
    "    return dp[m][n]\n",
    "                \n",
    "    \n",
    "text1 = \"abcde\"\n",
    "text2 = \"ace\"\n",
    "print(longestCommonSubsequence(text1,text2))"
   ]
  },
  {
   "cell_type": "markdown",
   "id": "9c692094",
   "metadata": {},
   "source": [
    "# 62 Unique Paths\n",
    "\n",
    "There is a robot on an m x n grid. The robot is initially located at the top-left corner (i.e., grid[0][0]). The robot tries to move to the bottom-right corner (i.e., grid[m - 1][n - 1]). The robot can only move either down or right at any point in time.\n",
    "\n",
    "Given the two integers m and n, return the number of possible unique paths that the robot can take to reach the bottom-right corner.\n",
    "\n",
    "The test cases are generated so that the answer will be less than or equal to 2 * 109.\n",
    "\n",
    "Input: m = 3, n = 7\n",
    "Output: 28\n",
    "Example 2:\n",
    "\n",
    "Input: m = 3, n = 2\n",
    "Output: 3\n",
    "Explanation: From the top-left corner, there are a total of 3 ways to reach the bottom-right corner:\n",
    "1. Right -> Down -> Down\n",
    "2. Down -> Down -> Right\n",
    "3. Down -> Right -> Down\n"
   ]
  },
  {
   "cell_type": "markdown",
   "id": "3fe3e9d9",
   "metadata": {},
   "source": [
    "Solution:\n",
    "    \n",
    "With DFS maintain a Cache i.e., cache[row][col] which helps in non repetetive\n",
    "\n",
    "Consider Base Case a 1 because for 2 cells there is only one way to reach and with this eleaborate\n",
    "\n",
    "Thus it is a Bottom up approach i.e., start from bottom right cell and grow up.\n",
    "\n",
    "for m=3, n= 7\n",
    "starting with last cell\n",
    "\n",
    "the all last row cells becomes 1 as the base case is 1 there is only one way(direction) from any \n",
    "\n",
    "cell of last row to the destination\n",
    "\n",
    "When the row grows the right above cell of destination cell becomes 1 and \n",
    "\n",
    "rest are like right row cell + below row cell"
   ]
  },
  {
   "cell_type": "code",
   "execution_count": 78,
   "id": "859509fa",
   "metadata": {},
   "outputs": [
    {
     "name": "stdout",
     "output_type": "stream",
     "text": [
      "28\n"
     ]
    }
   ],
   "source": [
    "def uniquePaths(m,n):\n",
    "    row = [1]*n # lasr row is same i.e. 1\n",
    "    for i in range(m-1):\n",
    "        newRow = [1]*n #above the old row and it changes when we traverse\n",
    "        # go through every column except right most as it gives out of bounds\n",
    "        for j in range(n-2,-1,-1): # as we move backwards\n",
    "            newRow[j] = newRow[j+1] + row[j] # curr_cell = right_cell + below_cell\n",
    "        row = newRow # set old row with new for next iteration\n",
    "    return row[0]\n",
    "\n",
    "m = 3\n",
    "n = 7\n",
    "print(uniquePaths(m,n))"
   ]
  },
  {
   "cell_type": "markdown",
   "id": "0a40f414",
   "metadata": {},
   "source": [
    "# 55 Jump Game\n",
    "\n",
    "You are given an integer array nums. You are initially positioned at the array's first index, and each element in the array represents your maximum jump length at that position.\n",
    "\n",
    "Return true if you can reach the last index, or false otherwise.\n",
    "\n",
    " \n",
    "\n",
    "Example 1:\n",
    "\n",
    "Input: nums = [2,3,1,1,4]\n",
    "Output: true\n",
    "Explanation: Jump 1 step from index 0 to 1, then 3 steps to the last index.\n",
    "Example 2:\n",
    "\n",
    "Input: nums = [3,2,1,0,4]\n",
    "Output: false\n",
    "Explanation: You will always arrive at index 3 no matter what. Its maximum jump length is 0, which makes it impossible to reach the last index."
   ]
  },
  {
   "cell_type": "markdown",
   "id": "231966b4",
   "metadata": {},
   "source": [
    "Solution: Dynamic Programming\n",
    "\n",
    "Maintain a chache as there is a repetetive work\n",
    "\n",
    "with O(n^2) time complexity\n",
    "\n",
    "With Greedy O(n)\n",
    "\n",
    "Start form the last and check if we can reach to 1st position\n",
    "\n",
    "Start form the last but one and check whether we can make ajump to its next i.e., last \n",
    "\n",
    "if Yes then move our goal forward as we can reach to the end goal with this step else No goal is reached\n",
    "\n",
    "Now check the current goal is reached by it's left if Yes then move goal forward else No goal is reached"
   ]
  },
  {
   "cell_type": "code",
   "execution_count": 82,
   "id": "76aba73f",
   "metadata": {},
   "outputs": [
    {
     "name": "stdout",
     "output_type": "stream",
     "text": [
      "the goal is 4\n",
      "the goal is 3\n",
      "the goal is 2\n",
      "the goal is 1\n",
      "the goal is 0\n",
      "True\n"
     ]
    }
   ],
   "source": [
    "def canJump(nums):\n",
    "    goal = len(nums)-1 # initially goal is always the last position\n",
    "    for i in range(len(nums)-1,-1,-1):\n",
    "        if i+nums[i]>=goal: # if the goal reached\n",
    "            goal = i # shift goal forward\n",
    "        print(f\"the goal is {goal}\")\n",
    "    return True if goal==0 else False\n",
    "nums = [3,2,1,1,4]\n",
    "print(canJump(nums))"
   ]
  },
  {
   "cell_type": "markdown",
   "id": "a277d745",
   "metadata": {},
   "source": [
    "# 133 Clone Graph\n",
    "\n",
    "Given a reference of a node in a connected undirected graph.\n",
    "\n",
    "Return a deep copy (clone) of the graph.\n",
    "\n",
    "Each node in the graph contains a value (int) and a list (List[Node]) of its neighbors.\n",
    "\n",
    "class Node {\n",
    "    public int val;\n",
    "    public List<Node> neighbors;\n",
    "}\n",
    " \n",
    "\n",
    "Test case format:\n",
    "\n",
    "For simplicity, each node's value is the same as the node's index (1-indexed). For example, the first node with val == 1, the second node with val == 2, and so on. The graph is represented in the test case using an adjacency list.\n",
    "\n",
    "An adjacency list is a collection of unordered lists used to represent a finite graph. Each list describes the set of neighbors of a node in the graph.\n",
    "\n",
    "The given node will always be the first node with val = 1. You must return the copy of the given node as a reference to the cloned graph.\n",
    "\n",
    "Input: adjList = [[2,4],[1,3],[2,4],[1,3]]\n",
    "Output: [[2,4],[1,3],[2,4],[1,3]]\n",
    "Explanation: There are 4 nodes in the graph.\n",
    "1st node (val = 1)'s neighbors are 2nd node (val = 2) and 4th node (val = 4).\n",
    "2nd node (val = 2)'s neighbors are 1st node (val = 1) and 3rd node (val = 3).\n",
    "3rd node (val = 3)'s neighbors are 2nd node (val = 2) and 4th node (val = 4).\n",
    "4th node (val = 4)'s neighbors are 1st node (val = 1) and 3rd node (val = 3)."
   ]
  },
  {
   "cell_type": "markdown",
   "id": "74a4f3ab",
   "metadata": {},
   "source": [
    "Solution:\n",
    "    \n",
    "Make the copy/duplicates of nodes and create the similar graph with these\n",
    "\n",
    "Hashmap:\n",
    "\n",
    "old -> new\n",
    "\n",
    "1   -> 1\n",
    "\n",
    "2   -> 2\n",
    "\n",
    "4   -> 4\n",
    "\n",
    "3   -> 3\n",
    "\n",
    "\n",
    "\n",
    "We use DFS here\n",
    "USe hash map maintain old(orgignal) as key and it's clone as value"
   ]
  },
  {
   "cell_type": "code",
   "execution_count": null,
   "id": "b4886d4a",
   "metadata": {},
   "outputs": [],
   "source": [
    "class Node:\n",
    "    def __init__(self, val = 0, neighbors = None):\n",
    "        self.val = val\n",
    "        self.neighbors = neighbors if neighbors is not None else []\n",
    "class Solution:\n",
    "    def cloneGraph(self, node: Optional['Node']) -> Optional['Node']:\n",
    "        oldtoNew = {} # hashmap to maintain a nodes and it's clone\n",
    "        \n",
    "        def dfs(node):\n",
    "            if node in oldtoNew: # if already in hashmap\n",
    "                return oldtoNew[node] # just rerturn the cloned \n",
    "            \n",
    "            copy = Node(node.val)\n",
    "            oldtoNew[node] = copy\n",
    "            \n",
    "            for nei in node.neighbours:\n",
    "                cpoy.neighbours.append(dfs(nei))\n",
    "            return copy\n"
   ]
  },
  {
   "cell_type": "code",
   "execution_count": 57,
   "id": "b806f9a2",
   "metadata": {},
   "outputs": [
    {
     "name": "stdout",
     "output_type": "stream",
     "text": [
      "15\n"
     ]
    }
   ],
   "source": [
    "def min_tax(A, N, D):\n",
    "    prefix_sum = [0] * (N + 1)\n",
    "    for i in range(N):\n",
    "        prefix_sum[i + 1] = prefix_sum[i] + A[i]\n",
    "    dp = [float('inf')] * (N + 1)\n",
    "    dp[0] = 0\n",
    "    for i in range(1, N + 1):\n",
    "        for j in range(i):\n",
    "            dp[i] = min(dp[i], dp[j] + prefix_sum[i] - prefix_sum[j] - (i - j) // D)\n",
    "    return dp[N]\n",
    "\n",
    "# Example usage:\n",
    "A = [4, 4, 5, 4]  # salaries of employees\n",
    "N = len(A)\n",
    "D = 2\n",
    "print(min_tax(A, N, D))  # output: 9"
   ]
  },
  {
   "cell_type": "code",
   "execution_count": 56,
   "id": "e7b4b054",
   "metadata": {},
   "outputs": [
    {
     "name": "stdout",
     "output_type": "stream",
     "text": [
      "16\n"
     ]
    }
   ],
   "source": [
    "def string_cost(s):\n",
    "    cost = 0\n",
    "    for i in range(len(s)):\n",
    "        for j in range(i+1, len(s)):\n",
    "            cost += abs(ord(s[i]) - ord(s[j]))\n",
    "    return cost\n",
    "\n",
    "# Test the function\n",
    "s = \"aabbcc\"\n",
    "print(string_cost(s))  # Output: 30"
   ]
  },
  {
   "cell_type": "code",
   "execution_count": null,
   "id": "f5e02336",
   "metadata": {},
   "outputs": [],
   "source": []
  },
  {
   "cell_type": "code",
   "execution_count": 58,
   "id": "f3f3db74",
   "metadata": {},
   "outputs": [
    {
     "name": "stdout",
     "output_type": "stream",
     "text": [
      "Minimum tax to be paid: 15\n"
     ]
    }
   ],
   "source": [
    "def minimize_tax(N, D, A):\n",
    "    # Initialize dp array\n",
    "    dp = [0] * (N + 1)\n",
    "    \n",
    "    # Calculate prefix sum of salaries\n",
    "    prefix_sum = [0] * (N + 1)\n",
    "    for i in range(1, N + 1):\n",
    "        prefix_sum[i] = prefix_sum[i-1] + A[i-1]\n",
    "    \n",
    "    # Dynamic programming\n",
    "    for i in range(1, N + 1):\n",
    "        dp[i] = prefix_sum[i]  # Initialize with total salary up to i\n",
    "        for j in range(i):\n",
    "            employees_in_project = i - j\n",
    "            tax_exclusion = employees_in_project // D\n",
    "            current_tax = dp[j] + (prefix_sum[i] - prefix_sum[j]) - tax_exclusion\n",
    "            dp[i] = min(dp[i], current_tax)\n",
    "    \n",
    "    return dp[N]\n",
    "\n",
    "# Example usage\n",
    "A = [4, 4, 5, 4]  # salaries of employees\n",
    "N = len(A)\n",
    "D = 2\n",
    "\n",
    "min_tax = minimize_tax(N, D, A)\n",
    "print(f\"Minimum tax to be paid: {min_tax}\")"
   ]
  },
  {
   "cell_type": "code",
   "execution_count": 64,
   "id": "920022e0",
   "metadata": {},
   "outputs": [
    {
     "name": "stdout",
     "output_type": "stream",
     "text": [
      "The minimum sum of tax that you will need: 0\n"
     ]
    }
   ],
   "source": [
    "def min_tax(N, D, salaries):\n",
    "    # Initialize DP array with a large value\n",
    "    dp = [float('inf')] * (N + 1)\n",
    "    dp[0] = 0  # Base case: No employees, no tax\n",
    "\n",
    "    # Fill the DP array\n",
    "    for i in range(1, N + 1):\n",
    "        max_salary = 0\n",
    "        for j in range(i):\n",
    "            max_salary = max(max_salary, salaries[j])\n",
    "            dp[i] = min(dp[i], dp[j] + ((i - j) // D) * max_salary)\n",
    "\n",
    "    return dp[N]\n",
    "\n",
    "# Example usage\n",
    "N = 4\n",
    "D = 2\n",
    "salaries = [4, 4, 5, 4]\n",
    "\n",
    "result = min_tax(N, D, salaries)\n",
    "print(\"The minimum sum of tax that you will need:\", result)\n"
   ]
  },
  {
   "cell_type": "code",
   "execution_count": 69,
   "id": "945fdfa3",
   "metadata": {},
   "outputs": [
    {
     "name": "stdout",
     "output_type": "stream",
     "text": [
      "The minimum sum of tax that you will need: 9\n"
     ]
    }
   ],
   "source": [
    "def salaryMin(N, D, A):\n",
    "    x = 0\n",
    "    for i in range(N):\n",
    "        x += A[i]-(N//D)\n",
    "    return x\n",
    "\n",
    "# Example usage\n",
    "N = 4\n",
    "D = 2\n",
    "salaries = [4, 4, 5, 4]\n",
    "\n",
    "result = salaryMin(N, D, salaries)\n",
    "print(\"The minimum sum of tax that you will need:\", result)\n"
   ]
  },
  {
   "cell_type": "code",
   "execution_count": null,
   "id": "04057ab4",
   "metadata": {},
   "outputs": [],
   "source": []
  }
 ],
 "metadata": {
  "kernelspec": {
   "display_name": "Python 3 (ipykernel)",
   "language": "python",
   "name": "python3"
  },
  "language_info": {
   "codemirror_mode": {
    "name": "ipython",
    "version": 3
   },
   "file_extension": ".py",
   "mimetype": "text/x-python",
   "name": "python",
   "nbconvert_exporter": "python",
   "pygments_lexer": "ipython3",
   "version": "3.9.12"
  }
 },
 "nbformat": 4,
 "nbformat_minor": 5
}
